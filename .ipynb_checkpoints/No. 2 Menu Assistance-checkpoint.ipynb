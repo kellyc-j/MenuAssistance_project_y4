{
 "cells": [
  {
   "cell_type": "markdown",
   "id": "6589417a",
   "metadata": {},
   "source": [
    "## Problem Solving In Industry"
   ]
  },
  {
   "cell_type": "markdown",
   "id": "1a2c1251",
   "metadata": {},
   "source": [
    "### Project: Menu Assistance "
   ]
  },
  {
   "cell_type": "markdown",
   "id": "5276ad09",
   "metadata": {},
   "source": [
    "Kelly and Leo"
   ]
  },
  {
   "cell_type": "code",
   "execution_count": 1,
   "id": "bf517f30",
   "metadata": {},
   "outputs": [],
   "source": [
    "#libraries to be used in the project\n",
    "import pandas as pd\n",
    "import seaborn as sns\n",
    "import numpy as np\n",
    "import matplotlib as mpl\n",
    "import matplotlib.pyplot as plt\n",
    "%matplotlib inline "
   ]
  },
  {
   "cell_type": "markdown",
   "id": "097bb9de",
   "metadata": {},
   "source": [
    "------\n",
    "#### Grocery dataset\n",
    "Ref.(kaggle.com, Mohamed Harris)"
   ]
  },
  {
   "cell_type": "code",
   "execution_count": 2,
   "id": "5cd4cd4c",
   "metadata": {
    "scrolled": true
   },
   "outputs": [
    {
     "data": {
      "text/html": [
       "<div>\n",
       "<style scoped>\n",
       "    .dataframe tbody tr th:only-of-type {\n",
       "        vertical-align: middle;\n",
       "    }\n",
       "\n",
       "    .dataframe tbody tr th {\n",
       "        vertical-align: top;\n",
       "    }\n",
       "\n",
       "    .dataframe thead th {\n",
       "        text-align: right;\n",
       "    }\n",
       "</style>\n",
       "<table border=\"1\" class=\"dataframe\">\n",
       "  <thead>\n",
       "    <tr style=\"text-align: right;\">\n",
       "      <th></th>\n",
       "      <th>Order ID</th>\n",
       "      <th>Customer Name</th>\n",
       "      <th>Category</th>\n",
       "      <th>Sub Category</th>\n",
       "      <th>City</th>\n",
       "      <th>Order Date</th>\n",
       "      <th>Region</th>\n",
       "      <th>Sales</th>\n",
       "      <th>Discount</th>\n",
       "      <th>Profit</th>\n",
       "      <th>State</th>\n",
       "    </tr>\n",
       "  </thead>\n",
       "  <tbody>\n",
       "    <tr>\n",
       "      <th>0</th>\n",
       "      <td>OD1</td>\n",
       "      <td>Harish</td>\n",
       "      <td>Oil &amp; Masala</td>\n",
       "      <td>Masalas</td>\n",
       "      <td>Vellore</td>\n",
       "      <td>11-08-2017</td>\n",
       "      <td>North</td>\n",
       "      <td>1254</td>\n",
       "      <td>0.12</td>\n",
       "      <td>401.28</td>\n",
       "      <td>Tamil Nadu</td>\n",
       "    </tr>\n",
       "    <tr>\n",
       "      <th>1</th>\n",
       "      <td>OD2</td>\n",
       "      <td>Sudha</td>\n",
       "      <td>Beverages</td>\n",
       "      <td>Health Drinks</td>\n",
       "      <td>Krishnagiri</td>\n",
       "      <td>11-08-2017</td>\n",
       "      <td>South</td>\n",
       "      <td>749</td>\n",
       "      <td>0.18</td>\n",
       "      <td>149.80</td>\n",
       "      <td>Tamil Nadu</td>\n",
       "    </tr>\n",
       "    <tr>\n",
       "      <th>2</th>\n",
       "      <td>OD3</td>\n",
       "      <td>Hussain</td>\n",
       "      <td>Food Grains</td>\n",
       "      <td>Atta &amp; Flour</td>\n",
       "      <td>Perambalur</td>\n",
       "      <td>06-12-2017</td>\n",
       "      <td>West</td>\n",
       "      <td>2360</td>\n",
       "      <td>0.21</td>\n",
       "      <td>165.20</td>\n",
       "      <td>Tamil Nadu</td>\n",
       "    </tr>\n",
       "    <tr>\n",
       "      <th>3</th>\n",
       "      <td>OD4</td>\n",
       "      <td>Jackson</td>\n",
       "      <td>Fruits &amp; Veggies</td>\n",
       "      <td>Fresh Vegetables</td>\n",
       "      <td>Dharmapuri</td>\n",
       "      <td>10-11-2016</td>\n",
       "      <td>South</td>\n",
       "      <td>896</td>\n",
       "      <td>0.25</td>\n",
       "      <td>89.60</td>\n",
       "      <td>Tamil Nadu</td>\n",
       "    </tr>\n",
       "    <tr>\n",
       "      <th>4</th>\n",
       "      <td>OD5</td>\n",
       "      <td>Ridhesh</td>\n",
       "      <td>Food Grains</td>\n",
       "      <td>Organic Staples</td>\n",
       "      <td>Ooty</td>\n",
       "      <td>10-11-2016</td>\n",
       "      <td>South</td>\n",
       "      <td>2355</td>\n",
       "      <td>0.26</td>\n",
       "      <td>918.45</td>\n",
       "      <td>Tamil Nadu</td>\n",
       "    </tr>\n",
       "  </tbody>\n",
       "</table>\n",
       "</div>"
      ],
      "text/plain": [
       "  Order ID Customer Name          Category      Sub Category         City  \\\n",
       "0      OD1        Harish      Oil & Masala           Masalas      Vellore   \n",
       "1      OD2         Sudha         Beverages     Health Drinks  Krishnagiri   \n",
       "2      OD3       Hussain       Food Grains      Atta & Flour   Perambalur   \n",
       "3      OD4       Jackson  Fruits & Veggies  Fresh Vegetables   Dharmapuri   \n",
       "4      OD5       Ridhesh       Food Grains   Organic Staples         Ooty   \n",
       "\n",
       "   Order Date Region  Sales  Discount  Profit       State  \n",
       "0  11-08-2017  North   1254      0.12  401.28  Tamil Nadu  \n",
       "1  11-08-2017  South    749      0.18  149.80  Tamil Nadu  \n",
       "2  06-12-2017   West   2360      0.21  165.20  Tamil Nadu  \n",
       "3  10-11-2016  South    896      0.25   89.60  Tamil Nadu  \n",
       "4  10-11-2016  South   2355      0.26  918.45  Tamil Nadu  "
      ]
     },
     "execution_count": 2,
     "metadata": {},
     "output_type": "execute_result"
    }
   ],
   "source": [
    "datagrocery = pd.read_csv(\"Supermart Grocery Sales - Retail Analytics Dataset.csv\")\n",
    "datagrocery.head()"
   ]
  },
  {
   "cell_type": "code",
   "execution_count": 3,
   "id": "243722b2",
   "metadata": {},
   "outputs": [
    {
     "data": {
      "text/plain": [
       "(9994, 11)"
      ]
     },
     "execution_count": 3,
     "metadata": {},
     "output_type": "execute_result"
    }
   ],
   "source": [
    "datagrocery.shape"
   ]
  },
  {
   "cell_type": "code",
   "execution_count": 4,
   "id": "866000b4",
   "metadata": {},
   "outputs": [
    {
     "name": "stdout",
     "output_type": "stream",
     "text": [
      "<class 'pandas.core.frame.DataFrame'>\n",
      "RangeIndex: 9994 entries, 0 to 9993\n",
      "Data columns (total 11 columns):\n",
      " #   Column         Non-Null Count  Dtype  \n",
      "---  ------         --------------  -----  \n",
      " 0   Order ID       9994 non-null   object \n",
      " 1   Customer Name  9994 non-null   object \n",
      " 2   Category       9994 non-null   object \n",
      " 3   Sub Category   9994 non-null   object \n",
      " 4   City           9994 non-null   object \n",
      " 5   Order Date     9994 non-null   object \n",
      " 6   Region         9994 non-null   object \n",
      " 7   Sales          9994 non-null   int64  \n",
      " 8   Discount       9994 non-null   float64\n",
      " 9   Profit         9994 non-null   float64\n",
      " 10  State          9994 non-null   object \n",
      "dtypes: float64(2), int64(1), object(8)\n",
      "memory usage: 859.0+ KB\n"
     ]
    }
   ],
   "source": [
    "datagrocery.info()"
   ]
  },
  {
   "cell_type": "code",
   "execution_count": 5,
   "id": "0b65af9e",
   "metadata": {
    "scrolled": false
   },
   "outputs": [
    {
     "data": {
      "text/plain": [
       "<bound method DataFrame.info of      Order ID Customer Name           Category      Sub Category         City  \\\n",
       "0         OD1        Harish       Oil & Masala           Masalas      Vellore   \n",
       "1         OD2         Sudha          Beverages     Health Drinks  Krishnagiri   \n",
       "2         OD3       Hussain        Food Grains      Atta & Flour   Perambalur   \n",
       "3         OD4       Jackson   Fruits & Veggies  Fresh Vegetables   Dharmapuri   \n",
       "4         OD5       Ridhesh        Food Grains   Organic Staples         Ooty   \n",
       "...       ...           ...                ...               ...          ...   \n",
       "9989   OD9990        Sudeep  Eggs, Meat & Fish              Eggs      Madurai   \n",
       "9990   OD9991          Alan             Bakery          Biscuits  Kanyakumari   \n",
       "9991   OD9992          Ravi        Food Grains              Rice         Bodi   \n",
       "9992   OD9993          Peer       Oil & Masala            Spices   Pudukottai   \n",
       "9993   OD9994        Ganesh        Food Grains      Atta & Flour  Tirunelveli   \n",
       "\n",
       "      Order Date Region  Sales  Discount  Profit       State  \n",
       "0     11-08-2017  North   1254      0.12  401.28  Tamil Nadu  \n",
       "1     11-08-2017  South    749      0.18  149.80  Tamil Nadu  \n",
       "2     06-12-2017   West   2360      0.21  165.20  Tamil Nadu  \n",
       "3     10-11-2016  South    896      0.25   89.60  Tamil Nadu  \n",
       "4     10-11-2016  South   2355      0.26  918.45  Tamil Nadu  \n",
       "...          ...    ...    ...       ...     ...         ...  \n",
       "9989  12/24/2015   West    945      0.16  359.10  Tamil Nadu  \n",
       "9990  07-12-2015   West   1195      0.26   71.70  Tamil Nadu  \n",
       "9991  06-06-2017   West   1567      0.16  501.44  Tamil Nadu  \n",
       "9992  10/16/2018   West   1659      0.15  597.24  Tamil Nadu  \n",
       "9993   4/17/2018   West   1034      0.28  165.44  Tamil Nadu  \n",
       "\n",
       "[9994 rows x 11 columns]>"
      ]
     },
     "execution_count": 5,
     "metadata": {},
     "output_type": "execute_result"
    }
   ],
   "source": [
    "datagrocery.info"
   ]
  },
  {
   "cell_type": "code",
   "execution_count": 6,
   "id": "7434fedf",
   "metadata": {},
   "outputs": [
    {
     "data": {
      "text/plain": [
       "Health Drinks         719\n",
       "Soft Drinks           681\n",
       "Cookies               520\n",
       "Breads & Buns         502\n",
       "Chocolates            499\n",
       "Noodles               495\n",
       "Masalas               463\n",
       "Biscuits              459\n",
       "Cakes                 452\n",
       "Edible Oil & Ghee     451\n",
       "Spices                447\n",
       "Mutton                394\n",
       "Eggs                  379\n",
       "Organic Staples       372\n",
       "Fresh Fruits          369\n",
       "Fish                  369\n",
       "Fresh Vegetables      354\n",
       "Atta & Flour          353\n",
       "Organic Fruits        348\n",
       "Chicken               348\n",
       "Organic Vegetables    347\n",
       "Dals & Pulses         343\n",
       "Rice                  330\n",
       "Name: Sub Category, dtype: int64"
      ]
     },
     "execution_count": 6,
     "metadata": {},
     "output_type": "execute_result"
    }
   ],
   "source": [
    "datagrocery['Sub Category'].value_counts()"
   ]
  },
  {
   "cell_type": "markdown",
   "id": "ebc1842e",
   "metadata": {},
   "source": [
    "-------\n",
    "#### Fruit and vegetables dataset"
   ]
  },
  {
   "cell_type": "code",
   "execution_count": 7,
   "id": "afb7301b",
   "metadata": {},
   "outputs": [
    {
     "data": {
      "text/html": [
       "<div>\n",
       "<style scoped>\n",
       "    .dataframe tbody tr th:only-of-type {\n",
       "        vertical-align: middle;\n",
       "    }\n",
       "\n",
       "    .dataframe tbody tr th {\n",
       "        vertical-align: top;\n",
       "    }\n",
       "\n",
       "    .dataframe thead th {\n",
       "        text-align: right;\n",
       "    }\n",
       "</style>\n",
       "<table border=\"1\" class=\"dataframe\">\n",
       "  <thead>\n",
       "    <tr style=\"text-align: right;\">\n",
       "      <th></th>\n",
       "      <th>unit</th>\n",
       "      <th>n_portion</th>\n",
       "      <th>sex</th>\n",
       "      <th>age</th>\n",
       "      <th>country</th>\n",
       "      <th>time</th>\n",
       "      <th>value</th>\n",
       "    </tr>\n",
       "  </thead>\n",
       "  <tbody>\n",
       "    <tr>\n",
       "      <th>0</th>\n",
       "      <td>PC</td>\n",
       "      <td>0</td>\n",
       "      <td>F</td>\n",
       "      <td>TOTAL</td>\n",
       "      <td>AT</td>\n",
       "      <td>2019</td>\n",
       "      <td>29.1</td>\n",
       "    </tr>\n",
       "    <tr>\n",
       "      <th>1</th>\n",
       "      <td>PC</td>\n",
       "      <td>0</td>\n",
       "      <td>F</td>\n",
       "      <td>TOTAL</td>\n",
       "      <td>BE</td>\n",
       "      <td>2019</td>\n",
       "      <td>17.1</td>\n",
       "    </tr>\n",
       "    <tr>\n",
       "      <th>2</th>\n",
       "      <td>PC</td>\n",
       "      <td>0</td>\n",
       "      <td>F</td>\n",
       "      <td>TOTAL</td>\n",
       "      <td>BG</td>\n",
       "      <td>2019</td>\n",
       "      <td>54.2</td>\n",
       "    </tr>\n",
       "    <tr>\n",
       "      <th>3</th>\n",
       "      <td>PC</td>\n",
       "      <td>0</td>\n",
       "      <td>F</td>\n",
       "      <td>TOTAL</td>\n",
       "      <td>CY</td>\n",
       "      <td>2019</td>\n",
       "      <td>32.7</td>\n",
       "    </tr>\n",
       "    <tr>\n",
       "      <th>4</th>\n",
       "      <td>PC</td>\n",
       "      <td>0</td>\n",
       "      <td>F</td>\n",
       "      <td>TOTAL</td>\n",
       "      <td>CZ</td>\n",
       "      <td>2019</td>\n",
       "      <td>49.6</td>\n",
       "    </tr>\n",
       "  </tbody>\n",
       "</table>\n",
       "</div>"
      ],
      "text/plain": [
       "  unit n_portion sex    age country  time  value\n",
       "0   PC         0   F  TOTAL      AT  2019   29.1\n",
       "1   PC         0   F  TOTAL      BE  2019   17.1\n",
       "2   PC         0   F  TOTAL      BG  2019   54.2\n",
       "3   PC         0   F  TOTAL      CY  2019   32.7\n",
       "4   PC         0   F  TOTAL      CZ  2019   49.6"
      ]
     },
     "execution_count": 7,
     "metadata": {},
     "output_type": "execute_result"
    }
   ],
   "source": [
    "dataFruitVeg = pd.read_csv(\"daily_consumption_fruit_vegetables_eu.csv\")\n",
    "dataFruitVeg.head()"
   ]
  },
  {
   "cell_type": "code",
   "execution_count": 8,
   "id": "dc821e7d",
   "metadata": {},
   "outputs": [
    {
     "data": {
      "text/html": [
       "<div>\n",
       "<style scoped>\n",
       "    .dataframe tbody tr th:only-of-type {\n",
       "        vertical-align: middle;\n",
       "    }\n",
       "\n",
       "    .dataframe tbody tr th {\n",
       "        vertical-align: top;\n",
       "    }\n",
       "\n",
       "    .dataframe thead th {\n",
       "        text-align: right;\n",
       "    }\n",
       "</style>\n",
       "<table border=\"1\" class=\"dataframe\">\n",
       "  <thead>\n",
       "    <tr style=\"text-align: right;\">\n",
       "      <th></th>\n",
       "      <th>unit</th>\n",
       "      <th>n_portion</th>\n",
       "      <th>sex</th>\n",
       "      <th>age</th>\n",
       "      <th>country</th>\n",
       "      <th>time</th>\n",
       "      <th>value</th>\n",
       "    </tr>\n",
       "  </thead>\n",
       "  <tbody>\n",
       "    <tr>\n",
       "      <th>16</th>\n",
       "      <td>PC</td>\n",
       "      <td>0</td>\n",
       "      <td>F</td>\n",
       "      <td>TOTAL</td>\n",
       "      <td>IE</td>\n",
       "      <td>2019</td>\n",
       "      <td>24.5</td>\n",
       "    </tr>\n",
       "    <tr>\n",
       "      <th>49</th>\n",
       "      <td>PC</td>\n",
       "      <td>0</td>\n",
       "      <td>F</td>\n",
       "      <td>Y15-19</td>\n",
       "      <td>IE</td>\n",
       "      <td>2019</td>\n",
       "      <td>NaN</td>\n",
       "    </tr>\n",
       "    <tr>\n",
       "      <th>82</th>\n",
       "      <td>PC</td>\n",
       "      <td>0</td>\n",
       "      <td>F</td>\n",
       "      <td>Y15-24</td>\n",
       "      <td>IE</td>\n",
       "      <td>2019</td>\n",
       "      <td>27.3</td>\n",
       "    </tr>\n",
       "    <tr>\n",
       "      <th>116</th>\n",
       "      <td>PC</td>\n",
       "      <td>0</td>\n",
       "      <td>F</td>\n",
       "      <td>Y15-29</td>\n",
       "      <td>IE</td>\n",
       "      <td>2019</td>\n",
       "      <td>27.9</td>\n",
       "    </tr>\n",
       "    <tr>\n",
       "      <th>150</th>\n",
       "      <td>PC</td>\n",
       "      <td>0</td>\n",
       "      <td>F</td>\n",
       "      <td>Y15-44</td>\n",
       "      <td>IE</td>\n",
       "      <td>2019</td>\n",
       "      <td>NaN</td>\n",
       "    </tr>\n",
       "  </tbody>\n",
       "</table>\n",
       "</div>"
      ],
      "text/plain": [
       "    unit n_portion sex     age country  time  value\n",
       "16    PC         0   F   TOTAL      IE  2019   24.5\n",
       "49    PC         0   F  Y15-19      IE  2019    NaN\n",
       "82    PC         0   F  Y15-24      IE  2019   27.3\n",
       "116   PC         0   F  Y15-29      IE  2019   27.9\n",
       "150   PC         0   F  Y15-44      IE  2019    NaN"
      ]
     },
     "execution_count": 8,
     "metadata": {},
     "output_type": "execute_result"
    }
   ],
   "source": [
    "#isolate ireland \n",
    "IEfruit = dataFruitVeg.loc[dataFruitVeg['country'] == ('IE')]\n",
    "IEfruit.head()"
   ]
  },
  {
   "cell_type": "code",
   "execution_count": 9,
   "id": "f8141061",
   "metadata": {},
   "outputs": [
    {
     "data": {
      "text/plain": [
       "<AxesSubplot:ylabel='Frequency'>"
      ]
     },
     "execution_count": 9,
     "metadata": {},
     "output_type": "execute_result"
    },
    {
     "data": {
      "image/png": "[encoded data removed]",
      "text/plain": [
       "<Figure size 1080x720 with 1 Axes>"
      ]
     },
     "metadata": {
      "needs_background": "light"
     },
     "output_type": "display_data"
    }
   ],
   "source": [
    "IEfruit.plot(kind = 'hist', x='time', figsize=(15,10))"
   ]
  },
  {
   "cell_type": "code",
   "execution_count": 10,
   "id": "e2eba40b",
   "metadata": {},
   "outputs": [
    {
     "data": {
      "text/plain": [
       "2019    21744\n",
       "2014    21744\n",
       "Name: time, dtype: int64"
      ]
     },
     "execution_count": 10,
     "metadata": {},
     "output_type": "execute_result"
    }
   ],
   "source": [
    "dataFruitVeg['time'].value_counts()"
   ]
  },
  {
   "cell_type": "code",
   "execution_count": 11,
   "id": "8a6364f5",
   "metadata": {},
   "outputs": [
    {
     "data": {
      "text/plain": [
       "(43488, 7)"
      ]
     },
     "execution_count": 11,
     "metadata": {},
     "output_type": "execute_result"
    }
   ],
   "source": [
    "dataFruitVeg.shape"
   ]
  },
  {
   "cell_type": "code",
   "execution_count": 12,
   "id": "92319d1d",
   "metadata": {},
   "outputs": [
    {
     "name": "stdout",
     "output_type": "stream",
     "text": [
      "<class 'pandas.core.frame.DataFrame'>\n",
      "RangeIndex: 43488 entries, 0 to 43487\n",
      "Data columns (total 7 columns):\n",
      " #   Column     Non-Null Count  Dtype  \n",
      "---  ------     --------------  -----  \n",
      " 0   unit       43488 non-null  object \n",
      " 1   n_portion  43488 non-null  object \n",
      " 2   sex        43488 non-null  object \n",
      " 3   age        43488 non-null  object \n",
      " 4   country    43488 non-null  object \n",
      " 5   time       43488 non-null  int64  \n",
      " 6   value      35610 non-null  float64\n",
      "dtypes: float64(1), int64(1), object(5)\n",
      "memory usage: 2.3+ MB\n"
     ]
    }
   ],
   "source": [
    "#to check data types\n",
    "dataFruitVeg.info()"
   ]
  },
  {
   "cell_type": "markdown",
   "id": "f25d6b29",
   "metadata": {},
   "source": [
    "---------\n",
    "#### Fish and Seafood dataset"
   ]
  },
  {
   "cell_type": "code",
   "execution_count": 13,
   "id": "d9cf2442",
   "metadata": {},
   "outputs": [
    {
     "data": {
      "text/html": [
       "<div>\n",
       "<style scoped>\n",
       "    .dataframe tbody tr th:only-of-type {\n",
       "        vertical-align: middle;\n",
       "    }\n",
       "\n",
       "    .dataframe tbody tr th {\n",
       "        vertical-align: top;\n",
       "    }\n",
       "\n",
       "    .dataframe thead th {\n",
       "        text-align: right;\n",
       "    }\n",
       "</style>\n",
       "<table border=\"1\" class=\"dataframe\">\n",
       "  <thead>\n",
       "    <tr style=\"text-align: right;\">\n",
       "      <th></th>\n",
       "      <th>Entity</th>\n",
       "      <th>Code</th>\n",
       "      <th>Year</th>\n",
       "      <th>Fish, Seafood- Food supply quantity (kg/capita/yr) (FAO, 2020)</th>\n",
       "    </tr>\n",
       "  </thead>\n",
       "  <tbody>\n",
       "    <tr>\n",
       "      <th>0</th>\n",
       "      <td>Afghanistan</td>\n",
       "      <td>AFG</td>\n",
       "      <td>1961</td>\n",
       "      <td>0.03</td>\n",
       "    </tr>\n",
       "    <tr>\n",
       "      <th>1</th>\n",
       "      <td>Afghanistan</td>\n",
       "      <td>AFG</td>\n",
       "      <td>1962</td>\n",
       "      <td>0.03</td>\n",
       "    </tr>\n",
       "    <tr>\n",
       "      <th>2</th>\n",
       "      <td>Afghanistan</td>\n",
       "      <td>AFG</td>\n",
       "      <td>1963</td>\n",
       "      <td>0.03</td>\n",
       "    </tr>\n",
       "    <tr>\n",
       "      <th>3</th>\n",
       "      <td>Afghanistan</td>\n",
       "      <td>AFG</td>\n",
       "      <td>1964</td>\n",
       "      <td>0.03</td>\n",
       "    </tr>\n",
       "    <tr>\n",
       "      <th>4</th>\n",
       "      <td>Afghanistan</td>\n",
       "      <td>AFG</td>\n",
       "      <td>1965</td>\n",
       "      <td>0.03</td>\n",
       "    </tr>\n",
       "  </tbody>\n",
       "</table>\n",
       "</div>"
      ],
      "text/plain": [
       "        Entity Code  Year  \\\n",
       "0  Afghanistan  AFG  1961   \n",
       "1  Afghanistan  AFG  1962   \n",
       "2  Afghanistan  AFG  1963   \n",
       "3  Afghanistan  AFG  1964   \n",
       "4  Afghanistan  AFG  1965   \n",
       "\n",
       "   Fish, Seafood- Food supply quantity (kg/capita/yr) (FAO, 2020)  \n",
       "0                                               0.03               \n",
       "1                                               0.03               \n",
       "2                                               0.03               \n",
       "3                                               0.03               \n",
       "4                                               0.03               "
      ]
     },
     "execution_count": 13,
     "metadata": {},
     "output_type": "execute_result"
    }
   ],
   "source": [
    "dataFish = pd.read_csv(\"fish-and-seafood-consumption-per-capita.csv\")\n",
    "dataFish.head()"
   ]
  },
  {
   "cell_type": "code",
   "execution_count": 14,
   "id": "0beeb5cb",
   "metadata": {
    "scrolled": true
   },
   "outputs": [
    {
     "data": {
      "text/plain": [
       "(11028, 4)"
      ]
     },
     "execution_count": 14,
     "metadata": {},
     "output_type": "execute_result"
    }
   ],
   "source": [
    "dataFish.shape"
   ]
  },
  {
   "cell_type": "code",
   "execution_count": 15,
   "id": "750f619a",
   "metadata": {
    "scrolled": true
   },
   "outputs": [
    {
     "name": "stdout",
     "output_type": "stream",
     "text": [
      "<class 'pandas.core.frame.DataFrame'>\n",
      "RangeIndex: 11028 entries, 0 to 11027\n",
      "Data columns (total 4 columns):\n",
      " #   Column                                                          Non-Null Count  Dtype  \n",
      "---  ------                                                          --------------  -----  \n",
      " 0   Entity                                                          11028 non-null  object \n",
      " 1   Code                                                            9294 non-null   object \n",
      " 2   Year                                                            11028 non-null  int64  \n",
      " 3   Fish, Seafood- Food supply quantity (kg/capita/yr) (FAO, 2020)  11028 non-null  float64\n",
      "dtypes: float64(1), int64(1), object(2)\n",
      "memory usage: 344.8+ KB\n"
     ]
    }
   ],
   "source": [
    "#to check data types\n",
    "dataFish.info()"
   ]
  },
  {
   "cell_type": "code",
   "execution_count": 16,
   "id": "3c58dbe0",
   "metadata": {
    "scrolled": true
   },
   "outputs": [
    {
     "data": {
      "text/plain": [
       "Afghanistan              57\n",
       "Namibia                  57\n",
       "Malta                    57\n",
       "Mauritania               57\n",
       "Mauritius                57\n",
       "                         ..\n",
       "Belgium                  18\n",
       "Serbia and Montenegro    14\n",
       "Montenegro               12\n",
       "Serbia                   12\n",
       "Sudan                     6\n",
       "Name: Entity, Length: 216, dtype: int64"
      ]
     },
     "execution_count": 16,
     "metadata": {},
     "output_type": "execute_result"
    }
   ],
   "source": [
    "#check if ireland is included\n",
    "dataFish['Entity'].value_counts()"
   ]
  },
  {
   "cell_type": "code",
   "execution_count": 48,
   "id": "b76ea397",
   "metadata": {},
   "outputs": [],
   "source": [
    "#dataFish['Year'].value_counts()"
   ]
  },
  {
   "cell_type": "code",
   "execution_count": 18,
   "id": "40f28869",
   "metadata": {},
   "outputs": [],
   "source": [
    "dataFish.set_index('Entity', inplace=True)"
   ]
  },
  {
   "cell_type": "code",
   "execution_count": 19,
   "id": "ae5d2841",
   "metadata": {
    "scrolled": false
   },
   "outputs": [],
   "source": [
    "#Checking a particular row\n",
    "#print(dataFish.loc['Ireland'])"
   ]
  },
  {
   "cell_type": "code",
   "execution_count": 20,
   "id": "7fecd591",
   "metadata": {},
   "outputs": [
    {
     "data": {
      "text/html": [
       "<div>\n",
       "<style scoped>\n",
       "    .dataframe tbody tr th:only-of-type {\n",
       "        vertical-align: middle;\n",
       "    }\n",
       "\n",
       "    .dataframe tbody tr th {\n",
       "        vertical-align: top;\n",
       "    }\n",
       "\n",
       "    .dataframe thead th {\n",
       "        text-align: right;\n",
       "    }\n",
       "</style>\n",
       "<table border=\"1\" class=\"dataframe\">\n",
       "  <thead>\n",
       "    <tr style=\"text-align: right;\">\n",
       "      <th></th>\n",
       "      <th>Code</th>\n",
       "      <th>Year</th>\n",
       "      <th>Fish, Seafood- Food supply quantity (kg/capita/yr) (FAO, 2020)</th>\n",
       "    </tr>\n",
       "    <tr>\n",
       "      <th>Entity</th>\n",
       "      <th></th>\n",
       "      <th></th>\n",
       "      <th></th>\n",
       "    </tr>\n",
       "  </thead>\n",
       "  <tbody>\n",
       "    <tr>\n",
       "      <th>Ireland</th>\n",
       "      <td>IRL</td>\n",
       "      <td>1961</td>\n",
       "      <td>7.10</td>\n",
       "    </tr>\n",
       "    <tr>\n",
       "      <th>Ireland</th>\n",
       "      <td>IRL</td>\n",
       "      <td>1962</td>\n",
       "      <td>7.28</td>\n",
       "    </tr>\n",
       "    <tr>\n",
       "      <th>Ireland</th>\n",
       "      <td>IRL</td>\n",
       "      <td>1963</td>\n",
       "      <td>8.12</td>\n",
       "    </tr>\n",
       "    <tr>\n",
       "      <th>Ireland</th>\n",
       "      <td>IRL</td>\n",
       "      <td>1964</td>\n",
       "      <td>8.59</td>\n",
       "    </tr>\n",
       "    <tr>\n",
       "      <th>Ireland</th>\n",
       "      <td>IRL</td>\n",
       "      <td>1965</td>\n",
       "      <td>9.56</td>\n",
       "    </tr>\n",
       "  </tbody>\n",
       "</table>\n",
       "</div>"
      ],
      "text/plain": [
       "        Code  Year  \\\n",
       "Entity               \n",
       "Ireland  IRL  1961   \n",
       "Ireland  IRL  1962   \n",
       "Ireland  IRL  1963   \n",
       "Ireland  IRL  1964   \n",
       "Ireland  IRL  1965   \n",
       "\n",
       "         Fish, Seafood- Food supply quantity (kg/capita/yr) (FAO, 2020)  \n",
       "Entity                                                                   \n",
       "Ireland                                               7.10               \n",
       "Ireland                                               7.28               \n",
       "Ireland                                               8.12               \n",
       "Ireland                                               8.59               \n",
       "Ireland                                               9.56               "
      ]
     },
     "execution_count": 20,
     "metadata": {},
     "output_type": "execute_result"
    }
   ],
   "source": [
    "#isolate ireland \n",
    "IEdataFish = dataFish.loc[dataFish['Code'] == ('IRL')]\n",
    "IEdataFish.head()"
   ]
  },
  {
   "cell_type": "code",
   "execution_count": 21,
   "id": "9730b834",
   "metadata": {},
   "outputs": [
    {
     "data": {
      "text/plain": [
       "<AxesSubplot:xlabel='Year'>"
      ]
     },
     "execution_count": 21,
     "metadata": {},
     "output_type": "execute_result"
    },
    {
     "data": {
      "image/png": "[encoded data removed]",
      "text/plain": [
       "<Figure size 1080x720 with 1 Axes>"
      ]
     },
     "metadata": {
      "needs_background": "light"
     },
     "output_type": "display_data"
    }
   ],
   "source": [
    "IEdataFish.plot(kind = 'bar', x='Year', figsize=(15,10))"
   ]
  },
  {
   "cell_type": "markdown",
   "id": "3223be59",
   "metadata": {},
   "source": [
    "--------\n",
    "#### Food (general) dataset"
   ]
  },
  {
   "cell_type": "code",
   "execution_count": 22,
   "id": "03820e0c",
   "metadata": {},
   "outputs": [],
   "source": [
    "#dataFood = pd.read_csv(\"food_coded.csv\")\n",
    "#dataFood.head()"
   ]
  },
  {
   "cell_type": "code",
   "execution_count": 23,
   "id": "b848091c",
   "metadata": {},
   "outputs": [],
   "source": [
    "#dataFood.shape"
   ]
  },
  {
   "cell_type": "code",
   "execution_count": 24,
   "id": "9ef6868b",
   "metadata": {},
   "outputs": [],
   "source": [
    "#to check data types\n",
    "#dataFood.info()"
   ]
  },
  {
   "cell_type": "markdown",
   "id": "969fa615",
   "metadata": {},
   "source": [
    "--------\n",
    "#### Different types of meat dataset"
   ]
  },
  {
   "cell_type": "code",
   "execution_count": 25,
   "id": "f9bba106",
   "metadata": {},
   "outputs": [
    {
     "data": {
      "text/html": [
       "<div>\n",
       "<style scoped>\n",
       "    .dataframe tbody tr th:only-of-type {\n",
       "        vertical-align: middle;\n",
       "    }\n",
       "\n",
       "    .dataframe tbody tr th {\n",
       "        vertical-align: top;\n",
       "    }\n",
       "\n",
       "    .dataframe thead th {\n",
       "        text-align: right;\n",
       "    }\n",
       "</style>\n",
       "<table border=\"1\" class=\"dataframe\">\n",
       "  <thead>\n",
       "    <tr style=\"text-align: right;\">\n",
       "      <th></th>\n",
       "      <th>STATISTIC</th>\n",
       "      <th>Statistic Label</th>\n",
       "      <th>TLIST(A1)</th>\n",
       "      <th>Year</th>\n",
       "      <th>C02062V02489</th>\n",
       "      <th>Type of Meat</th>\n",
       "      <th>UNIT</th>\n",
       "      <th>VALUE</th>\n",
       "    </tr>\n",
       "  </thead>\n",
       "  <tbody>\n",
       "    <tr>\n",
       "      <th>0</th>\n",
       "      <td>ABA06C01</td>\n",
       "      <td>Meat Slaughterings</td>\n",
       "      <td>2012</td>\n",
       "      <td>2012</td>\n",
       "      <td>-</td>\n",
       "      <td>Total Meat</td>\n",
       "      <td>000 Tonnes</td>\n",
       "      <td>923.0</td>\n",
       "    </tr>\n",
       "    <tr>\n",
       "      <th>1</th>\n",
       "      <td>ABA06C01</td>\n",
       "      <td>Meat Slaughterings</td>\n",
       "      <td>2012</td>\n",
       "      <td>2012</td>\n",
       "      <td>01</td>\n",
       "      <td>Beef and veal</td>\n",
       "      <td>000 Tonnes</td>\n",
       "      <td>495.0</td>\n",
       "    </tr>\n",
       "    <tr>\n",
       "      <th>2</th>\n",
       "      <td>ABA06C01</td>\n",
       "      <td>Meat Slaughterings</td>\n",
       "      <td>2012</td>\n",
       "      <td>2012</td>\n",
       "      <td>02</td>\n",
       "      <td>Pig meat</td>\n",
       "      <td>000 Tonnes</td>\n",
       "      <td>241.0</td>\n",
       "    </tr>\n",
       "    <tr>\n",
       "      <th>3</th>\n",
       "      <td>ABA06C01</td>\n",
       "      <td>Meat Slaughterings</td>\n",
       "      <td>2012</td>\n",
       "      <td>2012</td>\n",
       "      <td>03</td>\n",
       "      <td>Sheep meat</td>\n",
       "      <td>000 Tonnes</td>\n",
       "      <td>54.0</td>\n",
       "    </tr>\n",
       "    <tr>\n",
       "      <th>4</th>\n",
       "      <td>ABA06C01</td>\n",
       "      <td>Meat Slaughterings</td>\n",
       "      <td>2012</td>\n",
       "      <td>2012</td>\n",
       "      <td>04</td>\n",
       "      <td>Poultry meat</td>\n",
       "      <td>000 Tonnes</td>\n",
       "      <td>132.0</td>\n",
       "    </tr>\n",
       "  </tbody>\n",
       "</table>\n",
       "</div>"
      ],
      "text/plain": [
       "  STATISTIC     Statistic Label  TLIST(A1)  Year C02062V02489   Type of Meat  \\\n",
       "0  ABA06C01  Meat Slaughterings       2012  2012            -     Total Meat   \n",
       "1  ABA06C01  Meat Slaughterings       2012  2012           01  Beef and veal   \n",
       "2  ABA06C01  Meat Slaughterings       2012  2012           02       Pig meat   \n",
       "3  ABA06C01  Meat Slaughterings       2012  2012           03     Sheep meat   \n",
       "4  ABA06C01  Meat Slaughterings       2012  2012           04   Poultry meat   \n",
       "\n",
       "         UNIT  VALUE  \n",
       "0  000 Tonnes  923.0  \n",
       "1  000 Tonnes  495.0  \n",
       "2  000 Tonnes  241.0  \n",
       "3  000 Tonnes   54.0  \n",
       "4  000 Tonnes  132.0  "
      ]
     },
     "execution_count": 25,
     "metadata": {},
     "output_type": "execute_result"
    }
   ],
   "source": [
    "dataMeat = pd.read_csv(\"meat-types.csv\") \n",
    "dataMeat.head()"
   ]
  },
  {
   "cell_type": "code",
   "execution_count": 26,
   "id": "0bb3e786",
   "metadata": {},
   "outputs": [
    {
     "data": {
      "text/plain": [
       "2012    45\n",
       "2013    45\n",
       "2014    45\n",
       "2015    45\n",
       "2016    45\n",
       "2017    45\n",
       "2018    45\n",
       "2019    45\n",
       "2020    45\n",
       "2021    45\n",
       "Name: Year, dtype: int64"
      ]
     },
     "execution_count": 26,
     "metadata": {},
     "output_type": "execute_result"
    }
   ],
   "source": [
    "dataMeat['Year'].value_counts()"
   ]
  },
  {
   "cell_type": "code",
   "execution_count": 27,
   "id": "c05be37c",
   "metadata": {},
   "outputs": [
    {
     "data": {
      "text/plain": [
       "(450, 8)"
      ]
     },
     "execution_count": 27,
     "metadata": {},
     "output_type": "execute_result"
    }
   ],
   "source": [
    "dataMeat.shape"
   ]
  },
  {
   "cell_type": "code",
   "execution_count": 28,
   "id": "fab67109",
   "metadata": {},
   "outputs": [
    {
     "name": "stdout",
     "output_type": "stream",
     "text": [
      "<class 'pandas.core.frame.DataFrame'>\n",
      "RangeIndex: 450 entries, 0 to 449\n",
      "Data columns (total 8 columns):\n",
      " #   Column           Non-Null Count  Dtype  \n",
      "---  ------           --------------  -----  \n",
      " 0   STATISTIC        450 non-null    object \n",
      " 1   Statistic Label  450 non-null    object \n",
      " 2   TLIST(A1)        450 non-null    int64  \n",
      " 3   Year             450 non-null    int64  \n",
      " 4   C02062V02489     450 non-null    object \n",
      " 5   Type of Meat     450 non-null    object \n",
      " 6   UNIT             450 non-null    object \n",
      " 7   VALUE            450 non-null    float64\n",
      "dtypes: float64(1), int64(2), object(5)\n",
      "memory usage: 28.2+ KB\n"
     ]
    }
   ],
   "source": [
    "#to check data types\n",
    "dataMeat.info()"
   ]
  },
  {
   "cell_type": "code",
   "execution_count": 29,
   "id": "498cdc50",
   "metadata": {},
   "outputs": [
    {
     "data": {
      "text/plain": [
       "<AxesSubplot:ylabel='Density'>"
      ]
     },
     "execution_count": 29,
     "metadata": {},
     "output_type": "execute_result"
    },
    {
     "data": {
      "image/png": "[encoded data removed]",
      "text/plain": [
       "<Figure size 1080x720 with 1 Axes>"
      ]
     },
     "metadata": {
      "needs_background": "light"
     },
     "output_type": "display_data"
    }
   ],
   "source": [
    "dataMeat.plot(kind = 'kde', x='Year', y='VALUE', figsize=(15,10))"
   ]
  },
  {
   "cell_type": "markdown",
   "id": "c666b498",
   "metadata": {},
   "source": [
    "Meat consumption by different types of meat dataset"
   ]
  },
  {
   "cell_type": "code",
   "execution_count": 30,
   "id": "9bc02cf4",
   "metadata": {},
   "outputs": [
    {
     "data": {
      "text/html": [
       "<div>\n",
       "<style scoped>\n",
       "    .dataframe tbody tr th:only-of-type {\n",
       "        vertical-align: middle;\n",
       "    }\n",
       "\n",
       "    .dataframe tbody tr th {\n",
       "        vertical-align: top;\n",
       "    }\n",
       "\n",
       "    .dataframe thead th {\n",
       "        text-align: right;\n",
       "    }\n",
       "</style>\n",
       "<table border=\"1\" class=\"dataframe\">\n",
       "  <thead>\n",
       "    <tr style=\"text-align: right;\">\n",
       "      <th></th>\n",
       "      <th>LOCATION</th>\n",
       "      <th>SUBJECT</th>\n",
       "      <th>MEASURE</th>\n",
       "      <th>TIME</th>\n",
       "      <th>Value</th>\n",
       "    </tr>\n",
       "  </thead>\n",
       "  <tbody>\n",
       "    <tr>\n",
       "      <th>0</th>\n",
       "      <td>AUS</td>\n",
       "      <td>BEEF</td>\n",
       "      <td>KG_CAP</td>\n",
       "      <td>1991</td>\n",
       "      <td>27.721815</td>\n",
       "    </tr>\n",
       "    <tr>\n",
       "      <th>1</th>\n",
       "      <td>AUS</td>\n",
       "      <td>BEEF</td>\n",
       "      <td>KG_CAP</td>\n",
       "      <td>1992</td>\n",
       "      <td>26.199591</td>\n",
       "    </tr>\n",
       "    <tr>\n",
       "      <th>2</th>\n",
       "      <td>AUS</td>\n",
       "      <td>BEEF</td>\n",
       "      <td>KG_CAP</td>\n",
       "      <td>1993</td>\n",
       "      <td>26.169094</td>\n",
       "    </tr>\n",
       "    <tr>\n",
       "      <th>3</th>\n",
       "      <td>AUS</td>\n",
       "      <td>BEEF</td>\n",
       "      <td>KG_CAP</td>\n",
       "      <td>1994</td>\n",
       "      <td>25.456134</td>\n",
       "    </tr>\n",
       "    <tr>\n",
       "      <th>4</th>\n",
       "      <td>AUS</td>\n",
       "      <td>BEEF</td>\n",
       "      <td>KG_CAP</td>\n",
       "      <td>1995</td>\n",
       "      <td>25.340226</td>\n",
       "    </tr>\n",
       "  </tbody>\n",
       "</table>\n",
       "</div>"
      ],
      "text/plain": [
       "  LOCATION SUBJECT MEASURE  TIME      Value\n",
       "0      AUS    BEEF  KG_CAP  1991  27.721815\n",
       "1      AUS    BEEF  KG_CAP  1992  26.199591\n",
       "2      AUS    BEEF  KG_CAP  1993  26.169094\n",
       "3      AUS    BEEF  KG_CAP  1994  25.456134\n",
       "4      AUS    BEEF  KG_CAP  1995  25.340226"
      ]
     },
     "execution_count": 30,
     "metadata": {},
     "output_type": "execute_result"
    }
   ],
   "source": [
    "dataMeatCon = pd.read_csv(\"meat_consumption_worldwide.csv\") \n",
    "dataMeatCon.head()"
   ]
  },
  {
   "cell_type": "code",
   "execution_count": 49,
   "id": "550eb40e",
   "metadata": {
    "scrolled": true
   },
   "outputs": [],
   "source": [
    "#dataMeatCon['TIME'].value_counts()"
   ]
  },
  {
   "cell_type": "code",
   "execution_count": 32,
   "id": "02945a90",
   "metadata": {},
   "outputs": [],
   "source": [
    "#dataMeatCon['LOCATION'].value_counts()"
   ]
  },
  {
   "cell_type": "code",
   "execution_count": 33,
   "id": "2495231b",
   "metadata": {
    "scrolled": true
   },
   "outputs": [
    {
     "data": {
      "text/html": [
       "<div>\n",
       "<style scoped>\n",
       "    .dataframe tbody tr th:only-of-type {\n",
       "        vertical-align: middle;\n",
       "    }\n",
       "\n",
       "    .dataframe tbody tr th {\n",
       "        vertical-align: top;\n",
       "    }\n",
       "\n",
       "    .dataframe thead th {\n",
       "        text-align: right;\n",
       "    }\n",
       "</style>\n",
       "<table border=\"1\" class=\"dataframe\">\n",
       "  <thead>\n",
       "    <tr style=\"text-align: right;\">\n",
       "      <th></th>\n",
       "      <th>LOCATION</th>\n",
       "      <th>SUBJECT</th>\n",
       "      <th>MEASURE</th>\n",
       "      <th>TIME</th>\n",
       "      <th>Value</th>\n",
       "    </tr>\n",
       "  </thead>\n",
       "  <tbody>\n",
       "    <tr>\n",
       "      <th>6580</th>\n",
       "      <td>EU28</td>\n",
       "      <td>BEEF</td>\n",
       "      <td>KG_CAP</td>\n",
       "      <td>2000</td>\n",
       "      <td>12.677364</td>\n",
       "    </tr>\n",
       "    <tr>\n",
       "      <th>6581</th>\n",
       "      <td>EU28</td>\n",
       "      <td>BEEF</td>\n",
       "      <td>KG_CAP</td>\n",
       "      <td>2001</td>\n",
       "      <td>12.009464</td>\n",
       "    </tr>\n",
       "    <tr>\n",
       "      <th>6582</th>\n",
       "      <td>EU28</td>\n",
       "      <td>BEEF</td>\n",
       "      <td>KG_CAP</td>\n",
       "      <td>2002</td>\n",
       "      <td>12.535008</td>\n",
       "    </tr>\n",
       "    <tr>\n",
       "      <th>6583</th>\n",
       "      <td>EU28</td>\n",
       "      <td>BEEF</td>\n",
       "      <td>KG_CAP</td>\n",
       "      <td>2003</td>\n",
       "      <td>12.314197</td>\n",
       "    </tr>\n",
       "    <tr>\n",
       "      <th>6584</th>\n",
       "      <td>EU28</td>\n",
       "      <td>BEEF</td>\n",
       "      <td>KG_CAP</td>\n",
       "      <td>2004</td>\n",
       "      <td>12.520383</td>\n",
       "    </tr>\n",
       "  </tbody>\n",
       "</table>\n",
       "</div>"
      ],
      "text/plain": [
       "     LOCATION SUBJECT MEASURE  TIME      Value\n",
       "6580     EU28    BEEF  KG_CAP  2000  12.677364\n",
       "6581     EU28    BEEF  KG_CAP  2001  12.009464\n",
       "6582     EU28    BEEF  KG_CAP  2002  12.535008\n",
       "6583     EU28    BEEF  KG_CAP  2003  12.314197\n",
       "6584     EU28    BEEF  KG_CAP  2004  12.520383"
      ]
     },
     "execution_count": 33,
     "metadata": {},
     "output_type": "execute_result"
    }
   ],
   "source": [
    "#isolate EU \n",
    "EUdataMeatcon = dataMeatCon.loc[dataMeatCon['LOCATION'] == ('EU28')]\n",
    "EUdataMeatcon.head()"
   ]
  },
  {
   "cell_type": "code",
   "execution_count": 34,
   "id": "3e3dcf49",
   "metadata": {
    "scrolled": false
   },
   "outputs": [
    {
     "data": {
      "text/plain": [
       "<AxesSubplot:ylabel='Density'>"
      ]
     },
     "execution_count": 34,
     "metadata": {},
     "output_type": "execute_result"
    },
    {
     "data": {
      "image/png": "[encoded data removed]",
      "text/plain": [
       "<Figure size 1080x720 with 1 Axes>"
      ]
     },
     "metadata": {
      "needs_background": "light"
     },
     "output_type": "display_data"
    }
   ],
   "source": [
    "EUdataMeatcon.plot(kind = 'kde', x='TIME', y='Value', figsize=(15,10))"
   ]
  },
  {
   "cell_type": "code",
   "execution_count": 35,
   "id": "8b934480",
   "metadata": {
    "scrolled": true
   },
   "outputs": [
    {
     "data": {
      "image/png": "[encoded data removed]",
      "text/plain": [
       "<Figure size 432x432 with 3 Axes>"
      ]
     },
     "metadata": {
      "needs_background": "light"
     },
     "output_type": "display_data"
    }
   ],
   "source": [
    "#sns.distplot(EUdataMeatcon.TIME)\n",
    "sns.jointplot(x=\"SUBJECT\", y=\"TIME\", data=EUdataMeatcon);"
   ]
  },
  {
   "cell_type": "code",
   "execution_count": 36,
   "id": "be85bd43",
   "metadata": {},
   "outputs": [],
   "source": [
    "#!pip install altair"
   ]
  },
  {
   "cell_type": "code",
   "execution_count": 37,
   "id": "fc2d5949",
   "metadata": {},
   "outputs": [],
   "source": [
    "import altair as alt"
   ]
  },
  {
   "cell_type": "code",
   "execution_count": 38,
   "id": "56b4f41c",
   "metadata": {},
   "outputs": [],
   "source": [
    "selected_area = alt.selection_interval()"
   ]
  },
  {
   "cell_type": "code",
   "execution_count": 39,
   "id": "e125ef47",
   "metadata": {},
   "outputs": [],
   "source": [
    "input_dropdown = alt.binding_select(options=list(set(EUdataMeatcon[\"SUBJECT\"])))\n",
    "selected_points = alt.selection_single(\n",
    "    fields=[\"SUBJECT\"],\n",
    "    bind=input_dropdown,\n",
    "    name=\"Select\"\n",
    ")\n",
    "\n",
    "chart = alt.Chart(EUdataMeatcon).mark_circle().encode(\n",
    "    x=\"Value (0-10):Q\",\n",
    "    y=\"TIME:Q\",\n",
    "    color=alt.condition(selected_points, alt.Color(\"SUBJECT:N\"),alt.value(\"lightgrey\")),\n",
    "    tooltip=[\"SUBJECT:N\"]\n",
    ").add_selection(selected_points)"
   ]
  },
  {
   "cell_type": "code",
   "execution_count": 40,
   "id": "9d99470b",
   "metadata": {},
   "outputs": [
    {
     "data": {
      "text/html": [
       "\n",
       "<div id=\"altair-viz-bdbc1413c7c94449b3e3e2a264e0f0ac\"></div>\n",
       "<script type=\"text/javascript\">\n",
       "  var VEGA_DEBUG = (typeof VEGA_DEBUG == \"undefined\") ? {} : VEGA_DEBUG;\n",
       "  (function(spec, embedOpt){\n",
       "    let outputDiv = document.currentScript.previousElementSibling;\n",
       "    if (outputDiv.id !== \"altair-viz-bdbc1413c7c94449b3e3e2a264e0f0ac\") {\n",
       "      outputDiv = document.getElementById(\"altair-viz-bdbc1413c7c94449b3e3e2a264e0f0ac\");\n",
       "    }\n",
       "    const paths = {\n",
       "      \"vega\": \"https://cdn.jsdelivr.net/npm//vega@5?noext\",\n",
       "      \"vega-lib\": \"https://cdn.jsdelivr.net/npm//vega-lib?noext\",\n",
       "      \"vega-lite\": \"https://cdn.jsdelivr.net/npm//vega-lite@4.17.0?noext\",\n",
       "      \"vega-embed\": \"https://cdn.jsdelivr.net/npm//vega-embed@6?noext\",\n",
       "    };\n",
       "\n",
       "    function maybeLoadScript(lib, version) {\n",
       "      var key = `${lib.replace(\"-\", \"\")}_version`;\n",
       "      return (VEGA_DEBUG[key] == version) ?\n",
       "        Promise.resolve(paths[lib]) :\n",
       "        new Promise(function(resolve, reject) {\n",
       "          var s = document.createElement('script');\n",
       "          document.getElementsByTagName(\"head\")[0].appendChild(s);\n",
       "          s.async = true;\n",
       "          s.onload = () => {\n",
       "            VEGA_DEBUG[key] = version;\n",
       "            return resolve(paths[lib]);\n",
       "          };\n",
       "          s.onerror = () => reject(`Error loading script: ${paths[lib]}`);\n",
       "          s.src = paths[lib];\n",
       "        });\n",
       "    }\n",
       "\n",
       "    function showError(err) {\n",
       "      outputDiv.innerHTML = `<div class=\"error\" style=\"color:red;\">${err}</div>`;\n",
       "      throw err;\n",
       "    }\n",
       "\n",
       "    function displayChart(vegaEmbed) {\n",
       "      vegaEmbed(outputDiv, spec, embedOpt)\n",
       "        .catch(err => showError(`Javascript Error: ${err.message}<br>This usually means there's a typo in your chart specification. See the javascript console for the full traceback.`));\n",
       "    }\n",
       "\n",
       "    if(typeof define === \"function\" && define.amd) {\n",
       "      requirejs.config({paths});\n",
       "      require([\"vega-embed\"], displayChart, err => showError(`Error loading script: ${err.message}`));\n",
       "    } else {\n",
       "      maybeLoadScript(\"vega\", \"5\")\n",
       "        .then(() => maybeLoadScript(\"vega-lite\", \"4.17.0\"))\n",
       "        .then(() => maybeLoadScript(\"vega-embed\", \"6\"))\n",
       "        .catch(showError)\n",
       "        .then(() => displayChart(vegaEmbed));\n",
       "    }\n",
       "  })({\"config\": {\"view\": {\"continuousWidth\": 400, \"continuousHeight\": 300}}, \"data\": {\"name\": \"data-08a5a7554eb06056b44fbc648813b754\"}, \"mark\": \"bar\", \"encoding\": {\"x\": {\"field\": \"SUBJECT\", \"type\": \"nominal\"}, \"y\": {\"field\": \"TIME\", \"type\": \"quantitative\"}}, \"$schema\": \"https://vega.github.io/schema/vega-lite/v4.17.0.json\", \"datasets\": {\"data-08a5a7554eb06056b44fbc648813b754\": [{\"LOCATION\": \"EU28\", \"SUBJECT\": \"BEEF\", \"MEASURE\": \"KG_CAP\", \"TIME\": 2000, \"Value\": 12.6773643894755}, {\"LOCATION\": \"EU28\", \"SUBJECT\": \"BEEF\", \"MEASURE\": \"KG_CAP\", \"TIME\": 2001, \"Value\": 12.0094636718071}, {\"LOCATION\": \"EU28\", \"SUBJECT\": \"BEEF\", \"MEASURE\": \"KG_CAP\", \"TIME\": 2002, \"Value\": 12.5350082198687}, {\"LOCATION\": \"EU28\", \"SUBJECT\": \"BEEF\", \"MEASURE\": \"KG_CAP\", \"TIME\": 2003, \"Value\": 12.3141969297734}, {\"LOCATION\": \"EU28\", \"SUBJECT\": \"BEEF\", \"MEASURE\": \"KG_CAP\", \"TIME\": 2004, \"Value\": 12.520383123668498}, {\"LOCATION\": \"EU28\", \"SUBJECT\": \"BEEF\", \"MEASURE\": \"KG_CAP\", \"TIME\": 2005, \"Value\": 12.2867706595593}, {\"LOCATION\": \"EU28\", \"SUBJECT\": \"BEEF\", \"MEASURE\": \"KG_CAP\", \"TIME\": 2006, \"Value\": 12.2942432410217}, {\"LOCATION\": \"EU28\", \"SUBJECT\": \"BEEF\", \"MEASURE\": \"KG_CAP\", \"TIME\": 2007, \"Value\": 12.2198716826209}, {\"LOCATION\": \"EU28\", \"SUBJECT\": \"BEEF\", \"MEASURE\": \"KG_CAP\", \"TIME\": 2008, \"Value\": 11.759367659089198}, {\"LOCATION\": \"EU28\", \"SUBJECT\": \"BEEF\", \"MEASURE\": \"KG_CAP\", \"TIME\": 2009, \"Value\": 11.6076401110819}, {\"LOCATION\": \"EU28\", \"SUBJECT\": \"BEEF\", \"MEASURE\": \"KG_CAP\", \"TIME\": 2010, \"Value\": 11.6489108862157}, {\"LOCATION\": \"EU28\", \"SUBJECT\": \"BEEF\", \"MEASURE\": \"KG_CAP\", \"TIME\": 2011, \"Value\": 11.417318429703}, {\"LOCATION\": \"EU28\", \"SUBJECT\": \"BEEF\", \"MEASURE\": \"KG_CAP\", \"TIME\": 2012, \"Value\": 10.917032014070802}, {\"LOCATION\": \"EU28\", \"SUBJECT\": \"BEEF\", \"MEASURE\": \"KG_CAP\", \"TIME\": 2013, \"Value\": 10.4558671636033}, {\"LOCATION\": \"EU28\", \"SUBJECT\": \"BEEF\", \"MEASURE\": \"KG_CAP\", \"TIME\": 2014, \"Value\": 10.6134343238637}, {\"LOCATION\": \"EU28\", \"SUBJECT\": \"BEEF\", \"MEASURE\": \"KG_CAP\", \"TIME\": 2015, \"Value\": 10.8161581631804}, {\"LOCATION\": \"EU28\", \"SUBJECT\": \"BEEF\", \"MEASURE\": \"KG_CAP\", \"TIME\": 2016, \"Value\": 11.0698328673802}, {\"LOCATION\": \"EU28\", \"SUBJECT\": \"BEEF\", \"MEASURE\": \"KG_CAP\", \"TIME\": 2017, \"Value\": 10.9857613784757}, {\"LOCATION\": \"EU28\", \"SUBJECT\": \"BEEF\", \"MEASURE\": \"KG_CAP\", \"TIME\": 2018, \"Value\": 10.7136213639291}, {\"LOCATION\": \"EU28\", \"SUBJECT\": \"BEEF\", \"MEASURE\": \"KG_CAP\", \"TIME\": 2019, \"Value\": 10.631122434538598}, {\"LOCATION\": \"EU28\", \"SUBJECT\": \"BEEF\", \"MEASURE\": \"KG_CAP\", \"TIME\": 2020, \"Value\": 10.561187547028402}, {\"LOCATION\": \"EU28\", \"SUBJECT\": \"BEEF\", \"MEASURE\": \"KG_CAP\", \"TIME\": 2021, \"Value\": 10.4698111277872}, {\"LOCATION\": \"EU28\", \"SUBJECT\": \"BEEF\", \"MEASURE\": \"KG_CAP\", \"TIME\": 2022, \"Value\": 10.453707284269}, {\"LOCATION\": \"EU28\", \"SUBJECT\": \"BEEF\", \"MEASURE\": \"KG_CAP\", \"TIME\": 2023, \"Value\": 10.4493256946842}, {\"LOCATION\": \"EU28\", \"SUBJECT\": \"BEEF\", \"MEASURE\": \"KG_CAP\", \"TIME\": 2024, \"Value\": 10.4149357525151}, {\"LOCATION\": \"EU28\", \"SUBJECT\": \"BEEF\", \"MEASURE\": \"KG_CAP\", \"TIME\": 2025, \"Value\": 10.3762390149658}, {\"LOCATION\": \"EU28\", \"SUBJECT\": \"BEEF\", \"MEASURE\": \"KG_CAP\", \"TIME\": 2026, \"Value\": 10.3938020310425}, {\"LOCATION\": \"EU28\", \"SUBJECT\": \"PIG\", \"MEASURE\": \"KG_CAP\", \"TIME\": 1990, \"Value\": 33.7912520031652}, {\"LOCATION\": \"EU28\", \"SUBJECT\": \"PIG\", \"MEASURE\": \"KG_CAP\", \"TIME\": 1991, \"Value\": 32.5702299428228}, {\"LOCATION\": \"EU28\", \"SUBJECT\": \"PIG\", \"MEASURE\": \"KG_CAP\", \"TIME\": 1992, \"Value\": 32.4458438236326}, {\"LOCATION\": \"EU28\", \"SUBJECT\": \"PIG\", \"MEASURE\": \"KG_CAP\", \"TIME\": 1993, \"Value\": 32.6109835265763}, {\"LOCATION\": \"EU28\", \"SUBJECT\": \"PIG\", \"MEASURE\": \"KG_CAP\", \"TIME\": 1994, \"Value\": 32.7688210247092}, {\"LOCATION\": \"EU28\", \"SUBJECT\": \"PIG\", \"MEASURE\": \"KG_CAP\", \"TIME\": 1995, \"Value\": 32.7234181822779}, {\"LOCATION\": \"EU28\", \"SUBJECT\": \"PIG\", \"MEASURE\": \"KG_CAP\", \"TIME\": 1996, \"Value\": 32.5834966800231}, {\"LOCATION\": \"EU28\", \"SUBJECT\": \"PIG\", \"MEASURE\": \"KG_CAP\", \"TIME\": 1997, \"Value\": 32.530312694401005}, {\"LOCATION\": \"EU28\", \"SUBJECT\": \"PIG\", \"MEASURE\": \"KG_CAP\", \"TIME\": 1998, \"Value\": 34.7377041865026}, {\"LOCATION\": \"EU28\", \"SUBJECT\": \"PIG\", \"MEASURE\": \"KG_CAP\", \"TIME\": 1999, \"Value\": 33.5227984459462}, {\"LOCATION\": \"EU28\", \"SUBJECT\": \"PIG\", \"MEASURE\": \"KG_CAP\", \"TIME\": 2000, \"Value\": 32.7399490567147}, {\"LOCATION\": \"EU28\", \"SUBJECT\": \"PIG\", \"MEASURE\": \"KG_CAP\", \"TIME\": 2001, \"Value\": 33.1807572003904}, {\"LOCATION\": \"EU28\", \"SUBJECT\": \"PIG\", \"MEASURE\": \"KG_CAP\", \"TIME\": 2002, \"Value\": 33.5859333203284}, {\"LOCATION\": \"EU28\", \"SUBJECT\": \"PIG\", \"MEASURE\": \"KG_CAP\", \"TIME\": 2003, \"Value\": 33.36323644330189}, {\"LOCATION\": \"EU28\", \"SUBJECT\": \"PIG\", \"MEASURE\": \"KG_CAP\", \"TIME\": 2004, \"Value\": 32.7303608372602}, {\"LOCATION\": \"EU28\", \"SUBJECT\": \"PIG\", \"MEASURE\": \"KG_CAP\", \"TIME\": 2005, \"Value\": 32.7396070180902}, {\"LOCATION\": \"EU28\", \"SUBJECT\": \"PIG\", \"MEASURE\": \"KG_CAP\", \"TIME\": 2006, \"Value\": 32.9393970673592}, {\"LOCATION\": \"EU28\", \"SUBJECT\": \"PIG\", \"MEASURE\": \"KG_CAP\", \"TIME\": 2007, \"Value\": 33.787318006462606}, {\"LOCATION\": \"EU28\", \"SUBJECT\": \"PIG\", \"MEASURE\": \"KG_CAP\", \"TIME\": 2008, \"Value\": 33.2075046914144}, {\"LOCATION\": \"EU28\", \"SUBJECT\": \"PIG\", \"MEASURE\": \"KG_CAP\", \"TIME\": 2009, \"Value\": 32.0037518439091}, {\"LOCATION\": \"EU28\", \"SUBJECT\": \"PIG\", \"MEASURE\": \"KG_CAP\", \"TIME\": 2010, \"Value\": 32.469133010499704}, {\"LOCATION\": \"EU28\", \"SUBJECT\": \"PIG\", \"MEASURE\": \"KG_CAP\", \"TIME\": 2011, \"Value\": 32.3456358756769}, {\"LOCATION\": \"EU28\", \"SUBJECT\": \"PIG\", \"MEASURE\": \"KG_CAP\", \"TIME\": 2012, \"Value\": 31.568381112701395}, {\"LOCATION\": \"EU28\", \"SUBJECT\": \"PIG\", \"MEASURE\": \"KG_CAP\", \"TIME\": 2013, \"Value\": 31.212290801940497}, {\"LOCATION\": \"EU28\", \"SUBJECT\": \"PIG\", \"MEASURE\": \"KG_CAP\", \"TIME\": 2014, \"Value\": 31.852504252589306}, {\"LOCATION\": \"EU28\", \"SUBJECT\": \"PIG\", \"MEASURE\": \"KG_CAP\", \"TIME\": 2015, \"Value\": 32.7137731741027}, {\"LOCATION\": \"EU28\", \"SUBJECT\": \"PIG\", \"MEASURE\": \"KG_CAP\", \"TIME\": 2016, \"Value\": 32.2584288670688}, {\"LOCATION\": \"EU28\", \"SUBJECT\": \"PIG\", \"MEASURE\": \"KG_CAP\", \"TIME\": 2017, \"Value\": 32.480621076392005}, {\"LOCATION\": \"EU28\", \"SUBJECT\": \"PIG\", \"MEASURE\": \"KG_CAP\", \"TIME\": 2018, \"Value\": 32.0063436608014}, {\"LOCATION\": \"EU28\", \"SUBJECT\": \"PIG\", \"MEASURE\": \"KG_CAP\", \"TIME\": 2019, \"Value\": 31.835640331714803}, {\"LOCATION\": \"EU28\", \"SUBJECT\": \"PIG\", \"MEASURE\": \"KG_CAP\", \"TIME\": 2020, \"Value\": 32.1771955355822}, {\"LOCATION\": \"EU28\", \"SUBJECT\": \"PIG\", \"MEASURE\": \"KG_CAP\", \"TIME\": 2021, \"Value\": 32.1777671913751}, {\"LOCATION\": \"EU28\", \"SUBJECT\": \"PIG\", \"MEASURE\": \"KG_CAP\", \"TIME\": 2022, \"Value\": 31.9799645049958}, {\"LOCATION\": \"EU28\", \"SUBJECT\": \"PIG\", \"MEASURE\": \"KG_CAP\", \"TIME\": 2023, \"Value\": 32.068082013346}, {\"LOCATION\": \"EU28\", \"SUBJECT\": \"PIG\", \"MEASURE\": \"KG_CAP\", \"TIME\": 2024, \"Value\": 32.2093341725957}, {\"LOCATION\": \"EU28\", \"SUBJECT\": \"PIG\", \"MEASURE\": \"KG_CAP\", \"TIME\": 2025, \"Value\": 32.2346116619354}, {\"LOCATION\": \"EU28\", \"SUBJECT\": \"PIG\", \"MEASURE\": \"KG_CAP\", \"TIME\": 2026, \"Value\": 32.046867695534104}, {\"LOCATION\": \"EU28\", \"SUBJECT\": \"POULTRY\", \"MEASURE\": \"KG_CAP\", \"TIME\": 1990, \"Value\": 13.7175966816528}, {\"LOCATION\": \"EU28\", \"SUBJECT\": \"POULTRY\", \"MEASURE\": \"KG_CAP\", \"TIME\": 1991, \"Value\": 14.5564777967131}, {\"LOCATION\": \"EU28\", \"SUBJECT\": \"POULTRY\", \"MEASURE\": \"KG_CAP\", \"TIME\": 1992, \"Value\": 15.0597274955884}, {\"LOCATION\": \"EU28\", \"SUBJECT\": \"POULTRY\", \"MEASURE\": \"KG_CAP\", \"TIME\": 1993, \"Value\": 14.9073037285034}, {\"LOCATION\": \"EU28\", \"SUBJECT\": \"POULTRY\", \"MEASURE\": \"KG_CAP\", \"TIME\": 1994, \"Value\": 15.7210526370757}, {\"LOCATION\": \"EU28\", \"SUBJECT\": \"POULTRY\", \"MEASURE\": \"KG_CAP\", \"TIME\": 1995, \"Value\": 16.1217597473778}, {\"LOCATION\": \"EU28\", \"SUBJECT\": \"POULTRY\", \"MEASURE\": \"KG_CAP\", \"TIME\": 1996, \"Value\": 16.9281347508989}, {\"LOCATION\": \"EU28\", \"SUBJECT\": \"POULTRY\", \"MEASURE\": \"KG_CAP\", \"TIME\": 1997, \"Value\": 17.1992523877708}, {\"LOCATION\": \"EU28\", \"SUBJECT\": \"POULTRY\", \"MEASURE\": \"KG_CAP\", \"TIME\": 1998, \"Value\": 17.8667096930252}, {\"LOCATION\": \"EU28\", \"SUBJECT\": \"POULTRY\", \"MEASURE\": \"KG_CAP\", \"TIME\": 1999, \"Value\": 17.5907703762418}, {\"LOCATION\": \"EU28\", \"SUBJECT\": \"POULTRY\", \"MEASURE\": \"KG_CAP\", \"TIME\": 2000, \"Value\": 18.0728525054527}, {\"LOCATION\": \"EU28\", \"SUBJECT\": \"POULTRY\", \"MEASURE\": \"KG_CAP\", \"TIME\": 2001, \"Value\": 19.4863863740357}, {\"LOCATION\": \"EU28\", \"SUBJECT\": \"POULTRY\", \"MEASURE\": \"KG_CAP\", \"TIME\": 2002, \"Value\": 20.05516585333}, {\"LOCATION\": \"EU28\", \"SUBJECT\": \"POULTRY\", \"MEASURE\": \"KG_CAP\", \"TIME\": 2003, \"Value\": 19.3598942926774}, {\"LOCATION\": \"EU28\", \"SUBJECT\": \"POULTRY\", \"MEASURE\": \"KG_CAP\", \"TIME\": 2004, \"Value\": 19.2871472741013}, {\"LOCATION\": \"EU28\", \"SUBJECT\": \"POULTRY\", \"MEASURE\": \"KG_CAP\", \"TIME\": 2005, \"Value\": 19.8424303948717}, {\"LOCATION\": \"EU28\", \"SUBJECT\": \"POULTRY\", \"MEASURE\": \"KG_CAP\", \"TIME\": 2006, \"Value\": 19.096648521287104}, {\"LOCATION\": \"EU28\", \"SUBJECT\": \"POULTRY\", \"MEASURE\": \"KG_CAP\", \"TIME\": 2007, \"Value\": 19.999830284583897}, {\"LOCATION\": \"EU28\", \"SUBJECT\": \"POULTRY\", \"MEASURE\": \"KG_CAP\", \"TIME\": 2008, \"Value\": 19.9654822158734}, {\"LOCATION\": \"EU28\", \"SUBJECT\": \"POULTRY\", \"MEASURE\": \"KG_CAP\", \"TIME\": 2009, \"Value\": 20.357817172263697}, {\"LOCATION\": \"EU28\", \"SUBJECT\": \"POULTRY\", \"MEASURE\": \"KG_CAP\", \"TIME\": 2010, \"Value\": 20.6242371596026}, {\"LOCATION\": \"EU28\", \"SUBJECT\": \"POULTRY\", \"MEASURE\": \"KG_CAP\", \"TIME\": 2011, \"Value\": 20.8198198500938}, {\"LOCATION\": \"EU28\", \"SUBJECT\": \"POULTRY\", \"MEASURE\": \"KG_CAP\", \"TIME\": 2012, \"Value\": 21.364255145552303}, {\"LOCATION\": \"EU28\", \"SUBJECT\": \"POULTRY\", \"MEASURE\": \"KG_CAP\", \"TIME\": 2013, \"Value\": 21.4353661056624}, {\"LOCATION\": \"EU28\", \"SUBJECT\": \"POULTRY\", \"MEASURE\": \"KG_CAP\", \"TIME\": 2014, \"Value\": 22.251260572003304}, {\"LOCATION\": \"EU28\", \"SUBJECT\": \"POULTRY\", \"MEASURE\": \"KG_CAP\", \"TIME\": 2015, \"Value\": 23.1298700498809}, {\"LOCATION\": \"EU28\", \"SUBJECT\": \"POULTRY\", \"MEASURE\": \"KG_CAP\", \"TIME\": 2016, \"Value\": 23.8916964283423}, {\"LOCATION\": \"EU28\", \"SUBJECT\": \"POULTRY\", \"MEASURE\": \"KG_CAP\", \"TIME\": 2017, \"Value\": 24.239438274611896}, {\"LOCATION\": \"EU28\", \"SUBJECT\": \"POULTRY\", \"MEASURE\": \"KG_CAP\", \"TIME\": 2018, \"Value\": 24.4836923245751}, {\"LOCATION\": \"EU28\", \"SUBJECT\": \"POULTRY\", \"MEASURE\": \"KG_CAP\", \"TIME\": 2019, \"Value\": 24.6732244681663}, {\"LOCATION\": \"EU28\", \"SUBJECT\": \"POULTRY\", \"MEASURE\": \"KG_CAP\", \"TIME\": 2020, \"Value\": 24.7614375348426}, {\"LOCATION\": \"EU28\", \"SUBJECT\": \"POULTRY\", \"MEASURE\": \"KG_CAP\", \"TIME\": 2021, \"Value\": 24.7663112786067}, {\"LOCATION\": \"EU28\", \"SUBJECT\": \"POULTRY\", \"MEASURE\": \"KG_CAP\", \"TIME\": 2022, \"Value\": 24.78064779974}, {\"LOCATION\": \"EU28\", \"SUBJECT\": \"POULTRY\", \"MEASURE\": \"KG_CAP\", \"TIME\": 2023, \"Value\": 24.7906080822967}, {\"LOCATION\": \"EU28\", \"SUBJECT\": \"POULTRY\", \"MEASURE\": \"KG_CAP\", \"TIME\": 2024, \"Value\": 24.8012843080789}, {\"LOCATION\": \"EU28\", \"SUBJECT\": \"POULTRY\", \"MEASURE\": \"KG_CAP\", \"TIME\": 2025, \"Value\": 24.7729304490495}, {\"LOCATION\": \"EU28\", \"SUBJECT\": \"POULTRY\", \"MEASURE\": \"KG_CAP\", \"TIME\": 2026, \"Value\": 24.7520231918249}, {\"LOCATION\": \"EU28\", \"SUBJECT\": \"SHEEP\", \"MEASURE\": \"KG_CAP\", \"TIME\": 1990, \"Value\": 2.9675715252727204}, {\"LOCATION\": \"EU28\", \"SUBJECT\": \"SHEEP\", \"MEASURE\": \"KG_CAP\", \"TIME\": 1991, \"Value\": 2.90796989114768}, {\"LOCATION\": \"EU28\", \"SUBJECT\": \"SHEEP\", \"MEASURE\": \"KG_CAP\", \"TIME\": 1992, \"Value\": 2.81806443379443}, {\"LOCATION\": \"EU28\", \"SUBJECT\": \"SHEEP\", \"MEASURE\": \"KG_CAP\", \"TIME\": 1993, \"Value\": 2.82926644975913}, {\"LOCATION\": \"EU28\", \"SUBJECT\": \"SHEEP\", \"MEASURE\": \"KG_CAP\", \"TIME\": 1994, \"Value\": 2.74143828570326}, {\"LOCATION\": \"EU28\", \"SUBJECT\": \"SHEEP\", \"MEASURE\": \"KG_CAP\", \"TIME\": 1995, \"Value\": 2.7382673635473003}, {\"LOCATION\": \"EU28\", \"SUBJECT\": \"SHEEP\", \"MEASURE\": \"KG_CAP\", \"TIME\": 1996, \"Value\": 2.72862409731749}, {\"LOCATION\": \"EU28\", \"SUBJECT\": \"SHEEP\", \"MEASURE\": \"KG_CAP\", \"TIME\": 1997, \"Value\": 2.6422294348990403}, {\"LOCATION\": \"EU28\", \"SUBJECT\": \"SHEEP\", \"MEASURE\": \"KG_CAP\", \"TIME\": 1998, \"Value\": 2.70039477180826}, {\"LOCATION\": \"EU28\", \"SUBJECT\": \"SHEEP\", \"MEASURE\": \"KG_CAP\", \"TIME\": 1999, \"Value\": 2.69495542606896}, {\"LOCATION\": \"EU28\", \"SUBJECT\": \"SHEEP\", \"MEASURE\": \"KG_CAP\", \"TIME\": 2000, \"Value\": 2.6909523769409702}, {\"LOCATION\": \"EU28\", \"SUBJECT\": \"SHEEP\", \"MEASURE\": \"KG_CAP\", \"TIME\": 2001, \"Value\": 2.48563685504676}, {\"LOCATION\": \"EU28\", \"SUBJECT\": \"SHEEP\", \"MEASURE\": \"KG_CAP\", \"TIME\": 2002, \"Value\": 2.50753899615699}, {\"LOCATION\": \"EU28\", \"SUBJECT\": \"SHEEP\", \"MEASURE\": \"KG_CAP\", \"TIME\": 2003, \"Value\": 2.48535641249398}, {\"LOCATION\": \"EU28\", \"SUBJECT\": \"SHEEP\", \"MEASURE\": \"KG_CAP\", \"TIME\": 2004, \"Value\": 2.49256136301378}, {\"LOCATION\": \"EU28\", \"SUBJECT\": \"SHEEP\", \"MEASURE\": \"KG_CAP\", \"TIME\": 2005, \"Value\": 2.51204754798246}, {\"LOCATION\": \"EU28\", \"SUBJECT\": \"SHEEP\", \"MEASURE\": \"KG_CAP\", \"TIME\": 2006, \"Value\": 2.4796245262621}, {\"LOCATION\": \"EU28\", \"SUBJECT\": \"SHEEP\", \"MEASURE\": \"KG_CAP\", \"TIME\": 2007, \"Value\": 2.42126292927144}, {\"LOCATION\": \"EU28\", \"SUBJECT\": \"SHEEP\", \"MEASURE\": \"KG_CAP\", \"TIME\": 2008, \"Value\": 2.27801391274765}, {\"LOCATION\": \"EU28\", \"SUBJECT\": \"SHEEP\", \"MEASURE\": \"KG_CAP\", \"TIME\": 2009, \"Value\": 2.19557752696029}, {\"LOCATION\": \"EU28\", \"SUBJECT\": \"SHEEP\", \"MEASURE\": \"KG_CAP\", \"TIME\": 2010, \"Value\": 2.04119790022038}, {\"LOCATION\": \"EU28\", \"SUBJECT\": \"SHEEP\", \"MEASURE\": \"KG_CAP\", \"TIME\": 2011, \"Value\": 2.0093738591963204}, {\"LOCATION\": \"EU28\", \"SUBJECT\": \"SHEEP\", \"MEASURE\": \"KG_CAP\", \"TIME\": 2012, \"Value\": 1.86553596368712}, {\"LOCATION\": \"EU28\", \"SUBJECT\": \"SHEEP\", \"MEASURE\": \"KG_CAP\", \"TIME\": 2013, \"Value\": 1.82864963784078}, {\"LOCATION\": \"EU28\", \"SUBJECT\": \"SHEEP\", \"MEASURE\": \"KG_CAP\", \"TIME\": 2014, \"Value\": 1.8088924602353895}, {\"LOCATION\": \"EU28\", \"SUBJECT\": \"SHEEP\", \"MEASURE\": \"KG_CAP\", \"TIME\": 2015, \"Value\": 1.9193643731083605}, {\"LOCATION\": \"EU28\", \"SUBJECT\": \"SHEEP\", \"MEASURE\": \"KG_CAP\", \"TIME\": 2016, \"Value\": 1.94140304261706}, {\"LOCATION\": \"EU28\", \"SUBJECT\": \"SHEEP\", \"MEASURE\": \"KG_CAP\", \"TIME\": 2017, \"Value\": 1.93603752771552}, {\"LOCATION\": \"EU28\", \"SUBJECT\": \"SHEEP\", \"MEASURE\": \"KG_CAP\", \"TIME\": 2018, \"Value\": 1.95361518180212}, {\"LOCATION\": \"EU28\", \"SUBJECT\": \"SHEEP\", \"MEASURE\": \"KG_CAP\", \"TIME\": 2019, \"Value\": 1.97969859575006}, {\"LOCATION\": \"EU28\", \"SUBJECT\": \"SHEEP\", \"MEASURE\": \"KG_CAP\", \"TIME\": 2020, \"Value\": 1.9942966737518897}, {\"LOCATION\": \"EU28\", \"SUBJECT\": \"SHEEP\", \"MEASURE\": \"KG_CAP\", \"TIME\": 2021, \"Value\": 2.00657997889141}, {\"LOCATION\": \"EU28\", \"SUBJECT\": \"SHEEP\", \"MEASURE\": \"KG_CAP\", \"TIME\": 2022, \"Value\": 2.0122703926078502}, {\"LOCATION\": \"EU28\", \"SUBJECT\": \"SHEEP\", \"MEASURE\": \"KG_CAP\", \"TIME\": 2023, \"Value\": 2.01872696867377}, {\"LOCATION\": \"EU28\", \"SUBJECT\": \"SHEEP\", \"MEASURE\": \"KG_CAP\", \"TIME\": 2024, \"Value\": 2.02633187082207}, {\"LOCATION\": \"EU28\", \"SUBJECT\": \"SHEEP\", \"MEASURE\": \"KG_CAP\", \"TIME\": 2025, \"Value\": 2.03410460037037}, {\"LOCATION\": \"EU28\", \"SUBJECT\": \"SHEEP\", \"MEASURE\": \"KG_CAP\", \"TIME\": 2026, \"Value\": 2.04349816439194}, {\"LOCATION\": \"EU28\", \"SUBJECT\": \"SHEEP\", \"MEASURE\": \"THND_TONNE\", \"TIME\": 1990, \"Value\": 1607.84522514}, {\"LOCATION\": \"EU28\", \"SUBJECT\": \"SHEEP\", \"MEASURE\": \"THND_TONNE\", \"TIME\": 1991, \"Value\": 1580.34235069}, {\"LOCATION\": \"EU28\", \"SUBJECT\": \"SHEEP\", \"MEASURE\": \"THND_TONNE\", \"TIME\": 1992, \"Value\": 1536.25817101}, {\"LOCATION\": \"EU28\", \"SUBJECT\": \"SHEEP\", \"MEASURE\": \"THND_TONNE\", \"TIME\": 1993, \"Value\": 1547.01273732}, {\"LOCATION\": \"EU28\", \"SUBJECT\": \"SHEEP\", \"MEASURE\": \"THND_TONNE\", \"TIME\": 1994, \"Value\": 1502.98408529}, {\"LOCATION\": \"EU28\", \"SUBJECT\": \"SHEEP\", \"MEASURE\": \"THND_TONNE\", \"TIME\": 1995, \"Value\": 1504.49752046}, {\"LOCATION\": \"EU28\", \"SUBJECT\": \"SHEEP\", \"MEASURE\": \"THND_TONNE\", \"TIME\": 1996, \"Value\": 1501.55893849}, {\"LOCATION\": \"EU28\", \"SUBJECT\": \"SHEEP\", \"MEASURE\": \"THND_TONNE\", \"TIME\": 1997, \"Value\": 1455.60725827}, {\"LOCATION\": \"EU28\", \"SUBJECT\": \"SHEEP\", \"MEASURE\": \"THND_TONNE\", \"TIME\": 1998, \"Value\": 1489.02119209}, {\"LOCATION\": \"EU28\", \"SUBJECT\": \"SHEEP\", \"MEASURE\": \"THND_TONNE\", \"TIME\": 1999, \"Value\": 1487.76760811}, {\"LOCATION\": \"EU28\", \"SUBJECT\": \"SHEEP\", \"MEASURE\": \"THND_TONNE\", \"TIME\": 2000, \"Value\": 1488.12695601}, {\"LOCATION\": \"EU28\", \"SUBJECT\": \"SHEEP\", \"MEASURE\": \"THND_TONNE\", \"TIME\": 2001, \"Value\": 1377.83856044}, {\"LOCATION\": \"EU28\", \"SUBJECT\": \"SHEEP\", \"MEASURE\": \"THND_TONNE\", \"TIME\": 2002, \"Value\": 1394.00159616}, {\"LOCATION\": \"EU28\", \"SUBJECT\": \"SHEEP\", \"MEASURE\": \"THND_TONNE\", \"TIME\": 2003, \"Value\": 1386.21249566}, {\"LOCATION\": \"EU28\", \"SUBJECT\": \"SHEEP\", \"MEASURE\": \"THND_TONNE\", \"TIME\": 2004, \"Value\": 1395.05668131}, {\"LOCATION\": \"EU28\", \"SUBJECT\": \"SHEEP\", \"MEASURE\": \"THND_TONNE\", \"TIME\": 2005, \"Value\": 1410.859}, {\"LOCATION\": \"EU28\", \"SUBJECT\": \"SHEEP\", \"MEASURE\": \"THND_TONNE\", \"TIME\": 2006, \"Value\": 1397.51004587}, {\"LOCATION\": \"EU28\", \"SUBJECT\": \"SHEEP\", \"MEASURE\": \"THND_TONNE\", \"TIME\": 2007, \"Value\": 1369.38971009}, {\"LOCATION\": \"EU28\", \"SUBJECT\": \"SHEEP\", \"MEASURE\": \"THND_TONNE\", \"TIME\": 2008, \"Value\": 1292.6709}, {\"LOCATION\": \"EU28\", \"SUBJECT\": \"SHEEP\", \"MEASURE\": \"THND_TONNE\", \"TIME\": 2009, \"Value\": 1249.59531}, {\"LOCATION\": \"EU28\", \"SUBJECT\": \"SHEEP\", \"MEASURE\": \"THND_TONNE\", \"TIME\": 2010, \"Value\": 1164.60485657}, {\"LOCATION\": \"EU28\", \"SUBJECT\": \"SHEEP\", \"MEASURE\": \"THND_TONNE\", \"TIME\": 2011, \"Value\": 1148.61478966}, {\"LOCATION\": \"EU28\", \"SUBJECT\": \"SHEEP\", \"MEASURE\": \"THND_TONNE\", \"TIME\": 2012, \"Value\": 1067.84194794}, {\"LOCATION\": \"EU28\", \"SUBJECT\": \"SHEEP\", \"MEASURE\": \"THND_TONNE\", \"TIME\": 2013, \"Value\": 1047.77283699}, {\"LOCATION\": \"EU28\", \"SUBJECT\": \"SHEEP\", \"MEASURE\": \"THND_TONNE\", \"TIME\": 2014, \"Value\": 1037.37253428}, {\"LOCATION\": \"EU28\", \"SUBJECT\": \"SHEEP\", \"MEASURE\": \"THND_TONNE\", \"TIME\": 2015, \"Value\": 1101.78145766}, {\"LOCATION\": \"EU28\", \"SUBJECT\": \"SHEEP\", \"MEASURE\": \"THND_TONNE\", \"TIME\": 2016, \"Value\": 1115.63849431}, {\"LOCATION\": \"EU28\", \"SUBJECT\": \"SHEEP\", \"MEASURE\": \"THND_TONNE\", \"TIME\": 2017, \"Value\": 1113.8363979539502}, {\"LOCATION\": \"EU28\", \"SUBJECT\": \"SHEEP\", \"MEASURE\": \"THND_TONNE\", \"TIME\": 2018, \"Value\": 1125.25820869045}, {\"LOCATION\": \"EU28\", \"SUBJECT\": \"SHEEP\", \"MEASURE\": \"THND_TONNE\", \"TIME\": 2019, \"Value\": 1141.51576877726}, {\"LOCATION\": \"EU28\", \"SUBJECT\": \"SHEEP\", \"MEASURE\": \"THND_TONNE\", \"TIME\": 2020, \"Value\": 1151.00265737411}, {\"LOCATION\": \"EU28\", \"SUBJECT\": \"SHEEP\", \"MEASURE\": \"THND_TONNE\", \"TIME\": 2021, \"Value\": 1158.98557154009}, {\"LOCATION\": \"EU28\", \"SUBJECT\": \"SHEEP\", \"MEASURE\": \"THND_TONNE\", \"TIME\": 2022, \"Value\": 1163.01855779749}, {\"LOCATION\": \"EU28\", \"SUBJECT\": \"SHEEP\", \"MEASURE\": \"THND_TONNE\", \"TIME\": 2023, \"Value\": 1167.35552600763}, {\"LOCATION\": \"EU28\", \"SUBJECT\": \"SHEEP\", \"MEASURE\": \"THND_TONNE\", \"TIME\": 2024, \"Value\": 1172.23202015763}, {\"LOCATION\": \"EU28\", \"SUBJECT\": \"SHEEP\", \"MEASURE\": \"THND_TONNE\", \"TIME\": 2025, \"Value\": 1177.09203960666}, {\"LOCATION\": \"EU28\", \"SUBJECT\": \"SHEEP\", \"MEASURE\": \"THND_TONNE\", \"TIME\": 2026, \"Value\": 1182.77494948916}, {\"LOCATION\": \"EU28\", \"SUBJECT\": \"POULTRY\", \"MEASURE\": \"THND_TONNE\", \"TIME\": 1990, \"Value\": 7432.26309363}, {\"LOCATION\": \"EU28\", \"SUBJECT\": \"POULTRY\", \"MEASURE\": \"THND_TONNE\", \"TIME\": 1991, \"Value\": 7910.74846031}, {\"LOCATION\": \"EU28\", \"SUBJECT\": \"POULTRY\", \"MEASURE\": \"THND_TONNE\", \"TIME\": 1992, \"Value\": 8209.75884754}, {\"LOCATION\": \"EU28\", \"SUBJECT\": \"POULTRY\", \"MEASURE\": \"THND_TONNE\", \"TIME\": 1993, \"Value\": 8151.15478044}, {\"LOCATION\": \"EU28\", \"SUBJECT\": \"POULTRY\", \"MEASURE\": \"THND_TONNE\", \"TIME\": 1994, \"Value\": 8619.01288851}, {\"LOCATION\": \"EU28\", \"SUBJECT\": \"POULTRY\", \"MEASURE\": \"THND_TONNE\", \"TIME\": 1995, \"Value\": 8857.84488698}, {\"LOCATION\": \"EU28\", \"SUBJECT\": \"POULTRY\", \"MEASURE\": \"THND_TONNE\", \"TIME\": 1996, \"Value\": 9315.53454804}, {\"LOCATION\": \"EU28\", \"SUBJECT\": \"POULTRY\", \"MEASURE\": \"THND_TONNE\", \"TIME\": 1997, \"Value\": 9475.08807592}, {\"LOCATION\": \"EU28\", \"SUBJECT\": \"POULTRY\", \"MEASURE\": \"THND_TONNE\", \"TIME\": 1998, \"Value\": 9851.85930723}, {\"LOCATION\": \"EU28\", \"SUBJECT\": \"POULTRY\", \"MEASURE\": \"THND_TONNE\", \"TIME\": 1999, \"Value\": 9711.09878639}, {\"LOCATION\": \"EU28\", \"SUBJECT\": \"POULTRY\", \"MEASURE\": \"THND_TONNE\", \"TIME\": 2000, \"Value\": 9994.49087833}, {\"LOCATION\": \"EU28\", \"SUBJECT\": \"POULTRY\", \"MEASURE\": \"THND_TONNE\", \"TIME\": 2001, \"Value\": 10801.69635209}, {\"LOCATION\": \"EU28\", \"SUBJECT\": \"POULTRY\", \"MEASURE\": \"THND_TONNE\", \"TIME\": 2002, \"Value\": 11149.15191893}, {\"LOCATION\": \"EU28\", \"SUBJECT\": \"POULTRY\", \"MEASURE\": \"THND_TONNE\", \"TIME\": 2003, \"Value\": 10798.01965153}, {\"LOCATION\": \"EU28\", \"SUBJECT\": \"POULTRY\", \"MEASURE\": \"THND_TONNE\", \"TIME\": 2004, \"Value\": 10794.78486163}, {\"LOCATION\": \"EU28\", \"SUBJECT\": \"POULTRY\", \"MEASURE\": \"THND_TONNE\", \"TIME\": 2005, \"Value\": 11144.24427474}, {\"LOCATION\": \"EU28\", \"SUBJECT\": \"POULTRY\", \"MEASURE\": \"THND_TONNE\", \"TIME\": 2006, \"Value\": 10762.82230164}, {\"LOCATION\": \"EU28\", \"SUBJECT\": \"POULTRY\", \"MEASURE\": \"THND_TONNE\", \"TIME\": 2007, \"Value\": 11311.27126433}, {\"LOCATION\": \"EU28\", \"SUBJECT\": \"POULTRY\", \"MEASURE\": \"THND_TONNE\", \"TIME\": 2008, \"Value\": 11329.51722573}, {\"LOCATION\": \"EU28\", \"SUBJECT\": \"POULTRY\", \"MEASURE\": \"THND_TONNE\", \"TIME\": 2009, \"Value\": 11586.48808704}, {\"LOCATION\": \"EU28\", \"SUBJECT\": \"POULTRY\", \"MEASURE\": \"THND_TONNE\", \"TIME\": 2010, \"Value\": 11767.15239445}, {\"LOCATION\": \"EU28\", \"SUBJECT\": \"POULTRY\", \"MEASURE\": \"THND_TONNE\", \"TIME\": 2011, \"Value\": 11901.19642914}, {\"LOCATION\": \"EU28\", \"SUBJECT\": \"POULTRY\", \"MEASURE\": \"THND_TONNE\", \"TIME\": 2012, \"Value\": 12229.00457294}, {\"LOCATION\": \"EU28\", \"SUBJECT\": \"POULTRY\", \"MEASURE\": \"THND_TONNE\", \"TIME\": 2013, \"Value\": 12281.9559809}, {\"LOCATION\": \"EU28\", \"SUBJECT\": \"POULTRY\", \"MEASURE\": \"THND_TONNE\", \"TIME\": 2014, \"Value\": 12760.76222215}, {\"LOCATION\": \"EU28\", \"SUBJECT\": \"POULTRY\", \"MEASURE\": \"THND_TONNE\", \"TIME\": 2015, \"Value\": 13277.34446679}, {\"LOCATION\": \"EU28\", \"SUBJECT\": \"POULTRY\", \"MEASURE\": \"THND_TONNE\", \"TIME\": 2016, \"Value\": 13729.50162574}, {\"LOCATION\": \"EU28\", \"SUBJECT\": \"POULTRY\", \"MEASURE\": \"THND_TONNE\", \"TIME\": 2017, \"Value\": 13945.3746271534}, {\"LOCATION\": \"EU28\", \"SUBJECT\": \"POULTRY\", \"MEASURE\": \"THND_TONNE\", \"TIME\": 2018, \"Value\": 14102.3042940656}, {\"LOCATION\": \"EU28\", \"SUBJECT\": \"POULTRY\", \"MEASURE\": \"THND_TONNE\", \"TIME\": 2019, \"Value\": 14226.8499141516}, {\"LOCATION\": \"EU28\", \"SUBJECT\": \"POULTRY\", \"MEASURE\": \"THND_TONNE\", \"TIME\": 2020, \"Value\": 14290.9933001034}, {\"LOCATION\": \"EU28\", \"SUBJECT\": \"POULTRY\", \"MEASURE\": \"THND_TONNE\", \"TIME\": 2021, \"Value\": 14304.8359567675}, {\"LOCATION\": \"EU28\", \"SUBJECT\": \"POULTRY\", \"MEASURE\": \"THND_TONNE\", \"TIME\": 2022, \"Value\": 14322.3064709463}, {\"LOCATION\": \"EU28\", \"SUBJECT\": \"POULTRY\", \"MEASURE\": \"THND_TONNE\", \"TIME\": 2023, \"Value\": 14335.4964722994}, {\"LOCATION\": \"EU28\", \"SUBJECT\": \"POULTRY\", \"MEASURE\": \"THND_TONNE\", \"TIME\": 2024, \"Value\": 14347.5311352471}, {\"LOCATION\": \"EU28\", \"SUBJECT\": \"POULTRY\", \"MEASURE\": \"THND_TONNE\", \"TIME\": 2025, \"Value\": 14335.5554203044}, {\"LOCATION\": \"EU28\", \"SUBJECT\": \"POULTRY\", \"MEASURE\": \"THND_TONNE\", \"TIME\": 2026, \"Value\": 14326.4493654079}, {\"LOCATION\": \"EU28\", \"SUBJECT\": \"PIG\", \"MEASURE\": \"THND_TONNE\", \"TIME\": 1990, \"Value\": 20655.485036200003}, {\"LOCATION\": \"EU28\", \"SUBJECT\": \"PIG\", \"MEASURE\": \"THND_TONNE\", \"TIME\": 1991, \"Value\": 19969.63684854}, {\"LOCATION\": \"EU28\", \"SUBJECT\": \"PIG\", \"MEASURE\": \"THND_TONNE\", \"TIME\": 1992, \"Value\": 19955.39964741}, {\"LOCATION\": \"EU28\", \"SUBJECT\": \"PIG\", \"MEASURE\": \"THND_TONNE\", \"TIME\": 1993, \"Value\": 20117.40718747}, {\"LOCATION\": \"EU28\", \"SUBJECT\": \"PIG\", \"MEASURE\": \"THND_TONNE\", \"TIME\": 1994, \"Value\": 20268.64863873}, {\"LOCATION\": \"EU28\", \"SUBJECT\": \"PIG\", \"MEASURE\": \"THND_TONNE\", \"TIME\": 1995, \"Value\": 20284.40895997}, {\"LOCATION\": \"EU28\", \"SUBJECT\": \"PIG\", \"MEASURE\": \"THND_TONNE\", \"TIME\": 1996, \"Value\": 20229.46658731}, {\"LOCATION\": \"EU28\", \"SUBJECT\": \"PIG\", \"MEASURE\": \"THND_TONNE\", \"TIME\": 1997, \"Value\": 20218.54940085}, {\"LOCATION\": \"EU28\", \"SUBJECT\": \"PIG\", \"MEASURE\": \"THND_TONNE\", \"TIME\": 1998, \"Value\": 21610.39983699}, {\"LOCATION\": \"EU28\", \"SUBJECT\": \"PIG\", \"MEASURE\": \"THND_TONNE\", \"TIME\": 1999, \"Value\": 20879.1035343}, {\"LOCATION\": \"EU28\", \"SUBJECT\": \"PIG\", \"MEASURE\": \"THND_TONNE\", \"TIME\": 2000, \"Value\": 20426.78606525}, {\"LOCATION\": \"EU28\", \"SUBJECT\": \"PIG\", \"MEASURE\": \"THND_TONNE\", \"TIME\": 2001, \"Value\": 20750.80824776}, {\"LOCATION\": \"EU28\", \"SUBJECT\": \"PIG\", \"MEASURE\": \"THND_TONNE\", \"TIME\": 2002, \"Value\": 21064.98073198}, {\"LOCATION\": \"EU28\", \"SUBJECT\": \"PIG\", \"MEASURE\": \"THND_TONNE\", \"TIME\": 2003, \"Value\": 20994.10546613}, {\"LOCATION\": \"EU28\", \"SUBJECT\": \"PIG\", \"MEASURE\": \"THND_TONNE\", \"TIME\": 2004, \"Value\": 20667.353}, {\"LOCATION\": \"EU28\", \"SUBJECT\": \"PIG\", \"MEASURE\": \"THND_TONNE\", \"TIME\": 2005, \"Value\": 20745.1839}, {\"LOCATION\": \"EU28\", \"SUBJECT\": \"PIG\", \"MEASURE\": \"THND_TONNE\", \"TIME\": 2006, \"Value\": 20944.6318}, {\"LOCATION\": \"EU28\", \"SUBJECT\": \"PIG\", \"MEASURE\": \"THND_TONNE\", \"TIME\": 2007, \"Value\": 21558.9148}, {\"LOCATION\": \"EU28\", \"SUBJECT\": \"PIG\", \"MEASURE\": \"THND_TONNE\", \"TIME\": 2008, \"Value\": 21259.6403}, {\"LOCATION\": \"EU28\", \"SUBJECT\": \"PIG\", \"MEASURE\": \"THND_TONNE\", \"TIME\": 2009, \"Value\": 20549.8934}, {\"LOCATION\": \"EU28\", \"SUBJECT\": \"PIG\", \"MEASURE\": \"THND_TONNE\", \"TIME\": 2010, \"Value\": 20900.2868}, {\"LOCATION\": \"EU28\", \"SUBJECT\": \"PIG\", \"MEASURE\": \"THND_TONNE\", \"TIME\": 2011, \"Value\": 20860.1496}, {\"LOCATION\": \"EU28\", \"SUBJECT\": \"PIG\", \"MEASURE\": \"THND_TONNE\", \"TIME\": 2012, \"Value\": 20386.54977639}, {\"LOCATION\": \"EU28\", \"SUBJECT\": \"PIG\", \"MEASURE\": \"THND_TONNE\", \"TIME\": 2013, \"Value\": 20176.70968159}, {\"LOCATION\": \"EU28\", \"SUBJECT\": \"PIG\", \"MEASURE\": \"THND_TONNE\", \"TIME\": 2014, \"Value\": 20608.84479551}, {\"LOCATION\": \"EU28\", \"SUBJECT\": \"PIG\", \"MEASURE\": \"THND_TONNE\", \"TIME\": 2015, \"Value\": 21186.37902195}, {\"LOCATION\": \"EU28\", \"SUBJECT\": \"PIG\", \"MEASURE\": \"THND_TONNE\", \"TIME\": 2016, \"Value\": 20914.0944908}, {\"LOCATION\": \"EU28\", \"SUBJECT\": \"PIG\", \"MEASURE\": \"THND_TONNE\", \"TIME\": 2017, \"Value\": 21082.3990180245}, {\"LOCATION\": \"EU28\", \"SUBJECT\": \"PIG\", \"MEASURE\": \"THND_TONNE\", \"TIME\": 2018, \"Value\": 20798.7532074599}, {\"LOCATION\": \"EU28\", \"SUBJECT\": \"PIG\", \"MEASURE\": \"THND_TONNE\", \"TIME\": 2019, \"Value\": 20710.2098338155}, {\"LOCATION\": \"EU28\", \"SUBJECT\": \"PIG\", \"MEASURE\": \"THND_TONNE\", \"TIME\": 2020, \"Value\": 20951.8714356306}, {\"LOCATION\": \"EU28\", \"SUBJECT\": \"PIG\", \"MEASURE\": \"THND_TONNE\", \"TIME\": 2021, \"Value\": 20968.4114241816}, {\"LOCATION\": \"EU28\", \"SUBJECT\": \"PIG\", \"MEASURE\": \"THND_TONNE\", \"TIME\": 2022, \"Value\": 20852.894892084}, {\"LOCATION\": \"EU28\", \"SUBJECT\": \"PIG\", \"MEASURE\": \"THND_TONNE\", \"TIME\": 2023, \"Value\": 20921.2010825952}, {\"LOCATION\": \"EU28\", \"SUBJECT\": \"PIG\", \"MEASURE\": \"THND_TONNE\", \"TIME\": 2024, \"Value\": 21021.9414264932}, {\"LOCATION\": \"EU28\", \"SUBJECT\": \"PIG\", \"MEASURE\": \"THND_TONNE\", \"TIME\": 2025, \"Value\": 21044.938098566498}, {\"LOCATION\": \"EU28\", \"SUBJECT\": \"PIG\", \"MEASURE\": \"THND_TONNE\", \"TIME\": 2026, \"Value\": 20926.7373120846}, {\"LOCATION\": \"EU28\", \"SUBJECT\": \"BEEF\", \"MEASURE\": \"THND_TONNE\", \"TIME\": 2000, \"Value\": 8813.48312638}, {\"LOCATION\": \"EU28\", \"SUBJECT\": \"BEEF\", \"MEASURE\": \"THND_TONNE\", \"TIME\": 2001, \"Value\": 8368.91005055}, {\"LOCATION\": \"EU28\", \"SUBJECT\": \"BEEF\", \"MEASURE\": \"THND_TONNE\", \"TIME\": 2002, \"Value\": 8760.41803422}, {\"LOCATION\": \"EU28\", \"SUBJECT\": \"BEEF\", \"MEASURE\": \"THND_TONNE\", \"TIME\": 2003, \"Value\": 8634.39392641}, {\"LOCATION\": \"EU28\", \"SUBJECT\": \"BEEF\", \"MEASURE\": \"THND_TONNE\", \"TIME\": 2004, \"Value\": 8809.43884919}, {\"LOCATION\": \"EU28\", \"SUBJECT\": \"BEEF\", \"MEASURE\": \"THND_TONNE\", \"TIME\": 2005, \"Value\": 8675.17294653}, {\"LOCATION\": \"EU28\", \"SUBJECT\": \"BEEF\", \"MEASURE\": \"THND_TONNE\", \"TIME\": 2006, \"Value\": 8710.747974299999}, {\"LOCATION\": \"EU28\", \"SUBJECT\": \"BEEF\", \"MEASURE\": \"THND_TONNE\", \"TIME\": 2007, \"Value\": 8688.331542}, {\"LOCATION\": \"EU28\", \"SUBJECT\": \"BEEF\", \"MEASURE\": \"THND_TONNE\", \"TIME\": 2008, \"Value\": 8388.80696872}, {\"LOCATION\": \"EU28\", \"SUBJECT\": \"BEEF\", \"MEASURE\": \"THND_TONNE\", \"TIME\": 2009, \"Value\": 8305.182427}, {\"LOCATION\": \"EU28\", \"SUBJECT\": \"BEEF\", \"MEASURE\": \"THND_TONNE\", \"TIME\": 2010, \"Value\": 8355.32676147}, {\"LOCATION\": \"EU28\", \"SUBJECT\": \"BEEF\", \"MEASURE\": \"THND_TONNE\", \"TIME\": 2011, \"Value\": 8204.6942541}, {\"LOCATION\": \"EU28\", \"SUBJECT\": \"BEEF\", \"MEASURE\": \"THND_TONNE\", \"TIME\": 2012, \"Value\": 7855.83887612}, {\"LOCATION\": \"EU28\", \"SUBJECT\": \"BEEF\", \"MEASURE\": \"THND_TONNE\", \"TIME\": 2013, \"Value\": 7531.49722346}, {\"LOCATION\": \"EU28\", \"SUBJECT\": \"BEEF\", \"MEASURE\": \"THND_TONNE\", \"TIME\": 2014, \"Value\": 7651.7816}, {\"LOCATION\": \"EU28\", \"SUBJECT\": \"BEEF\", \"MEASURE\": \"THND_TONNE\", \"TIME\": 2015, \"Value\": 7805.409476299999}, {\"LOCATION\": \"EU28\", \"SUBJECT\": \"BEEF\", \"MEASURE\": \"THND_TONNE\", \"TIME\": 2016, \"Value\": 7997.117572900001}, {\"LOCATION\": \"EU28\", \"SUBJECT\": \"BEEF\", \"MEASURE\": \"THND_TONNE\", \"TIME\": 2017, \"Value\": 7945.52188058855}, {\"LOCATION\": \"EU28\", \"SUBJECT\": \"BEEF\", \"MEASURE\": \"THND_TONNE\", \"TIME\": 2018, \"Value\": 7757.71988350989}, {\"LOCATION\": \"EU28\", \"SUBJECT\": \"BEEF\", \"MEASURE\": \"THND_TONNE\", \"TIME\": 2019, \"Value\": 7706.31207187239}, {\"LOCATION\": \"EU28\", \"SUBJECT\": \"BEEF\", \"MEASURE\": \"THND_TONNE\", \"TIME\": 2020, \"Value\": 7662.737503007529}, {\"LOCATION\": \"EU28\", \"SUBJECT\": \"BEEF\", \"MEASURE\": \"THND_TONNE\", \"TIME\": 2021, \"Value\": 7602.30053276453}, {\"LOCATION\": \"EU28\", \"SUBJECT\": \"BEEF\", \"MEASURE\": \"THND_TONNE\", \"TIME\": 2022, \"Value\": 7595.48087740942}, {\"LOCATION\": \"EU28\", \"SUBJECT\": \"BEEF\", \"MEASURE\": \"THND_TONNE\", \"TIME\": 2023, \"Value\": 7596.23613451655}, {\"LOCATION\": \"EU28\", \"SUBJECT\": \"BEEF\", \"MEASURE\": \"THND_TONNE\", \"TIME\": 2024, \"Value\": 7574.330169453409}, {\"LOCATION\": \"EU28\", \"SUBJECT\": \"BEEF\", \"MEASURE\": \"THND_TONNE\", \"TIME\": 2025, \"Value\": 7548.51878044771}, {\"LOCATION\": \"EU28\", \"SUBJECT\": \"BEEF\", \"MEASURE\": \"THND_TONNE\", \"TIME\": 2026, \"Value\": 7562.875283531079}]}}, {\"mode\": \"vega-lite\"});\n",
       "</script>"
      ],
      "text/plain": [
       "alt.Chart(...)"
      ]
     },
     "execution_count": 40,
     "metadata": {},
     "output_type": "execute_result"
    }
   ],
   "source": [
    "alt.Chart(EUdataMeatcon).mark_bar().encode(\n",
    "    x=\"SUBJECT:N\",\n",
    "    y=\"TIME:Q\"\n",
    ")"
   ]
  },
  {
   "cell_type": "code",
   "execution_count": 41,
   "id": "f8338956",
   "metadata": {},
   "outputs": [],
   "source": [
    "#dataMeatPie1 = EUdataMeatcon.groupby('SUBJECT')['TIME'].sum()"
   ]
  },
  {
   "cell_type": "code",
   "execution_count": 42,
   "id": "d16ab79b",
   "metadata": {},
   "outputs": [],
   "source": [
    "#dataMeatPie1.plot.pie(figsize=(8,8), radius=1.2, autopct='%1.1f%%')"
   ]
  },
  {
   "cell_type": "code",
   "execution_count": 43,
   "id": "d3a088d7",
   "metadata": {
    "scrolled": true
   },
   "outputs": [
    {
     "data": {
      "text/plain": [
       "(13760, 5)"
      ]
     },
     "execution_count": 43,
     "metadata": {},
     "output_type": "execute_result"
    }
   ],
   "source": [
    "dataMeatCon.shape"
   ]
  },
  {
   "cell_type": "code",
   "execution_count": 44,
   "id": "ccb0313b",
   "metadata": {},
   "outputs": [
    {
     "name": "stdout",
     "output_type": "stream",
     "text": [
      "<class 'pandas.core.frame.DataFrame'>\n",
      "RangeIndex: 13760 entries, 0 to 13759\n",
      "Data columns (total 5 columns):\n",
      " #   Column    Non-Null Count  Dtype  \n",
      "---  ------    --------------  -----  \n",
      " 0   LOCATION  13760 non-null  object \n",
      " 1   SUBJECT   13760 non-null  object \n",
      " 2   MEASURE   13760 non-null  object \n",
      " 3   TIME      13760 non-null  int64  \n",
      " 4   Value     13760 non-null  float64\n",
      "dtypes: float64(1), int64(1), object(3)\n",
      "memory usage: 537.6+ KB\n"
     ]
    }
   ],
   "source": [
    "#to check data types\n",
    "dataMeatCon.info()"
   ]
  },
  {
   "cell_type": "markdown",
   "id": "b752fd3a",
   "metadata": {},
   "source": [
    "Ingredients based on recipes dataset"
   ]
  },
  {
   "cell_type": "code",
   "execution_count": 45,
   "id": "f9d59470",
   "metadata": {},
   "outputs": [],
   "source": [
    "#dataRecipes = pd.read_csv(\"recipes.csv\") \n",
    "#dataRecipes.head()"
   ]
  },
  {
   "cell_type": "code",
   "execution_count": 46,
   "id": "af3bfc20",
   "metadata": {},
   "outputs": [],
   "source": [
    "#dataRecipes.shape"
   ]
  },
  {
   "cell_type": "code",
   "execution_count": 47,
   "id": "efdcdbe8",
   "metadata": {},
   "outputs": [],
   "source": [
    "#to check data types\n",
    "#dataRecipes.info()"
   ]
  },
  {
   "cell_type": "code",
   "execution_count": null,
   "id": "b5705f4b",
   "metadata": {},
   "outputs": [],
   "source": []
  }
 ],
 "metadata": {
  "kernelspec": {
   "display_name": "Python 3 (ipykernel)",
   "language": "python",
   "name": "python3"
  },
  "language_info": {
   "codemirror_mode": {
    "name": "ipython",
    "version": 3
   },
   "file_extension": ".py",
   "mimetype": "text/x-python",
   "name": "python",
   "nbconvert_exporter": "python",
   "pygments_lexer": "ipython3",
   "version": "3.9.12"
  }
 },
 "nbformat": 4,
 "nbformat_minor": 5
}
