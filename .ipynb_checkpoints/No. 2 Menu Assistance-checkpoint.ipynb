{
 "cells": [
  {
   "cell_type": "markdown",
   "id": "6589417a",
   "metadata": {},
   "source": [
    "## Problem Solving In Industry"
   ]
  },
  {
   "cell_type": "markdown",
   "id": "1a2c1251",
   "metadata": {},
   "source": [
    "### Project: Menu Assistance "
   ]
  },
  {
   "cell_type": "markdown",
   "id": "5276ad09",
   "metadata": {},
   "source": [
    "Kelly and Leo"
   ]
  },
  {
   "cell_type": "markdown",
   "id": "07fa5247",
   "metadata": {},
   "source": [
    "###   Table of Contents:<a name=\"b\"></a>\n",
    "\n",
    "\n",
    "0. [Importing the required libraries for EDA](#0)\n",
    "1. [Business Understanding ](#1)\n",
    "2. [Data Undertanding](#2)                     \n",
    "    2.1. [Loading the data into the Data Frame](#2.1)             \n",
    "    2.2. [----](#2.2) \n",
    "3. [Data Preparation](#3)"
   ]
  },
  {
   "cell_type": "markdown",
   "id": "7231e6e2",
   "metadata": {},
   "source": [
    "---\n",
    "## Importing libraries to be used in the project<a name=\"0\"></a>\n",
    "----"
   ]
  },
  {
   "cell_type": "code",
   "execution_count": 1,
   "id": "bf517f30",
   "metadata": {},
   "outputs": [],
   "source": [
    "#libraries to be used in the project\n",
    "import pandas as pd\n",
    "import seaborn as sns\n",
    "import numpy as np\n",
    "import matplotlib as mpl\n",
    "import matplotlib.pyplot as plt\n",
    "%matplotlib inline "
   ]
  },
  {
   "cell_type": "markdown",
   "id": "55cd6ea7",
   "metadata": {},
   "source": [
    "----\n",
    "## 1. Business understanding<a name=\"1\"></a>\n",
    "-----\n",
    "In this phase of the CRISP-DM process will be to determine the business objectives of our project, we will evaluate the aspects of the situation to produce the project plan, and from this which tools, datasets and machine learning will be used.\n",
    "Our business proposal is to help chefs to create dishes for their restaurants with more accuracy and higher probability to be ordered by their customers. \n",
    "The main business goal of our project is to predict what ingredients customers would like to eat and from that, give restaurants ingredient suggestions to create their next menu. \n",
    "Therefore, our target clients would be restaurants, the business goal is to upgrade their menu, improve taste satisfaction to attract new customers and to keep existing ones.\n",
    "\n",
    "(Please, read more in our Report)"
   ]
  },
  {
   "cell_type": "markdown",
   "id": "f7145c97",
   "metadata": {},
   "source": [
    "----\n",
    "## 2. Data understanding<a name=\"2\"></a>\n",
    "-----\n",
    "\n",
    "In the second phase of the CRISP-DM process we are going to access the data using the resources listed in the first stage in Project resources. This stage is important for understanding the data and it will help us to make decisions during data  preparation.\n",
    "We will cover collecting and describing the data, exploring the data using EDA to perform the investigations on our dataset and verifying the data quality. "
   ]
  },
  {
   "cell_type": "markdown",
   "id": "097bb9de",
   "metadata": {},
   "source": [
    "------\n",
    "#### Grocery dataset"
   ]
  },
  {
   "cell_type": "code",
   "execution_count": 2,
   "id": "5cd4cd4c",
   "metadata": {
    "scrolled": true
   },
   "outputs": [],
   "source": [
    "#datagrocery = pd.read_csv(\"Supermart Grocery Sales - Retail Analytics Dataset.csv\")\n",
    "#datagrocery.head()"
   ]
  },
  {
   "cell_type": "code",
   "execution_count": 3,
   "id": "243722b2",
   "metadata": {},
   "outputs": [],
   "source": [
    "#datagrocery.shape"
   ]
  },
  {
   "cell_type": "code",
   "execution_count": 4,
   "id": "866000b4",
   "metadata": {},
   "outputs": [],
   "source": [
    "#datagrocery.info()"
   ]
  },
  {
   "cell_type": "code",
   "execution_count": 5,
   "id": "0b65af9e",
   "metadata": {
    "scrolled": false
   },
   "outputs": [],
   "source": [
    "#datagrocery.info"
   ]
  },
  {
   "cell_type": "code",
   "execution_count": 6,
   "id": "7434fedf",
   "metadata": {},
   "outputs": [],
   "source": [
    "#datagrocery['Sub Category'].value_counts()"
   ]
  },
  {
   "cell_type": "markdown",
   "id": "ebc1842e",
   "metadata": {},
   "source": [
    "-------\n",
    "#### Fruit and vegetables consumptiondataset"
   ]
  },
  {
   "cell_type": "markdown",
   "id": "47954086",
   "metadata": {},
   "source": [
    "- Loading the dataset using pandas"
   ]
  },
  {
   "cell_type": "code",
   "execution_count": 7,
   "id": "afb7301b",
   "metadata": {
    "scrolled": true
   },
   "outputs": [
    {
     "data": {
      "text/html": [
       "<div>\n",
       "<style scoped>\n",
       "    .dataframe tbody tr th:only-of-type {\n",
       "        vertical-align: middle;\n",
       "    }\n",
       "\n",
       "    .dataframe tbody tr th {\n",
       "        vertical-align: top;\n",
       "    }\n",
       "\n",
       "    .dataframe thead th {\n",
       "        text-align: right;\n",
       "    }\n",
       "</style>\n",
       "<table border=\"1\" class=\"dataframe\">\n",
       "  <thead>\n",
       "    <tr style=\"text-align: right;\">\n",
       "      <th></th>\n",
       "      <th>unit</th>\n",
       "      <th>n_portion</th>\n",
       "      <th>sex</th>\n",
       "      <th>age</th>\n",
       "      <th>country</th>\n",
       "      <th>time</th>\n",
       "      <th>value</th>\n",
       "    </tr>\n",
       "  </thead>\n",
       "  <tbody>\n",
       "    <tr>\n",
       "      <th>0</th>\n",
       "      <td>PC</td>\n",
       "      <td>0</td>\n",
       "      <td>F</td>\n",
       "      <td>TOTAL</td>\n",
       "      <td>AT</td>\n",
       "      <td>2019</td>\n",
       "      <td>29.1</td>\n",
       "    </tr>\n",
       "    <tr>\n",
       "      <th>1</th>\n",
       "      <td>PC</td>\n",
       "      <td>0</td>\n",
       "      <td>F</td>\n",
       "      <td>TOTAL</td>\n",
       "      <td>BE</td>\n",
       "      <td>2019</td>\n",
       "      <td>17.1</td>\n",
       "    </tr>\n",
       "    <tr>\n",
       "      <th>2</th>\n",
       "      <td>PC</td>\n",
       "      <td>0</td>\n",
       "      <td>F</td>\n",
       "      <td>TOTAL</td>\n",
       "      <td>BG</td>\n",
       "      <td>2019</td>\n",
       "      <td>54.2</td>\n",
       "    </tr>\n",
       "    <tr>\n",
       "      <th>3</th>\n",
       "      <td>PC</td>\n",
       "      <td>0</td>\n",
       "      <td>F</td>\n",
       "      <td>TOTAL</td>\n",
       "      <td>CY</td>\n",
       "      <td>2019</td>\n",
       "      <td>32.7</td>\n",
       "    </tr>\n",
       "    <tr>\n",
       "      <th>4</th>\n",
       "      <td>PC</td>\n",
       "      <td>0</td>\n",
       "      <td>F</td>\n",
       "      <td>TOTAL</td>\n",
       "      <td>CZ</td>\n",
       "      <td>2019</td>\n",
       "      <td>49.6</td>\n",
       "    </tr>\n",
       "  </tbody>\n",
       "</table>\n",
       "</div>"
      ],
      "text/plain": [
       "  unit n_portion sex    age country  time  value\n",
       "0   PC         0   F  TOTAL      AT  2019   29.1\n",
       "1   PC         0   F  TOTAL      BE  2019   17.1\n",
       "2   PC         0   F  TOTAL      BG  2019   54.2\n",
       "3   PC         0   F  TOTAL      CY  2019   32.7\n",
       "4   PC         0   F  TOTAL      CZ  2019   49.6"
      ]
     },
     "execution_count": 7,
     "metadata": {},
     "output_type": "execute_result"
    }
   ],
   "source": [
    "dataFruitVeg = pd.read_csv(\"daily_consumption_fruit_vegetables_eu.csv\")\n",
    "dataFruitVeg.head()"
   ]
  },
  {
   "cell_type": "markdown",
   "id": "5b31892d",
   "metadata": {},
   "source": [
    "- Using the methios .shape() to check how many columns and rows are in the dataset."
   ]
  },
  {
   "cell_type": "code",
   "execution_count": 8,
   "id": "814f18d9",
   "metadata": {},
   "outputs": [
    {
     "data": {
      "text/plain": [
       "(43488, 7)"
      ]
     },
     "execution_count": 8,
     "metadata": {},
     "output_type": "execute_result"
    }
   ],
   "source": [
    "dataFruitVeg.shape"
   ]
  },
  {
   "cell_type": "markdown",
   "id": "0d4202d4",
   "metadata": {},
   "source": [
    "We can see that our Fruit/Veg dataset has 43488 rows and 7 columns."
   ]
  },
  {
   "cell_type": "markdown",
   "id": "f2dc30b9",
   "metadata": {},
   "source": [
    "- Using the method info() to check multiple infomrtion in the dataset. "
   ]
  },
  {
   "cell_type": "code",
   "execution_count": 9,
   "id": "45811b93",
   "metadata": {
    "scrolled": false
   },
   "outputs": [
    {
     "name": "stdout",
     "output_type": "stream",
     "text": [
      "<class 'pandas.core.frame.DataFrame'>\n",
      "RangeIndex: 43488 entries, 0 to 43487\n",
      "Data columns (total 7 columns):\n",
      " #   Column     Non-Null Count  Dtype  \n",
      "---  ------     --------------  -----  \n",
      " 0   unit       43488 non-null  object \n",
      " 1   n_portion  43488 non-null  object \n",
      " 2   sex        43488 non-null  object \n",
      " 3   age        43488 non-null  object \n",
      " 4   country    43488 non-null  object \n",
      " 5   time       43488 non-null  int64  \n",
      " 6   value      35610 non-null  float64\n",
      "dtypes: float64(1), int64(1), object(5)\n",
      "memory usage: 2.3+ MB\n"
     ]
    }
   ],
   "source": [
    "#to check data types\n",
    "dataFruitVeg.info()"
   ]
  },
  {
   "cell_type": "markdown",
   "id": "152003e9",
   "metadata": {},
   "source": [
    "With the method info() we can see the number of the columns/variables, total number of rows (the size of the dataset), data types (if the variable is quantitative or qualitative), the memory usage also."
   ]
  },
  {
   "cell_type": "markdown",
   "id": "b5c333ee",
   "metadata": {},
   "source": [
    "- Using .value_counts() to check the amount of entries and counts of unique values."
   ]
  },
  {
   "cell_type": "code",
   "execution_count": 10,
   "id": "8d026048",
   "metadata": {},
   "outputs": [
    {
     "data": {
      "text/plain": [
       "2019    21744\n",
       "2014    21744\n",
       "Name: time, dtype: int64"
      ]
     },
     "execution_count": 10,
     "metadata": {},
     "output_type": "execute_result"
    }
   ],
   "source": [
    "dataFruitVeg['time'].value_counts()"
   ]
  },
  {
   "cell_type": "markdown",
   "id": "d2392747",
   "metadata": {},
   "source": [
    "As we can see above there are only two years in the Fruit/Veg dataset 2014 and 2019, for now we can see that the values are the same for both years."
   ]
  },
  {
   "cell_type": "code",
   "execution_count": 11,
   "id": "3d41f2ba",
   "metadata": {
    "scrolled": true
   },
   "outputs": [
    {
     "data": {
      "text/plain": [
       "AT           1296\n",
       "BE           1296\n",
       "TR           1296\n",
       "SK           1296\n",
       "SI           1296\n",
       "SE           1296\n",
       "RO           1296\n",
       "PT           1296\n",
       "PL           1296\n",
       "NO           1296\n",
       "NL           1296\n",
       "MT           1296\n",
       "LV           1296\n",
       "LU           1296\n",
       "LT           1296\n",
       "IT           1296\n",
       "IS           1296\n",
       "IE           1296\n",
       "HU           1296\n",
       "BG           1296\n",
       "CY           1296\n",
       "CZ           1296\n",
       "DE           1296\n",
       "DK           1296\n",
       "EE           1296\n",
       "EL           1296\n",
       "ES           1296\n",
       "EU28         1296\n",
       "FI           1296\n",
       "FR           1296\n",
       "HR           1296\n",
       "UK           1296\n",
       "EU27_2020    1080\n",
       "RS            936\n",
       "Name: country, dtype: int64"
      ]
     },
     "execution_count": 11,
     "metadata": {},
     "output_type": "execute_result"
    }
   ],
   "source": [
    "dataFruitVeg['country'].value_counts()"
   ]
  },
  {
   "cell_type": "markdown",
   "id": "9c21a976",
   "metadata": {},
   "source": [
    "We can see that our dataset has Ireland represented by IE with 1296 values."
   ]
  },
  {
   "cell_type": "markdown",
   "id": "854291f5",
   "metadata": {},
   "source": [
    "- Ploting using matplotlib to check the consumption over over time."
   ]
  },
  {
   "cell_type": "code",
   "execution_count": 12,
   "id": "aab529ce",
   "metadata": {
    "scrolled": false
   },
   "outputs": [
    {
     "data": {
      "text/plain": [
       "Text(0, 0.5, 'Value/Quantity')"
      ]
     },
     "execution_count": 12,
     "metadata": {},
     "output_type": "execute_result"
    },
    {
     "data": {
      "image/png": "[encoded data removed]",
      "text/plain": [
       "<Figure size 432x288 with 1 Axes>"
      ]
     },
     "metadata": {
      "needs_background": "light"
     },
     "output_type": "display_data"
    }
   ],
   "source": [
    "#dataFruitVeg.plot(kind = 'hist', x='time', figsize=(15,10))\n",
    "dataFruitVeg.plot(kind = 'hist', x='time')\n",
    "plt.xlabel(\"time\")\n",
    "plt.ylabel(\"Value/Quantity\")"
   ]
  },
  {
   "cell_type": "markdown",
   "id": "3281513f",
   "metadata": {},
   "source": [
    "#### Fish and Seafood consumption dataset "
   ]
  },
  {
   "cell_type": "markdown",
   "id": "68591efd",
   "metadata": {},
   "source": [
    "- Loading the dataset uning pandas"
   ]
  },
  {
   "cell_type": "code",
   "execution_count": 13,
   "id": "27e11730",
   "metadata": {
    "scrolled": false
   },
   "outputs": [
    {
     "data": {
      "text/html": [
       "<div>\n",
       "<style scoped>\n",
       "    .dataframe tbody tr th:only-of-type {\n",
       "        vertical-align: middle;\n",
       "    }\n",
       "\n",
       "    .dataframe tbody tr th {\n",
       "        vertical-align: top;\n",
       "    }\n",
       "\n",
       "    .dataframe thead th {\n",
       "        text-align: right;\n",
       "    }\n",
       "</style>\n",
       "<table border=\"1\" class=\"dataframe\">\n",
       "  <thead>\n",
       "    <tr style=\"text-align: right;\">\n",
       "      <th></th>\n",
       "      <th>Entity</th>\n",
       "      <th>Code</th>\n",
       "      <th>Year</th>\n",
       "      <th>Fish, Seafood- Food supply quantity (kg/capita/yr) (FAO, 2020)</th>\n",
       "    </tr>\n",
       "  </thead>\n",
       "  <tbody>\n",
       "    <tr>\n",
       "      <th>0</th>\n",
       "      <td>Afghanistan</td>\n",
       "      <td>AFG</td>\n",
       "      <td>1961</td>\n",
       "      <td>0.03</td>\n",
       "    </tr>\n",
       "    <tr>\n",
       "      <th>1</th>\n",
       "      <td>Afghanistan</td>\n",
       "      <td>AFG</td>\n",
       "      <td>1962</td>\n",
       "      <td>0.03</td>\n",
       "    </tr>\n",
       "    <tr>\n",
       "      <th>2</th>\n",
       "      <td>Afghanistan</td>\n",
       "      <td>AFG</td>\n",
       "      <td>1963</td>\n",
       "      <td>0.03</td>\n",
       "    </tr>\n",
       "    <tr>\n",
       "      <th>3</th>\n",
       "      <td>Afghanistan</td>\n",
       "      <td>AFG</td>\n",
       "      <td>1964</td>\n",
       "      <td>0.03</td>\n",
       "    </tr>\n",
       "    <tr>\n",
       "      <th>4</th>\n",
       "      <td>Afghanistan</td>\n",
       "      <td>AFG</td>\n",
       "      <td>1965</td>\n",
       "      <td>0.03</td>\n",
       "    </tr>\n",
       "  </tbody>\n",
       "</table>\n",
       "</div>"
      ],
      "text/plain": [
       "        Entity Code  Year  \\\n",
       "0  Afghanistan  AFG  1961   \n",
       "1  Afghanistan  AFG  1962   \n",
       "2  Afghanistan  AFG  1963   \n",
       "3  Afghanistan  AFG  1964   \n",
       "4  Afghanistan  AFG  1965   \n",
       "\n",
       "   Fish, Seafood- Food supply quantity (kg/capita/yr) (FAO, 2020)  \n",
       "0                                               0.03               \n",
       "1                                               0.03               \n",
       "2                                               0.03               \n",
       "3                                               0.03               \n",
       "4                                               0.03               "
      ]
     },
     "execution_count": 13,
     "metadata": {},
     "output_type": "execute_result"
    }
   ],
   "source": [
    "dataFish = pd.read_csv(\"fish-and-seafood-consumption-per-capita.csv\")\n",
    "dataFish.head()"
   ]
  },
  {
   "cell_type": "markdown",
   "id": "25c81d0b",
   "metadata": {},
   "source": [
    "- Using the methios .shape() to check how many columns and rows are in the dataset."
   ]
  },
  {
   "cell_type": "code",
   "execution_count": 14,
   "id": "43488b57",
   "metadata": {},
   "outputs": [
    {
     "data": {
      "text/plain": [
       "(11028, 4)"
      ]
     },
     "execution_count": 14,
     "metadata": {},
     "output_type": "execute_result"
    }
   ],
   "source": [
    "dataFish.shape"
   ]
  },
  {
   "cell_type": "markdown",
   "id": "fb6cffec",
   "metadata": {},
   "source": [
    "We can see that our Fish/Seafood dataset has 11028 rows and 4 columns."
   ]
  },
  {
   "cell_type": "markdown",
   "id": "77f5cc8d",
   "metadata": {},
   "source": [
    "- Using the method info() to check multiple infomrtion in the dataset. "
   ]
  },
  {
   "cell_type": "code",
   "execution_count": 15,
   "id": "c4093235",
   "metadata": {},
   "outputs": [
    {
     "name": "stdout",
     "output_type": "stream",
     "text": [
      "<class 'pandas.core.frame.DataFrame'>\n",
      "RangeIndex: 11028 entries, 0 to 11027\n",
      "Data columns (total 4 columns):\n",
      " #   Column                                                          Non-Null Count  Dtype  \n",
      "---  ------                                                          --------------  -----  \n",
      " 0   Entity                                                          11028 non-null  object \n",
      " 1   Code                                                            9294 non-null   object \n",
      " 2   Year                                                            11028 non-null  int64  \n",
      " 3   Fish, Seafood- Food supply quantity (kg/capita/yr) (FAO, 2020)  11028 non-null  float64\n",
      "dtypes: float64(1), int64(1), object(2)\n",
      "memory usage: 344.8+ KB\n"
     ]
    }
   ],
   "source": [
    "#to check data types\n",
    "dataFish.info()"
   ]
  },
  {
   "cell_type": "markdown",
   "id": "9bb739f1",
   "metadata": {},
   "source": [
    "- Using .value_counts() to check the amount of entries and counts of unique values."
   ]
  },
  {
   "cell_type": "code",
   "execution_count": 16,
   "id": "3b5c4470",
   "metadata": {
    "scrolled": true
   },
   "outputs": [
    {
     "data": {
      "text/plain": [
       "AFG         57\n",
       "NIC         57\n",
       "MOZ         57\n",
       "MMR         57\n",
       "NAM         57\n",
       "            ..\n",
       "BEL         18\n",
       "OWID_SRM    14\n",
       "MNE         12\n",
       "SRB         12\n",
       "SDN          6\n",
       "Name: Code, Length: 182, dtype: int64"
      ]
     },
     "execution_count": 16,
     "metadata": {},
     "output_type": "execute_result"
    }
   ],
   "source": [
    "#check if ireland is included\n",
    "dataFish['Code'].value_counts()"
   ]
  },
  {
   "cell_type": "markdown",
   "id": "06b0f22f",
   "metadata": {},
   "source": [
    "    - And below with .value_counts, using .sort_values() method to sort the column in ascending order."
   ]
  },
  {
   "cell_type": "code",
   "execution_count": 17,
   "id": "ff22faef",
   "metadata": {},
   "outputs": [],
   "source": [
    "#dataFish['Year'].value_counts().sort_values()"
   ]
  },
  {
   "cell_type": "code",
   "execution_count": 18,
   "id": "22275806",
   "metadata": {},
   "outputs": [],
   "source": [
    "#dataFish.set_index('Code', inplace=True)"
   ]
  },
  {
   "cell_type": "code",
   "execution_count": 19,
   "id": "608629d5",
   "metadata": {
    "scrolled": false
   },
   "outputs": [
    {
     "ename": "KeyError",
     "evalue": "'IRL'",
     "output_type": "error",
     "traceback": [
      "\u001b[0;31m---------------------------------------------------------------------------\u001b[0m",
      "\u001b[0;31mKeyError\u001b[0m                                  Traceback (most recent call last)",
      "Input \u001b[0;32mIn [19]\u001b[0m, in \u001b[0;36m<cell line: 2>\u001b[0;34m()\u001b[0m\n\u001b[1;32m      1\u001b[0m \u001b[38;5;66;03m#Checking a particular row\u001b[39;00m\n\u001b[0;32m----> 2\u001b[0m \u001b[38;5;28mprint\u001b[39m(\u001b[43mdataFish\u001b[49m\u001b[38;5;241;43m.\u001b[39;49m\u001b[43mloc\u001b[49m\u001b[43m[\u001b[49m\u001b[38;5;124;43m'\u001b[39;49m\u001b[38;5;124;43mIRL\u001b[39;49m\u001b[38;5;124;43m'\u001b[39;49m\u001b[43m]\u001b[49m)\n",
      "File \u001b[0;32m~/opt/anaconda3/lib/python3.9/site-packages/pandas/core/indexing.py:967\u001b[0m, in \u001b[0;36m_LocationIndexer.__getitem__\u001b[0;34m(self, key)\u001b[0m\n\u001b[1;32m    964\u001b[0m axis \u001b[38;5;241m=\u001b[39m \u001b[38;5;28mself\u001b[39m\u001b[38;5;241m.\u001b[39maxis \u001b[38;5;129;01mor\u001b[39;00m \u001b[38;5;241m0\u001b[39m\n\u001b[1;32m    966\u001b[0m maybe_callable \u001b[38;5;241m=\u001b[39m com\u001b[38;5;241m.\u001b[39mapply_if_callable(key, \u001b[38;5;28mself\u001b[39m\u001b[38;5;241m.\u001b[39mobj)\n\u001b[0;32m--> 967\u001b[0m \u001b[38;5;28;01mreturn\u001b[39;00m \u001b[38;5;28;43mself\u001b[39;49m\u001b[38;5;241;43m.\u001b[39;49m\u001b[43m_getitem_axis\u001b[49m\u001b[43m(\u001b[49m\u001b[43mmaybe_callable\u001b[49m\u001b[43m,\u001b[49m\u001b[43m \u001b[49m\u001b[43maxis\u001b[49m\u001b[38;5;241;43m=\u001b[39;49m\u001b[43maxis\u001b[49m\u001b[43m)\u001b[49m\n",
      "File \u001b[0;32m~/opt/anaconda3/lib/python3.9/site-packages/pandas/core/indexing.py:1202\u001b[0m, in \u001b[0;36m_LocIndexer._getitem_axis\u001b[0;34m(self, key, axis)\u001b[0m\n\u001b[1;32m   1200\u001b[0m \u001b[38;5;66;03m# fall thru to straight lookup\u001b[39;00m\n\u001b[1;32m   1201\u001b[0m \u001b[38;5;28mself\u001b[39m\u001b[38;5;241m.\u001b[39m_validate_key(key, axis)\n\u001b[0;32m-> 1202\u001b[0m \u001b[38;5;28;01mreturn\u001b[39;00m \u001b[38;5;28;43mself\u001b[39;49m\u001b[38;5;241;43m.\u001b[39;49m\u001b[43m_get_label\u001b[49m\u001b[43m(\u001b[49m\u001b[43mkey\u001b[49m\u001b[43m,\u001b[49m\u001b[43m \u001b[49m\u001b[43maxis\u001b[49m\u001b[38;5;241;43m=\u001b[39;49m\u001b[43maxis\u001b[49m\u001b[43m)\u001b[49m\n",
      "File \u001b[0;32m~/opt/anaconda3/lib/python3.9/site-packages/pandas/core/indexing.py:1153\u001b[0m, in \u001b[0;36m_LocIndexer._get_label\u001b[0;34m(self, label, axis)\u001b[0m\n\u001b[1;32m   1151\u001b[0m \u001b[38;5;28;01mdef\u001b[39;00m \u001b[38;5;21m_get_label\u001b[39m(\u001b[38;5;28mself\u001b[39m, label, axis: \u001b[38;5;28mint\u001b[39m):\n\u001b[1;32m   1152\u001b[0m     \u001b[38;5;66;03m# GH#5667 this will fail if the label is not present in the axis.\u001b[39;00m\n\u001b[0;32m-> 1153\u001b[0m     \u001b[38;5;28;01mreturn\u001b[39;00m \u001b[38;5;28;43mself\u001b[39;49m\u001b[38;5;241;43m.\u001b[39;49m\u001b[43mobj\u001b[49m\u001b[38;5;241;43m.\u001b[39;49m\u001b[43mxs\u001b[49m\u001b[43m(\u001b[49m\u001b[43mlabel\u001b[49m\u001b[43m,\u001b[49m\u001b[43m \u001b[49m\u001b[43maxis\u001b[49m\u001b[38;5;241;43m=\u001b[39;49m\u001b[43maxis\u001b[49m\u001b[43m)\u001b[49m\n",
      "File \u001b[0;32m~/opt/anaconda3/lib/python3.9/site-packages/pandas/core/generic.py:3864\u001b[0m, in \u001b[0;36mNDFrame.xs\u001b[0;34m(self, key, axis, level, drop_level)\u001b[0m\n\u001b[1;32m   3862\u001b[0m             new_index \u001b[38;5;241m=\u001b[39m index[loc]\n\u001b[1;32m   3863\u001b[0m \u001b[38;5;28;01melse\u001b[39;00m:\n\u001b[0;32m-> 3864\u001b[0m     loc \u001b[38;5;241m=\u001b[39m \u001b[43mindex\u001b[49m\u001b[38;5;241;43m.\u001b[39;49m\u001b[43mget_loc\u001b[49m\u001b[43m(\u001b[49m\u001b[43mkey\u001b[49m\u001b[43m)\u001b[49m\n\u001b[1;32m   3866\u001b[0m     \u001b[38;5;28;01mif\u001b[39;00m \u001b[38;5;28misinstance\u001b[39m(loc, np\u001b[38;5;241m.\u001b[39mndarray):\n\u001b[1;32m   3867\u001b[0m         \u001b[38;5;28;01mif\u001b[39;00m loc\u001b[38;5;241m.\u001b[39mdtype \u001b[38;5;241m==\u001b[39m np\u001b[38;5;241m.\u001b[39mbool_:\n",
      "File \u001b[0;32m~/opt/anaconda3/lib/python3.9/site-packages/pandas/core/indexes/range.py:389\u001b[0m, in \u001b[0;36mRangeIndex.get_loc\u001b[0;34m(self, key, method, tolerance)\u001b[0m\n\u001b[1;32m    387\u001b[0m             \u001b[38;5;28;01mraise\u001b[39;00m \u001b[38;5;167;01mKeyError\u001b[39;00m(key) \u001b[38;5;28;01mfrom\u001b[39;00m \u001b[38;5;21;01merr\u001b[39;00m\n\u001b[1;32m    388\u001b[0m     \u001b[38;5;28mself\u001b[39m\u001b[38;5;241m.\u001b[39m_check_indexing_error(key)\n\u001b[0;32m--> 389\u001b[0m     \u001b[38;5;28;01mraise\u001b[39;00m \u001b[38;5;167;01mKeyError\u001b[39;00m(key)\n\u001b[1;32m    390\u001b[0m \u001b[38;5;28;01mreturn\u001b[39;00m \u001b[38;5;28msuper\u001b[39m()\u001b[38;5;241m.\u001b[39mget_loc(key, method\u001b[38;5;241m=\u001b[39mmethod, tolerance\u001b[38;5;241m=\u001b[39mtolerance)\n",
      "\u001b[0;31mKeyError\u001b[0m: 'IRL'"
     ]
    }
   ],
   "source": [
    "#Checking a particular row\n",
    "print(dataFish.loc['IRL'])"
   ]
  },
  {
   "cell_type": "markdown",
   "id": "7d511678",
   "metadata": {},
   "source": [
    "- Plotting to explore the type of meat in the dataset and their consumption values in percentage."
   ]
  },
  {
   "cell_type": "code",
   "execution_count": null,
   "id": "762b3365",
   "metadata": {},
   "outputs": [],
   "source": [
    "dataFish = dataFish.groupby('Code')['Fish, Seafood- Food supply quantity (kg/capita/yr) (FAO, 2020)'].sum()\n",
    "dataFish.plot.pie(figsize=(8,8), radius=1.2, autopct='%1.1f%%')"
   ]
  },
  {
   "cell_type": "markdown",
   "id": "fecfda40",
   "metadata": {},
   "source": [
    "---\n",
    "#### Meat consumption dataset "
   ]
  },
  {
   "cell_type": "markdown",
   "id": "62ebe247",
   "metadata": {},
   "source": [
    "- Loading the dataset uning pandas"
   ]
  },
  {
   "cell_type": "code",
   "execution_count": null,
   "id": "7432c70b",
   "metadata": {},
   "outputs": [],
   "source": [
    "dataMeatCon = pd.read_csv(\"meat_consumption_worldwide.csv\") \n",
    "dataMeatCon.head()"
   ]
  },
  {
   "cell_type": "markdown",
   "id": "66e46082",
   "metadata": {},
   "source": [
    "- Using the methios .shape() to check how many columns and rows are in the dataset."
   ]
  },
  {
   "cell_type": "code",
   "execution_count": null,
   "id": "5e966070",
   "metadata": {},
   "outputs": [],
   "source": [
    "dataMeatCon.shape"
   ]
  },
  {
   "cell_type": "markdown",
   "id": "8993e520",
   "metadata": {},
   "source": [
    "We can see that our Meat dataset has 13760, rows and 5 columns."
   ]
  },
  {
   "cell_type": "markdown",
   "id": "5c5afde5",
   "metadata": {},
   "source": [
    "- Using the method info() to check multiple information in the dataset. "
   ]
  },
  {
   "cell_type": "code",
   "execution_count": null,
   "id": "403b4c77",
   "metadata": {},
   "outputs": [],
   "source": [
    "#to check data types\n",
    "dataMeatCon.info()"
   ]
  },
  {
   "cell_type": "markdown",
   "id": "c45106cd",
   "metadata": {},
   "source": [
    "- Using .value_counts() to check the amount of entries and counts of unique values."
   ]
  },
  {
   "cell_type": "code",
   "execution_count": null,
   "id": "ac3032db",
   "metadata": {
    "scrolled": false
   },
   "outputs": [],
   "source": [
    "dataMeatCon['LOCATION'].value_counts()"
   ]
  },
  {
   "cell_type": "markdown",
   "id": "2ee7d053",
   "metadata": {},
   "source": [
    "Exploring the dataset, we did not find Ireland, but we found the EU28 with 276 values. We will probably use it in the data preparation phase."
   ]
  },
  {
   "cell_type": "markdown",
   "id": "92ec680b",
   "metadata": {},
   "source": [
    "- Plotting a Pie Chart to explore the type of meat in the dataset and their consumption values in percentage."
   ]
  },
  {
   "cell_type": "code",
   "execution_count": null,
   "id": "33610dde",
   "metadata": {},
   "outputs": [],
   "source": [
    "pieEDA_dataMeatCon = dataMeatCon.groupby('SUBJECT')['Value'].sum()\n",
    "pieEDA_dataMeatCon.plot.pie(figsize=(8,8), radius=1.2, autopct='%1.1f%%')"
   ]
  },
  {
   "cell_type": "markdown",
   "id": "97dd0e10",
   "metadata": {},
   "source": [
    "We can see in the plot above that worldwide the consumption of PIG is the highest in comparison to the other types of meat and that SHEEP is the lowest. In data preparation after cleaning the data, we will be able to check these values for EU28 and see if any change will occur."
   ]
  },
  {
   "cell_type": "markdown",
   "id": "13bca7a3",
   "metadata": {},
   "source": [
    "---\n",
    "#### Recipes Ingredients dataset "
   ]
  },
  {
   "cell_type": "markdown",
   "id": "22045d97",
   "metadata": {},
   "source": [
    "- Loading the dataset uning pandas"
   ]
  },
  {
   "cell_type": "markdown",
   "id": "918e7c39",
   "metadata": {},
   "source": [
    "- Using the methios .shape() to check how many columns and rows are in the dataset."
   ]
  },
  {
   "cell_type": "markdown",
   "id": "26d50e79",
   "metadata": {},
   "source": [
    "- Using the method info() to check multiple information in the dataset. "
   ]
  },
  {
   "cell_type": "markdown",
   "id": "83258de8",
   "metadata": {},
   "source": [
    "- Using .value_counts() to check the amount of entries and counts of unique values."
   ]
  },
  {
   "cell_type": "markdown",
   "id": "2e418dc1",
   "metadata": {},
   "source": [
    "----\n",
    "## 2. Data preparation<a name=\"3\"></a>\n",
    "----- "
   ]
  },
  {
   "cell_type": "markdown",
   "id": "66dd3b68",
   "metadata": {},
   "source": [
    "#### Fruit and vegetables dataset - Preparation"
   ]
  },
  {
   "cell_type": "code",
   "execution_count": null,
   "id": "dc821e7d",
   "metadata": {},
   "outputs": [],
   "source": [
    "#isolating ireland \n",
    "IEfruit = dataFruitVeg.loc[dataFruitVeg['country'] == ('IE')]\n",
    "IEfruit.head()"
   ]
  },
  {
   "cell_type": "code",
   "execution_count": null,
   "id": "f8141061",
   "metadata": {
    "scrolled": true
   },
   "outputs": [],
   "source": [
    "IEfruit.plot(kind = 'bar', x='time', y='value')\n",
    "plt.xlabel(\"time\")\n",
    "plt.ylabel(\"Value/Quantity\")"
   ]
  },
  {
   "cell_type": "code",
   "execution_count": null,
   "id": "898f9967",
   "metadata": {
    "scrolled": true
   },
   "outputs": [],
   "source": [
    "plt.figure(figsize=(15,10))\n",
    "plt.hist(IEfruit['time'], edgecolor='white', label='d')\n",
    "plt.xlabel(\"time\")\n",
    "plt.ylabel(\"Value/Quantity\")\n",
    "plt.title = ('Fruit and Vegetables consumption') "
   ]
  },
  {
   "cell_type": "markdown",
   "id": "f25d6b29",
   "metadata": {},
   "source": [
    "---------\n",
    "#### Fish and Seafood dataset - Preparation"
   ]
  },
  {
   "cell_type": "code",
   "execution_count": null,
   "id": "7fecd591",
   "metadata": {},
   "outputs": [],
   "source": [
    "#isolate IRL Ireland \n",
    "IEdataFish = dataFish.loc[dataFish['Code'] == ('IRL')]\n",
    "IEdataFish.head()"
   ]
  },
  {
   "cell_type": "code",
   "execution_count": null,
   "id": "9730b834",
   "metadata": {},
   "outputs": [],
   "source": [
    "IEdataFish.plot(kind = 'bar', x='Year', figsize=(15,10))"
   ]
  },
  {
   "cell_type": "markdown",
   "id": "c666b498",
   "metadata": {},
   "source": [
    "----\n",
    "### Meat consumption dataset - Preparation\n",
    "(by different types of meat)"
   ]
  },
  {
   "cell_type": "code",
   "execution_count": null,
   "id": "550eb40e",
   "metadata": {
    "scrolled": true
   },
   "outputs": [],
   "source": [
    "#dataMeatCon['TIME'].value_counts()"
   ]
  },
  {
   "cell_type": "code",
   "execution_count": null,
   "id": "02945a90",
   "metadata": {},
   "outputs": [],
   "source": [
    "#dataMeatCon['LOCATION'].value_counts()"
   ]
  },
  {
   "cell_type": "code",
   "execution_count": null,
   "id": "2495231b",
   "metadata": {
    "scrolled": true
   },
   "outputs": [],
   "source": [
    "#isolate EU \n",
    "EUdataMeatcon = dataMeatCon.loc[dataMeatCon['LOCATION'] == ('EU28')]\n",
    "EUdataMeatcon.head()"
   ]
  },
  {
   "cell_type": "code",
   "execution_count": null,
   "id": "8b934480",
   "metadata": {
    "scrolled": true
   },
   "outputs": [],
   "source": [
    "#sns.distplot(EUdataMeatcon.TIME)\n",
    "sns.jointplot(x=\"SUBJECT\", y=\"TIME\", data=EUdataMeatcon);"
   ]
  },
  {
   "cell_type": "code",
   "execution_count": null,
   "id": "be85bd43",
   "metadata": {},
   "outputs": [],
   "source": [
    "#!pip install altair"
   ]
  },
  {
   "cell_type": "code",
   "execution_count": null,
   "id": "fc2d5949",
   "metadata": {},
   "outputs": [],
   "source": [
    "import altair as alt"
   ]
  },
  {
   "cell_type": "code",
   "execution_count": null,
   "id": "56b4f41c",
   "metadata": {},
   "outputs": [],
   "source": [
    "selected_area = alt.selection_interval()"
   ]
  },
  {
   "cell_type": "code",
   "execution_count": null,
   "id": "e125ef47",
   "metadata": {},
   "outputs": [],
   "source": [
    "input_dropdown = alt.binding_select(options=list(set(EUdataMeatcon[\"SUBJECT\"])))\n",
    "selected_points = alt.selection_single(\n",
    "    fields=[\"SUBJECT\"],\n",
    "    bind=input_dropdown,\n",
    "    name=\"Select\"\n",
    ")\n",
    "\n",
    "chart = alt.Chart(EUdataMeatcon).mark_circle().encode(\n",
    "    x=\"Value (0-10):Q\",\n",
    "    y=\"TIME:Q\",\n",
    "    color=alt.condition(selected_points, alt.Color(\"SUBJECT:N\"),alt.value(\"lightgrey\")),\n",
    "    tooltip=[\"SUBJECT:N\"]\n",
    ").add_selection(selected_points)"
   ]
  },
  {
   "cell_type": "code",
   "execution_count": null,
   "id": "9d99470b",
   "metadata": {},
   "outputs": [],
   "source": [
    "alt.Chart(EUdataMeatcon).mark_bar().encode(\n",
    "    x=\"SUBJECT:N\",\n",
    "    y=\"TIME:Q\"\n",
    ")"
   ]
  },
  {
   "cell_type": "code",
   "execution_count": null,
   "id": "f8338956",
   "metadata": {},
   "outputs": [],
   "source": [
    "#dataMeatPie1 = EUdataMeatcon.groupby('SUBJECT')['TIME'].sum()"
   ]
  },
  {
   "cell_type": "code",
   "execution_count": null,
   "id": "d16ab79b",
   "metadata": {},
   "outputs": [],
   "source": [
    "#dataMeatPie1.plot.pie(figsize=(8,8), radius=1.2, autopct='%1.1f%%')"
   ]
  },
  {
   "cell_type": "code",
   "execution_count": null,
   "id": "d3a088d7",
   "metadata": {
    "scrolled": true
   },
   "outputs": [],
   "source": [
    "dataMeatCon.shape"
   ]
  },
  {
   "cell_type": "code",
   "execution_count": null,
   "id": "ccb0313b",
   "metadata": {},
   "outputs": [],
   "source": [
    "#to check data types\n",
    "dataMeatCon.info()"
   ]
  },
  {
   "cell_type": "markdown",
   "id": "b752fd3a",
   "metadata": {},
   "source": [
    "----\n",
    "### Ingredients based on recipes dataset"
   ]
  },
  {
   "cell_type": "code",
   "execution_count": null,
   "id": "f9d59470",
   "metadata": {},
   "outputs": [],
   "source": [
    "dataRecipes = pd.read_csv(\"recipes.csv\") \n",
    "dataRecipes.head()"
   ]
  },
  {
   "cell_type": "code",
   "execution_count": null,
   "id": "af3bfc20",
   "metadata": {},
   "outputs": [],
   "source": [
    "dataRecipes.shape"
   ]
  },
  {
   "cell_type": "code",
   "execution_count": null,
   "id": "efdcdbe8",
   "metadata": {},
   "outputs": [],
   "source": [
    "#to check data types\n",
    "dataRecipes.info()"
   ]
  },
  {
   "cell_type": "code",
   "execution_count": null,
   "id": "b5705f4b",
   "metadata": {},
   "outputs": [],
   "source": [
    "dataRecipes.plot(kind=\"box\", subplots=True, figsize=(15,20), layout=(10,4))\n",
    "plt.show()"
   ]
  },
  {
   "cell_type": "markdown",
   "id": "07e3a517",
   "metadata": {},
   "source": [
    "##### Using the method .duplicated()"
   ]
  },
  {
   "cell_type": "code",
   "execution_count": null,
   "id": "4ca84ed9",
   "metadata": {
    "scrolled": true
   },
   "outputs": [],
   "source": [
    "duplicate_rows_dataRecipes = dataRecipes[dataRecipes.duplicated()]\n",
    "print(\"The number of duplicate rows are: \", duplicate_rows_dataRecipes.shape)"
   ]
  },
  {
   "cell_type": "markdown",
   "id": "83c3cee4",
   "metadata": {},
   "source": [
    "With the method .duplicated() we can see if there are duplicate rows in our dataset, but it shows that non of the 51 rows (0, 51) are duplicated."
   ]
  },
  {
   "cell_type": "code",
   "execution_count": null,
   "id": "c8d1fbe1",
   "metadata": {},
   "outputs": [],
   "source": []
  }
 ],
 "metadata": {
  "kernelspec": {
   "display_name": "Python 3 (ipykernel)",
   "language": "python",
   "name": "python3"
  },
  "language_info": {
   "codemirror_mode": {
    "name": "ipython",
    "version": 3
   },
   "file_extension": ".py",
   "mimetype": "text/x-python",
   "name": "python",
   "nbconvert_exporter": "python",
   "pygments_lexer": "ipython3",
   "version": "3.9.12"
  }
 },
 "nbformat": 4,
 "nbformat_minor": 5
}
