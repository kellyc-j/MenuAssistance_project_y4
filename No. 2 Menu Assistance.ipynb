{
 "cells": [
  {
   "cell_type": "markdown",
   "id": "6589417a",
   "metadata": {},
   "source": [
    "## Problem Solving In Industry"
   ]
  },
  {
   "cell_type": "markdown",
   "id": "1a2c1251",
   "metadata": {},
   "source": [
    "### Project: Menu Assistance "
   ]
  },
  {
   "cell_type": "markdown",
   "id": "5276ad09",
   "metadata": {},
   "source": [
    "Kelly and Leo"
   ]
  },
  {
   "cell_type": "code",
   "execution_count": 1,
   "id": "bf517f30",
   "metadata": {},
   "outputs": [],
   "source": [
    "#libraries to be used in the project\n",
    "import pandas as pd\n",
    "import seaborn as sns\n",
    "import numpy as np\n",
    "import matplotlib as mpl\n",
    "import matplotlib.pyplot as plt\n",
    "%matplotlib inline "
   ]
  },
  {
   "cell_type": "markdown",
   "id": "ebc1842e",
   "metadata": {},
   "source": [
    "Fruit and vegetables dataset"
   ]
  },
  {
   "cell_type": "code",
   "execution_count": 2,
   "id": "afb7301b",
   "metadata": {},
   "outputs": [
    {
     "data": {
      "text/html": [
       "<div>\n",
       "<style scoped>\n",
       "    .dataframe tbody tr th:only-of-type {\n",
       "        vertical-align: middle;\n",
       "    }\n",
       "\n",
       "    .dataframe tbody tr th {\n",
       "        vertical-align: top;\n",
       "    }\n",
       "\n",
       "    .dataframe thead th {\n",
       "        text-align: right;\n",
       "    }\n",
       "</style>\n",
       "<table border=\"1\" class=\"dataframe\">\n",
       "  <thead>\n",
       "    <tr style=\"text-align: right;\">\n",
       "      <th></th>\n",
       "      <th>unit</th>\n",
       "      <th>n_portion</th>\n",
       "      <th>sex</th>\n",
       "      <th>age</th>\n",
       "      <th>country</th>\n",
       "      <th>time</th>\n",
       "      <th>value</th>\n",
       "    </tr>\n",
       "  </thead>\n",
       "  <tbody>\n",
       "    <tr>\n",
       "      <th>0</th>\n",
       "      <td>PC</td>\n",
       "      <td>0</td>\n",
       "      <td>F</td>\n",
       "      <td>TOTAL</td>\n",
       "      <td>AT</td>\n",
       "      <td>2019</td>\n",
       "      <td>29.1</td>\n",
       "    </tr>\n",
       "    <tr>\n",
       "      <th>1</th>\n",
       "      <td>PC</td>\n",
       "      <td>0</td>\n",
       "      <td>F</td>\n",
       "      <td>TOTAL</td>\n",
       "      <td>BE</td>\n",
       "      <td>2019</td>\n",
       "      <td>17.1</td>\n",
       "    </tr>\n",
       "    <tr>\n",
       "      <th>2</th>\n",
       "      <td>PC</td>\n",
       "      <td>0</td>\n",
       "      <td>F</td>\n",
       "      <td>TOTAL</td>\n",
       "      <td>BG</td>\n",
       "      <td>2019</td>\n",
       "      <td>54.2</td>\n",
       "    </tr>\n",
       "    <tr>\n",
       "      <th>3</th>\n",
       "      <td>PC</td>\n",
       "      <td>0</td>\n",
       "      <td>F</td>\n",
       "      <td>TOTAL</td>\n",
       "      <td>CY</td>\n",
       "      <td>2019</td>\n",
       "      <td>32.7</td>\n",
       "    </tr>\n",
       "    <tr>\n",
       "      <th>4</th>\n",
       "      <td>PC</td>\n",
       "      <td>0</td>\n",
       "      <td>F</td>\n",
       "      <td>TOTAL</td>\n",
       "      <td>CZ</td>\n",
       "      <td>2019</td>\n",
       "      <td>49.6</td>\n",
       "    </tr>\n",
       "  </tbody>\n",
       "</table>\n",
       "</div>"
      ],
      "text/plain": [
       "  unit n_portion sex    age country  time  value\n",
       "0   PC         0   F  TOTAL      AT  2019   29.1\n",
       "1   PC         0   F  TOTAL      BE  2019   17.1\n",
       "2   PC         0   F  TOTAL      BG  2019   54.2\n",
       "3   PC         0   F  TOTAL      CY  2019   32.7\n",
       "4   PC         0   F  TOTAL      CZ  2019   49.6"
      ]
     },
     "execution_count": 2,
     "metadata": {},
     "output_type": "execute_result"
    }
   ],
   "source": [
    "dataFruitVeg = pd.read_csv(\"daily_consumption_fruit_vegetables_eu.csv\")\n",
    "dataFruitVeg.head()"
   ]
  },
  {
   "cell_type": "code",
   "execution_count": 3,
   "id": "8a6364f5",
   "metadata": {},
   "outputs": [
    {
     "data": {
      "text/plain": [
       "(43488, 7)"
      ]
     },
     "execution_count": 3,
     "metadata": {},
     "output_type": "execute_result"
    }
   ],
   "source": [
    "dataFruitVeg.shape"
   ]
  },
  {
   "cell_type": "code",
   "execution_count": 4,
   "id": "92319d1d",
   "metadata": {},
   "outputs": [
    {
     "name": "stdout",
     "output_type": "stream",
     "text": [
      "<class 'pandas.core.frame.DataFrame'>\n",
      "RangeIndex: 43488 entries, 0 to 43487\n",
      "Data columns (total 7 columns):\n",
      " #   Column     Non-Null Count  Dtype  \n",
      "---  ------     --------------  -----  \n",
      " 0   unit       43488 non-null  object \n",
      " 1   n_portion  43488 non-null  object \n",
      " 2   sex        43488 non-null  object \n",
      " 3   age        43488 non-null  object \n",
      " 4   country    43488 non-null  object \n",
      " 5   time       43488 non-null  int64  \n",
      " 6   value      35610 non-null  float64\n",
      "dtypes: float64(1), int64(1), object(5)\n",
      "memory usage: 2.3+ MB\n"
     ]
    }
   ],
   "source": [
    "#to check data types\n",
    "dataFruitVeg.info()"
   ]
  },
  {
   "cell_type": "markdown",
   "id": "f25d6b29",
   "metadata": {},
   "source": [
    "Fish and Seafood dataset"
   ]
  },
  {
   "cell_type": "code",
   "execution_count": 5,
   "id": "d9cf2442",
   "metadata": {},
   "outputs": [
    {
     "data": {
      "text/html": [
       "<div>\n",
       "<style scoped>\n",
       "    .dataframe tbody tr th:only-of-type {\n",
       "        vertical-align: middle;\n",
       "    }\n",
       "\n",
       "    .dataframe tbody tr th {\n",
       "        vertical-align: top;\n",
       "    }\n",
       "\n",
       "    .dataframe thead th {\n",
       "        text-align: right;\n",
       "    }\n",
       "</style>\n",
       "<table border=\"1\" class=\"dataframe\">\n",
       "  <thead>\n",
       "    <tr style=\"text-align: right;\">\n",
       "      <th></th>\n",
       "      <th>Entity</th>\n",
       "      <th>Code</th>\n",
       "      <th>Year</th>\n",
       "      <th>Fish, Seafood- Food supply quantity (kg/capita/yr) (FAO, 2020)</th>\n",
       "    </tr>\n",
       "  </thead>\n",
       "  <tbody>\n",
       "    <tr>\n",
       "      <th>0</th>\n",
       "      <td>Afghanistan</td>\n",
       "      <td>AFG</td>\n",
       "      <td>1961</td>\n",
       "      <td>0.03</td>\n",
       "    </tr>\n",
       "    <tr>\n",
       "      <th>1</th>\n",
       "      <td>Afghanistan</td>\n",
       "      <td>AFG</td>\n",
       "      <td>1962</td>\n",
       "      <td>0.03</td>\n",
       "    </tr>\n",
       "    <tr>\n",
       "      <th>2</th>\n",
       "      <td>Afghanistan</td>\n",
       "      <td>AFG</td>\n",
       "      <td>1963</td>\n",
       "      <td>0.03</td>\n",
       "    </tr>\n",
       "    <tr>\n",
       "      <th>3</th>\n",
       "      <td>Afghanistan</td>\n",
       "      <td>AFG</td>\n",
       "      <td>1964</td>\n",
       "      <td>0.03</td>\n",
       "    </tr>\n",
       "    <tr>\n",
       "      <th>4</th>\n",
       "      <td>Afghanistan</td>\n",
       "      <td>AFG</td>\n",
       "      <td>1965</td>\n",
       "      <td>0.03</td>\n",
       "    </tr>\n",
       "  </tbody>\n",
       "</table>\n",
       "</div>"
      ],
      "text/plain": [
       "        Entity Code  Year  \\\n",
       "0  Afghanistan  AFG  1961   \n",
       "1  Afghanistan  AFG  1962   \n",
       "2  Afghanistan  AFG  1963   \n",
       "3  Afghanistan  AFG  1964   \n",
       "4  Afghanistan  AFG  1965   \n",
       "\n",
       "   Fish, Seafood- Food supply quantity (kg/capita/yr) (FAO, 2020)  \n",
       "0                                               0.03               \n",
       "1                                               0.03               \n",
       "2                                               0.03               \n",
       "3                                               0.03               \n",
       "4                                               0.03               "
      ]
     },
     "execution_count": 5,
     "metadata": {},
     "output_type": "execute_result"
    }
   ],
   "source": [
    "dataFish = pd.read_csv(\"fish-and-seafood-consumption-per-capita.csv\")\n",
    "dataFish.head()"
   ]
  },
  {
   "cell_type": "code",
   "execution_count": 6,
   "id": "0beeb5cb",
   "metadata": {
    "scrolled": true
   },
   "outputs": [
    {
     "data": {
      "text/plain": [
       "(11028, 4)"
      ]
     },
     "execution_count": 6,
     "metadata": {},
     "output_type": "execute_result"
    }
   ],
   "source": [
    "dataFish.shape"
   ]
  },
  {
   "cell_type": "code",
   "execution_count": 7,
   "id": "750f619a",
   "metadata": {},
   "outputs": [
    {
     "name": "stdout",
     "output_type": "stream",
     "text": [
      "<class 'pandas.core.frame.DataFrame'>\n",
      "RangeIndex: 11028 entries, 0 to 11027\n",
      "Data columns (total 4 columns):\n",
      " #   Column                                                          Non-Null Count  Dtype  \n",
      "---  ------                                                          --------------  -----  \n",
      " 0   Entity                                                          11028 non-null  object \n",
      " 1   Code                                                            9294 non-null   object \n",
      " 2   Year                                                            11028 non-null  int64  \n",
      " 3   Fish, Seafood- Food supply quantity (kg/capita/yr) (FAO, 2020)  11028 non-null  float64\n",
      "dtypes: float64(1), int64(1), object(2)\n",
      "memory usage: 344.8+ KB\n"
     ]
    }
   ],
   "source": [
    "#to check data types\n",
    "dataFish.info()"
   ]
  },
  {
   "cell_type": "markdown",
   "id": "3223be59",
   "metadata": {},
   "source": [
    "Food (general) dataset"
   ]
  },
  {
   "cell_type": "code",
   "execution_count": 8,
   "id": "03820e0c",
   "metadata": {},
   "outputs": [
    {
     "data": {
      "text/html": [
       "<div>\n",
       "<style scoped>\n",
       "    .dataframe tbody tr th:only-of-type {\n",
       "        vertical-align: middle;\n",
       "    }\n",
       "\n",
       "    .dataframe tbody tr th {\n",
       "        vertical-align: top;\n",
       "    }\n",
       "\n",
       "    .dataframe thead th {\n",
       "        text-align: right;\n",
       "    }\n",
       "</style>\n",
       "<table border=\"1\" class=\"dataframe\">\n",
       "  <thead>\n",
       "    <tr style=\"text-align: right;\">\n",
       "      <th></th>\n",
       "      <th>GPA</th>\n",
       "      <th>Gender</th>\n",
       "      <th>breakfast</th>\n",
       "      <th>calories_chicken</th>\n",
       "      <th>calories_day</th>\n",
       "      <th>calories_scone</th>\n",
       "      <th>coffee</th>\n",
       "      <th>comfort_food</th>\n",
       "      <th>comfort_food_reasons</th>\n",
       "      <th>comfort_food_reasons_coded</th>\n",
       "      <th>...</th>\n",
       "      <th>soup</th>\n",
       "      <th>sports</th>\n",
       "      <th>thai_food</th>\n",
       "      <th>tortilla_calories</th>\n",
       "      <th>turkey_calories</th>\n",
       "      <th>type_sports</th>\n",
       "      <th>veggies_day</th>\n",
       "      <th>vitamins</th>\n",
       "      <th>waffle_calories</th>\n",
       "      <th>weight</th>\n",
       "    </tr>\n",
       "  </thead>\n",
       "  <tbody>\n",
       "    <tr>\n",
       "      <th>0</th>\n",
       "      <td>2.4</td>\n",
       "      <td>2</td>\n",
       "      <td>1</td>\n",
       "      <td>430</td>\n",
       "      <td>NaN</td>\n",
       "      <td>315.0</td>\n",
       "      <td>1</td>\n",
       "      <td>none</td>\n",
       "      <td>we dont have comfort</td>\n",
       "      <td>9.0</td>\n",
       "      <td>...</td>\n",
       "      <td>1.0</td>\n",
       "      <td>1.0</td>\n",
       "      <td>1</td>\n",
       "      <td>1165.0</td>\n",
       "      <td>345</td>\n",
       "      <td>car racing</td>\n",
       "      <td>5</td>\n",
       "      <td>1</td>\n",
       "      <td>1315</td>\n",
       "      <td>187</td>\n",
       "    </tr>\n",
       "    <tr>\n",
       "      <th>1</th>\n",
       "      <td>3.654</td>\n",
       "      <td>1</td>\n",
       "      <td>1</td>\n",
       "      <td>610</td>\n",
       "      <td>3.0</td>\n",
       "      <td>420.0</td>\n",
       "      <td>2</td>\n",
       "      <td>chocolate, chips, ice cream</td>\n",
       "      <td>Stress, bored, anger</td>\n",
       "      <td>1.0</td>\n",
       "      <td>...</td>\n",
       "      <td>1.0</td>\n",
       "      <td>1.0</td>\n",
       "      <td>2</td>\n",
       "      <td>725.0</td>\n",
       "      <td>690</td>\n",
       "      <td>Basketball</td>\n",
       "      <td>4</td>\n",
       "      <td>2</td>\n",
       "      <td>900</td>\n",
       "      <td>155</td>\n",
       "    </tr>\n",
       "    <tr>\n",
       "      <th>2</th>\n",
       "      <td>3.3</td>\n",
       "      <td>1</td>\n",
       "      <td>1</td>\n",
       "      <td>720</td>\n",
       "      <td>4.0</td>\n",
       "      <td>420.0</td>\n",
       "      <td>2</td>\n",
       "      <td>frozen yogurt, pizza, fast food</td>\n",
       "      <td>stress, sadness</td>\n",
       "      <td>1.0</td>\n",
       "      <td>...</td>\n",
       "      <td>1.0</td>\n",
       "      <td>2.0</td>\n",
       "      <td>5</td>\n",
       "      <td>1165.0</td>\n",
       "      <td>500</td>\n",
       "      <td>none</td>\n",
       "      <td>5</td>\n",
       "      <td>1</td>\n",
       "      <td>900</td>\n",
       "      <td>I'm not answering this.</td>\n",
       "    </tr>\n",
       "    <tr>\n",
       "      <th>3</th>\n",
       "      <td>3.2</td>\n",
       "      <td>1</td>\n",
       "      <td>1</td>\n",
       "      <td>430</td>\n",
       "      <td>3.0</td>\n",
       "      <td>420.0</td>\n",
       "      <td>2</td>\n",
       "      <td>Pizza, Mac and cheese, ice cream</td>\n",
       "      <td>Boredom</td>\n",
       "      <td>2.0</td>\n",
       "      <td>...</td>\n",
       "      <td>1.0</td>\n",
       "      <td>2.0</td>\n",
       "      <td>5</td>\n",
       "      <td>725.0</td>\n",
       "      <td>690</td>\n",
       "      <td>NaN</td>\n",
       "      <td>3</td>\n",
       "      <td>1</td>\n",
       "      <td>1315</td>\n",
       "      <td>Not sure, 240</td>\n",
       "    </tr>\n",
       "    <tr>\n",
       "      <th>4</th>\n",
       "      <td>3.5</td>\n",
       "      <td>1</td>\n",
       "      <td>1</td>\n",
       "      <td>720</td>\n",
       "      <td>2.0</td>\n",
       "      <td>420.0</td>\n",
       "      <td>2</td>\n",
       "      <td>Ice cream, chocolate, chips</td>\n",
       "      <td>Stress, boredom, cravings</td>\n",
       "      <td>1.0</td>\n",
       "      <td>...</td>\n",
       "      <td>1.0</td>\n",
       "      <td>1.0</td>\n",
       "      <td>4</td>\n",
       "      <td>940.0</td>\n",
       "      <td>500</td>\n",
       "      <td>Softball</td>\n",
       "      <td>4</td>\n",
       "      <td>2</td>\n",
       "      <td>760</td>\n",
       "      <td>190</td>\n",
       "    </tr>\n",
       "  </tbody>\n",
       "</table>\n",
       "<p>5 rows × 61 columns</p>\n",
       "</div>"
      ],
      "text/plain": [
       "     GPA  Gender  breakfast  calories_chicken  calories_day  calories_scone  \\\n",
       "0    2.4       2          1               430           NaN           315.0   \n",
       "1  3.654       1          1               610           3.0           420.0   \n",
       "2    3.3       1          1               720           4.0           420.0   \n",
       "3    3.2       1          1               430           3.0           420.0   \n",
       "4    3.5       1          1               720           2.0           420.0   \n",
       "\n",
       "   coffee                      comfort_food        comfort_food_reasons  \\\n",
       "0       1                              none       we dont have comfort    \n",
       "1       2       chocolate, chips, ice cream        Stress, bored, anger   \n",
       "2       2   frozen yogurt, pizza, fast food             stress, sadness   \n",
       "3       2  Pizza, Mac and cheese, ice cream                     Boredom   \n",
       "4       2      Ice cream, chocolate, chips   Stress, boredom, cravings    \n",
       "\n",
       "   comfort_food_reasons_coded  ...  soup  sports  thai_food tortilla_calories  \\\n",
       "0                         9.0  ...   1.0     1.0          1            1165.0   \n",
       "1                         1.0  ...   1.0     1.0          2             725.0   \n",
       "2                         1.0  ...   1.0     2.0          5            1165.0   \n",
       "3                         2.0  ...   1.0     2.0          5             725.0   \n",
       "4                         1.0  ...   1.0     1.0          4             940.0   \n",
       "\n",
       "   turkey_calories  type_sports veggies_day  vitamins  waffle_calories  \\\n",
       "0              345   car racing           5         1             1315   \n",
       "1              690  Basketball            4         2              900   \n",
       "2              500         none           5         1              900   \n",
       "3              690          NaN           3         1             1315   \n",
       "4              500     Softball           4         2              760   \n",
       "\n",
       "                     weight  \n",
       "0                       187  \n",
       "1                       155  \n",
       "2  I'm not answering this.   \n",
       "3             Not sure, 240  \n",
       "4                       190  \n",
       "\n",
       "[5 rows x 61 columns]"
      ]
     },
     "execution_count": 8,
     "metadata": {},
     "output_type": "execute_result"
    }
   ],
   "source": [
    "dataFood = pd.read_csv(\"food_coded.csv\")\n",
    "dataFood.head()"
   ]
  },
  {
   "cell_type": "code",
   "execution_count": 9,
   "id": "b848091c",
   "metadata": {},
   "outputs": [
    {
     "data": {
      "text/plain": [
       "(125, 61)"
      ]
     },
     "execution_count": 9,
     "metadata": {},
     "output_type": "execute_result"
    }
   ],
   "source": [
    "dataFood.shape"
   ]
  },
  {
   "cell_type": "code",
   "execution_count": 10,
   "id": "9ef6868b",
   "metadata": {},
   "outputs": [
    {
     "name": "stdout",
     "output_type": "stream",
     "text": [
      "<class 'pandas.core.frame.DataFrame'>\n",
      "RangeIndex: 125 entries, 0 to 124\n",
      "Data columns (total 61 columns):\n",
      " #   Column                        Non-Null Count  Dtype  \n",
      "---  ------                        --------------  -----  \n",
      " 0   GPA                           123 non-null    object \n",
      " 1   Gender                        125 non-null    int64  \n",
      " 2   breakfast                     125 non-null    int64  \n",
      " 3   calories_chicken              125 non-null    int64  \n",
      " 4   calories_day                  106 non-null    float64\n",
      " 5   calories_scone                124 non-null    float64\n",
      " 6   coffee                        125 non-null    int64  \n",
      " 7   comfort_food                  124 non-null    object \n",
      " 8   comfort_food_reasons          124 non-null    object \n",
      " 9   comfort_food_reasons_coded    106 non-null    float64\n",
      " 10  cook                          122 non-null    float64\n",
      " 11  comfort_food_reasons_coded.1  125 non-null    int64  \n",
      " 12  cuisine                       108 non-null    float64\n",
      " 13  diet_current                  124 non-null    object \n",
      " 14  diet_current_coded            125 non-null    int64  \n",
      " 15  drink                         123 non-null    float64\n",
      " 16  eating_changes                122 non-null    object \n",
      " 17  eating_changes_coded          125 non-null    int64  \n",
      " 18  eating_changes_coded1         125 non-null    int64  \n",
      " 19  eating_out                    125 non-null    int64  \n",
      " 20  employment                    116 non-null    float64\n",
      " 21  ethnic_food                   125 non-null    int64  \n",
      " 22  exercise                      112 non-null    float64\n",
      " 23  father_education              124 non-null    float64\n",
      " 24  father_profession             122 non-null    object \n",
      " 25  fav_cuisine                   123 non-null    object \n",
      " 26  fav_cuisine_coded             125 non-null    int64  \n",
      " 27  fav_food                      123 non-null    float64\n",
      " 28  food_childhood                124 non-null    object \n",
      " 29  fries                         125 non-null    int64  \n",
      " 30  fruit_day                     125 non-null    int64  \n",
      " 31  grade_level                   125 non-null    int64  \n",
      " 32  greek_food                    125 non-null    int64  \n",
      " 33  healthy_feeling               125 non-null    int64  \n",
      " 34  healthy_meal                  124 non-null    object \n",
      " 35  ideal_diet                    124 non-null    object \n",
      " 36  ideal_diet_coded              125 non-null    int64  \n",
      " 37  income                        124 non-null    float64\n",
      " 38  indian_food                   125 non-null    int64  \n",
      " 39  italian_food                  125 non-null    int64  \n",
      " 40  life_rewarding                124 non-null    float64\n",
      " 41  marital_status                124 non-null    float64\n",
      " 42  meals_dinner_friend           122 non-null    object \n",
      " 43  mother_education              122 non-null    float64\n",
      " 44  mother_profession             123 non-null    object \n",
      " 45  nutritional_check             125 non-null    int64  \n",
      " 46  on_off_campus                 124 non-null    float64\n",
      " 47  parents_cook                  125 non-null    int64  \n",
      " 48  pay_meal_out                  125 non-null    int64  \n",
      " 49  persian_food                  124 non-null    float64\n",
      " 50  self_perception_weight        124 non-null    float64\n",
      " 51  soup                          124 non-null    float64\n",
      " 52  sports                        123 non-null    float64\n",
      " 53  thai_food                     125 non-null    int64  \n",
      " 54  tortilla_calories             124 non-null    float64\n",
      " 55  turkey_calories               125 non-null    int64  \n",
      " 56  type_sports                   104 non-null    object \n",
      " 57  veggies_day                   125 non-null    int64  \n",
      " 58  vitamins                      125 non-null    int64  \n",
      " 59  waffle_calories               125 non-null    int64  \n",
      " 60  weight                        123 non-null    object \n",
      "dtypes: float64(20), int64(27), object(14)\n",
      "memory usage: 59.7+ KB\n"
     ]
    }
   ],
   "source": [
    "#to check data types\n",
    "dataFood.info()"
   ]
  },
  {
   "cell_type": "markdown",
   "id": "969fa615",
   "metadata": {},
   "source": [
    "Different types of meat dataset"
   ]
  },
  {
   "cell_type": "code",
   "execution_count": 11,
   "id": "f9bba106",
   "metadata": {},
   "outputs": [
    {
     "data": {
      "text/html": [
       "<div>\n",
       "<style scoped>\n",
       "    .dataframe tbody tr th:only-of-type {\n",
       "        vertical-align: middle;\n",
       "    }\n",
       "\n",
       "    .dataframe tbody tr th {\n",
       "        vertical-align: top;\n",
       "    }\n",
       "\n",
       "    .dataframe thead th {\n",
       "        text-align: right;\n",
       "    }\n",
       "</style>\n",
       "<table border=\"1\" class=\"dataframe\">\n",
       "  <thead>\n",
       "    <tr style=\"text-align: right;\">\n",
       "      <th></th>\n",
       "      <th>STATISTIC</th>\n",
       "      <th>Statistic Label</th>\n",
       "      <th>TLIST(A1)</th>\n",
       "      <th>Year</th>\n",
       "      <th>C02062V02489</th>\n",
       "      <th>Type of Meat</th>\n",
       "      <th>UNIT</th>\n",
       "      <th>VALUE</th>\n",
       "    </tr>\n",
       "  </thead>\n",
       "  <tbody>\n",
       "    <tr>\n",
       "      <th>0</th>\n",
       "      <td>ABA06C01</td>\n",
       "      <td>Meat Slaughterings</td>\n",
       "      <td>2012</td>\n",
       "      <td>2012</td>\n",
       "      <td>-</td>\n",
       "      <td>Total Meat</td>\n",
       "      <td>000 Tonnes</td>\n",
       "      <td>923.0</td>\n",
       "    </tr>\n",
       "    <tr>\n",
       "      <th>1</th>\n",
       "      <td>ABA06C01</td>\n",
       "      <td>Meat Slaughterings</td>\n",
       "      <td>2012</td>\n",
       "      <td>2012</td>\n",
       "      <td>01</td>\n",
       "      <td>Beef and veal</td>\n",
       "      <td>000 Tonnes</td>\n",
       "      <td>495.0</td>\n",
       "    </tr>\n",
       "    <tr>\n",
       "      <th>2</th>\n",
       "      <td>ABA06C01</td>\n",
       "      <td>Meat Slaughterings</td>\n",
       "      <td>2012</td>\n",
       "      <td>2012</td>\n",
       "      <td>02</td>\n",
       "      <td>Pig meat</td>\n",
       "      <td>000 Tonnes</td>\n",
       "      <td>241.0</td>\n",
       "    </tr>\n",
       "    <tr>\n",
       "      <th>3</th>\n",
       "      <td>ABA06C01</td>\n",
       "      <td>Meat Slaughterings</td>\n",
       "      <td>2012</td>\n",
       "      <td>2012</td>\n",
       "      <td>03</td>\n",
       "      <td>Sheep meat</td>\n",
       "      <td>000 Tonnes</td>\n",
       "      <td>54.0</td>\n",
       "    </tr>\n",
       "    <tr>\n",
       "      <th>4</th>\n",
       "      <td>ABA06C01</td>\n",
       "      <td>Meat Slaughterings</td>\n",
       "      <td>2012</td>\n",
       "      <td>2012</td>\n",
       "      <td>04</td>\n",
       "      <td>Poultry meat</td>\n",
       "      <td>000 Tonnes</td>\n",
       "      <td>132.0</td>\n",
       "    </tr>\n",
       "  </tbody>\n",
       "</table>\n",
       "</div>"
      ],
      "text/plain": [
       "  STATISTIC     Statistic Label  TLIST(A1)  Year C02062V02489   Type of Meat  \\\n",
       "0  ABA06C01  Meat Slaughterings       2012  2012            -     Total Meat   \n",
       "1  ABA06C01  Meat Slaughterings       2012  2012           01  Beef and veal   \n",
       "2  ABA06C01  Meat Slaughterings       2012  2012           02       Pig meat   \n",
       "3  ABA06C01  Meat Slaughterings       2012  2012           03     Sheep meat   \n",
       "4  ABA06C01  Meat Slaughterings       2012  2012           04   Poultry meat   \n",
       "\n",
       "         UNIT  VALUE  \n",
       "0  000 Tonnes  923.0  \n",
       "1  000 Tonnes  495.0  \n",
       "2  000 Tonnes  241.0  \n",
       "3  000 Tonnes   54.0  \n",
       "4  000 Tonnes  132.0  "
      ]
     },
     "execution_count": 11,
     "metadata": {},
     "output_type": "execute_result"
    }
   ],
   "source": [
    "dataMeat = pd.read_csv(\"meat-types.csv\") \n",
    "dataMeat.head()"
   ]
  },
  {
   "cell_type": "code",
   "execution_count": 12,
   "id": "c05be37c",
   "metadata": {},
   "outputs": [
    {
     "data": {
      "text/plain": [
       "(450, 8)"
      ]
     },
     "execution_count": 12,
     "metadata": {},
     "output_type": "execute_result"
    }
   ],
   "source": [
    "dataMeat.shape"
   ]
  },
  {
   "cell_type": "code",
   "execution_count": 13,
   "id": "fab67109",
   "metadata": {},
   "outputs": [
    {
     "name": "stdout",
     "output_type": "stream",
     "text": [
      "<class 'pandas.core.frame.DataFrame'>\n",
      "RangeIndex: 450 entries, 0 to 449\n",
      "Data columns (total 8 columns):\n",
      " #   Column           Non-Null Count  Dtype  \n",
      "---  ------           --------------  -----  \n",
      " 0   STATISTIC        450 non-null    object \n",
      " 1   Statistic Label  450 non-null    object \n",
      " 2   TLIST(A1)        450 non-null    int64  \n",
      " 3   Year             450 non-null    int64  \n",
      " 4   C02062V02489     450 non-null    object \n",
      " 5   Type of Meat     450 non-null    object \n",
      " 6   UNIT             450 non-null    object \n",
      " 7   VALUE            450 non-null    float64\n",
      "dtypes: float64(1), int64(2), object(5)\n",
      "memory usage: 28.2+ KB\n"
     ]
    }
   ],
   "source": [
    "#to check data types\n",
    "dataMeat.info()"
   ]
  },
  {
   "cell_type": "markdown",
   "id": "c666b498",
   "metadata": {},
   "source": [
    "Meat consumption by different types of meat dataset"
   ]
  },
  {
   "cell_type": "code",
   "execution_count": 14,
   "id": "9bc02cf4",
   "metadata": {},
   "outputs": [
    {
     "data": {
      "text/html": [
       "<div>\n",
       "<style scoped>\n",
       "    .dataframe tbody tr th:only-of-type {\n",
       "        vertical-align: middle;\n",
       "    }\n",
       "\n",
       "    .dataframe tbody tr th {\n",
       "        vertical-align: top;\n",
       "    }\n",
       "\n",
       "    .dataframe thead th {\n",
       "        text-align: right;\n",
       "    }\n",
       "</style>\n",
       "<table border=\"1\" class=\"dataframe\">\n",
       "  <thead>\n",
       "    <tr style=\"text-align: right;\">\n",
       "      <th></th>\n",
       "      <th>LOCATION</th>\n",
       "      <th>SUBJECT</th>\n",
       "      <th>MEASURE</th>\n",
       "      <th>TIME</th>\n",
       "      <th>Value</th>\n",
       "    </tr>\n",
       "  </thead>\n",
       "  <tbody>\n",
       "    <tr>\n",
       "      <th>0</th>\n",
       "      <td>AUS</td>\n",
       "      <td>BEEF</td>\n",
       "      <td>KG_CAP</td>\n",
       "      <td>1991</td>\n",
       "      <td>27.721815</td>\n",
       "    </tr>\n",
       "    <tr>\n",
       "      <th>1</th>\n",
       "      <td>AUS</td>\n",
       "      <td>BEEF</td>\n",
       "      <td>KG_CAP</td>\n",
       "      <td>1992</td>\n",
       "      <td>26.199591</td>\n",
       "    </tr>\n",
       "    <tr>\n",
       "      <th>2</th>\n",
       "      <td>AUS</td>\n",
       "      <td>BEEF</td>\n",
       "      <td>KG_CAP</td>\n",
       "      <td>1993</td>\n",
       "      <td>26.169094</td>\n",
       "    </tr>\n",
       "    <tr>\n",
       "      <th>3</th>\n",
       "      <td>AUS</td>\n",
       "      <td>BEEF</td>\n",
       "      <td>KG_CAP</td>\n",
       "      <td>1994</td>\n",
       "      <td>25.456134</td>\n",
       "    </tr>\n",
       "    <tr>\n",
       "      <th>4</th>\n",
       "      <td>AUS</td>\n",
       "      <td>BEEF</td>\n",
       "      <td>KG_CAP</td>\n",
       "      <td>1995</td>\n",
       "      <td>25.340226</td>\n",
       "    </tr>\n",
       "  </tbody>\n",
       "</table>\n",
       "</div>"
      ],
      "text/plain": [
       "  LOCATION SUBJECT MEASURE  TIME      Value\n",
       "0      AUS    BEEF  KG_CAP  1991  27.721815\n",
       "1      AUS    BEEF  KG_CAP  1992  26.199591\n",
       "2      AUS    BEEF  KG_CAP  1993  26.169094\n",
       "3      AUS    BEEF  KG_CAP  1994  25.456134\n",
       "4      AUS    BEEF  KG_CAP  1995  25.340226"
      ]
     },
     "execution_count": 14,
     "metadata": {},
     "output_type": "execute_result"
    }
   ],
   "source": [
    "dataMeatCon = pd.read_csv(\"meat_consumption_worldwide.csv\") \n",
    "dataMeatCon.head()"
   ]
  },
  {
   "cell_type": "code",
   "execution_count": 15,
   "id": "02945a90",
   "metadata": {},
   "outputs": [
    {
     "data": {
      "text/plain": [
       "POULTRY    3457\n",
       "SHEEP      3457\n",
       "PIG        3447\n",
       "BEEF       3399\n",
       "Name: SUBJECT, dtype: int64"
      ]
     },
     "execution_count": 15,
     "metadata": {},
     "output_type": "execute_result"
    }
   ],
   "source": [
    "dataMeatCon['SUBJECT'].value_counts()"
   ]
  },
  {
   "cell_type": "code",
   "execution_count": 16,
   "id": "f8338956",
   "metadata": {},
   "outputs": [],
   "source": [
    "dataMeatPie1 = dataMeatCon.groupby('SUBJECT')['TIME'].sum()"
   ]
  },
  {
   "cell_type": "code",
   "execution_count": 17,
   "id": "d16ab79b",
   "metadata": {},
   "outputs": [
    {
     "data": {
      "text/plain": [
       "<AxesSubplot:ylabel='TIME'>"
      ]
     },
     "execution_count": 17,
     "metadata": {},
     "output_type": "execute_result"
    },
    {
     "data": {
      "image/png": "[encoded data removed]",
      "text/plain": [
       "<Figure size 576x576 with 1 Axes>"
      ]
     },
     "metadata": {},
     "output_type": "display_data"
    }
   ],
   "source": [
    "dataMeatPie1.plot.pie(figsize=(8,8), radius=1.2, autopct='%1.1f%%')"
   ]
  },
  {
   "cell_type": "code",
   "execution_count": 18,
   "id": "d3a088d7",
   "metadata": {
    "scrolled": true
   },
   "outputs": [
    {
     "data": {
      "text/plain": [
       "(13760, 5)"
      ]
     },
     "execution_count": 18,
     "metadata": {},
     "output_type": "execute_result"
    }
   ],
   "source": [
    "dataMeatCon.shape"
   ]
  },
  {
   "cell_type": "code",
   "execution_count": 19,
   "id": "ccb0313b",
   "metadata": {},
   "outputs": [
    {
     "name": "stdout",
     "output_type": "stream",
     "text": [
      "<class 'pandas.core.frame.DataFrame'>\n",
      "RangeIndex: 13760 entries, 0 to 13759\n",
      "Data columns (total 5 columns):\n",
      " #   Column    Non-Null Count  Dtype  \n",
      "---  ------    --------------  -----  \n",
      " 0   LOCATION  13760 non-null  object \n",
      " 1   SUBJECT   13760 non-null  object \n",
      " 2   MEASURE   13760 non-null  object \n",
      " 3   TIME      13760 non-null  int64  \n",
      " 4   Value     13760 non-null  float64\n",
      "dtypes: float64(1), int64(1), object(3)\n",
      "memory usage: 537.6+ KB\n"
     ]
    }
   ],
   "source": [
    "#to check data types\n",
    "dataMeatCon.info()"
   ]
  },
  {
   "cell_type": "markdown",
   "id": "b752fd3a",
   "metadata": {},
   "source": [
    "Ingredients based on recipes dataset"
   ]
  },
  {
   "cell_type": "code",
   "execution_count": 20,
   "id": "f9d59470",
   "metadata": {},
   "outputs": [
    {
     "data": {
      "text/html": [
       "<div>\n",
       "<style scoped>\n",
       "    .dataframe tbody tr th:only-of-type {\n",
       "        vertical-align: middle;\n",
       "    }\n",
       "\n",
       "    .dataframe tbody tr th {\n",
       "        vertical-align: top;\n",
       "    }\n",
       "\n",
       "    .dataframe thead th {\n",
       "        text-align: right;\n",
       "    }\n",
       "</style>\n",
       "<table border=\"1\" class=\"dataframe\">\n",
       "  <thead>\n",
       "    <tr style=\"text-align: right;\">\n",
       "      <th></th>\n",
       "      <th>id</th>\n",
       "      <th>ingredients/0</th>\n",
       "      <th>ingredients/1</th>\n",
       "      <th>ingredients/2</th>\n",
       "      <th>ingredients/3</th>\n",
       "      <th>ingredients/4</th>\n",
       "      <th>ingredients/5</th>\n",
       "      <th>ingredients/6</th>\n",
       "      <th>ingredients/7</th>\n",
       "      <th>ingredients/8</th>\n",
       "      <th>...</th>\n",
       "      <th>ingredients/40</th>\n",
       "      <th>ingredients/41</th>\n",
       "      <th>ingredients/42</th>\n",
       "      <th>ingredients/43</th>\n",
       "      <th>ingredients/44</th>\n",
       "      <th>ingredients/45</th>\n",
       "      <th>ingredients/46</th>\n",
       "      <th>ingredients/47</th>\n",
       "      <th>ingredients/48</th>\n",
       "      <th>ingredients/49</th>\n",
       "    </tr>\n",
       "  </thead>\n",
       "  <tbody>\n",
       "    <tr>\n",
       "      <th>0</th>\n",
       "      <td>18009</td>\n",
       "      <td>baking powder</td>\n",
       "      <td>eggs</td>\n",
       "      <td>all-purpose flour</td>\n",
       "      <td>raisins</td>\n",
       "      <td>milk</td>\n",
       "      <td>white sugar</td>\n",
       "      <td>NaN</td>\n",
       "      <td>NaN</td>\n",
       "      <td>NaN</td>\n",
       "      <td>...</td>\n",
       "      <td>NaN</td>\n",
       "      <td>NaN</td>\n",
       "      <td>NaN</td>\n",
       "      <td>NaN</td>\n",
       "      <td>NaN</td>\n",
       "      <td>NaN</td>\n",
       "      <td>NaN</td>\n",
       "      <td>NaN</td>\n",
       "      <td>NaN</td>\n",
       "      <td>NaN</td>\n",
       "    </tr>\n",
       "    <tr>\n",
       "      <th>1</th>\n",
       "      <td>28583</td>\n",
       "      <td>sugar</td>\n",
       "      <td>egg yolks</td>\n",
       "      <td>corn starch</td>\n",
       "      <td>cream of tartar</td>\n",
       "      <td>bananas</td>\n",
       "      <td>vanilla wafers</td>\n",
       "      <td>milk</td>\n",
       "      <td>vanilla extract</td>\n",
       "      <td>toasted pecans</td>\n",
       "      <td>...</td>\n",
       "      <td>NaN</td>\n",
       "      <td>NaN</td>\n",
       "      <td>NaN</td>\n",
       "      <td>NaN</td>\n",
       "      <td>NaN</td>\n",
       "      <td>NaN</td>\n",
       "      <td>NaN</td>\n",
       "      <td>NaN</td>\n",
       "      <td>NaN</td>\n",
       "      <td>NaN</td>\n",
       "    </tr>\n",
       "    <tr>\n",
       "      <th>2</th>\n",
       "      <td>41580</td>\n",
       "      <td>sausage links</td>\n",
       "      <td>fennel bulb</td>\n",
       "      <td>fronds</td>\n",
       "      <td>olive oil</td>\n",
       "      <td>cuban peppers</td>\n",
       "      <td>onions</td>\n",
       "      <td>NaN</td>\n",
       "      <td>NaN</td>\n",
       "      <td>NaN</td>\n",
       "      <td>...</td>\n",
       "      <td>NaN</td>\n",
       "      <td>NaN</td>\n",
       "      <td>NaN</td>\n",
       "      <td>NaN</td>\n",
       "      <td>NaN</td>\n",
       "      <td>NaN</td>\n",
       "      <td>NaN</td>\n",
       "      <td>NaN</td>\n",
       "      <td>NaN</td>\n",
       "      <td>NaN</td>\n",
       "    </tr>\n",
       "    <tr>\n",
       "      <th>3</th>\n",
       "      <td>29752</td>\n",
       "      <td>meat cuts</td>\n",
       "      <td>file powder</td>\n",
       "      <td>smoked sausage</td>\n",
       "      <td>okra</td>\n",
       "      <td>shrimp</td>\n",
       "      <td>andouille sausage</td>\n",
       "      <td>water</td>\n",
       "      <td>paprika</td>\n",
       "      <td>hot sauce</td>\n",
       "      <td>...</td>\n",
       "      <td>NaN</td>\n",
       "      <td>NaN</td>\n",
       "      <td>NaN</td>\n",
       "      <td>NaN</td>\n",
       "      <td>NaN</td>\n",
       "      <td>NaN</td>\n",
       "      <td>NaN</td>\n",
       "      <td>NaN</td>\n",
       "      <td>NaN</td>\n",
       "      <td>NaN</td>\n",
       "    </tr>\n",
       "    <tr>\n",
       "      <th>4</th>\n",
       "      <td>35687</td>\n",
       "      <td>ground black pepper</td>\n",
       "      <td>salt</td>\n",
       "      <td>sausage casings</td>\n",
       "      <td>leeks</td>\n",
       "      <td>parmigiano reggiano cheese</td>\n",
       "      <td>cornmeal</td>\n",
       "      <td>water</td>\n",
       "      <td>extra-virgin olive oil</td>\n",
       "      <td>NaN</td>\n",
       "      <td>...</td>\n",
       "      <td>NaN</td>\n",
       "      <td>NaN</td>\n",
       "      <td>NaN</td>\n",
       "      <td>NaN</td>\n",
       "      <td>NaN</td>\n",
       "      <td>NaN</td>\n",
       "      <td>NaN</td>\n",
       "      <td>NaN</td>\n",
       "      <td>NaN</td>\n",
       "      <td>NaN</td>\n",
       "    </tr>\n",
       "  </tbody>\n",
       "</table>\n",
       "<p>5 rows × 51 columns</p>\n",
       "</div>"
      ],
      "text/plain": [
       "      id        ingredients/0 ingredients/1      ingredients/2  \\\n",
       "0  18009        baking powder          eggs  all-purpose flour   \n",
       "1  28583                sugar     egg yolks        corn starch   \n",
       "2  41580        sausage links   fennel bulb             fronds   \n",
       "3  29752            meat cuts   file powder     smoked sausage   \n",
       "4  35687  ground black pepper          salt    sausage casings   \n",
       "\n",
       "     ingredients/3               ingredients/4      ingredients/5  \\\n",
       "0          raisins                        milk        white sugar   \n",
       "1  cream of tartar                     bananas     vanilla wafers   \n",
       "2        olive oil               cuban peppers             onions   \n",
       "3             okra                      shrimp  andouille sausage   \n",
       "4            leeks  parmigiano reggiano cheese           cornmeal   \n",
       "\n",
       "  ingredients/6           ingredients/7   ingredients/8  ... ingredients/40  \\\n",
       "0           NaN                     NaN             NaN  ...            NaN   \n",
       "1          milk         vanilla extract  toasted pecans  ...            NaN   \n",
       "2           NaN                     NaN             NaN  ...            NaN   \n",
       "3         water                 paprika       hot sauce  ...            NaN   \n",
       "4         water  extra-virgin olive oil             NaN  ...            NaN   \n",
       "\n",
       "  ingredients/41 ingredients/42 ingredients/43 ingredients/44 ingredients/45  \\\n",
       "0            NaN            NaN            NaN            NaN            NaN   \n",
       "1            NaN            NaN            NaN            NaN            NaN   \n",
       "2            NaN            NaN            NaN            NaN            NaN   \n",
       "3            NaN            NaN            NaN            NaN            NaN   \n",
       "4            NaN            NaN            NaN            NaN            NaN   \n",
       "\n",
       "  ingredients/46 ingredients/47 ingredients/48 ingredients/49  \n",
       "0            NaN            NaN            NaN            NaN  \n",
       "1            NaN            NaN            NaN            NaN  \n",
       "2            NaN            NaN            NaN            NaN  \n",
       "3            NaN            NaN            NaN            NaN  \n",
       "4            NaN            NaN            NaN            NaN  \n",
       "\n",
       "[5 rows x 51 columns]"
      ]
     },
     "execution_count": 20,
     "metadata": {},
     "output_type": "execute_result"
    }
   ],
   "source": [
    "dataRecipes = pd.read_csv(\"recipes.csv\") \n",
    "dataRecipes.head()"
   ]
  },
  {
   "cell_type": "code",
   "execution_count": 21,
   "id": "af3bfc20",
   "metadata": {},
   "outputs": [
    {
     "data": {
      "text/plain": [
       "(9944, 51)"
      ]
     },
     "execution_count": 21,
     "metadata": {},
     "output_type": "execute_result"
    }
   ],
   "source": [
    "dataRecipes.shape"
   ]
  },
  {
   "cell_type": "code",
   "execution_count": 22,
   "id": "efdcdbe8",
   "metadata": {},
   "outputs": [
    {
     "name": "stdout",
     "output_type": "stream",
     "text": [
      "<class 'pandas.core.frame.DataFrame'>\n",
      "RangeIndex: 9944 entries, 0 to 9943\n",
      "Data columns (total 51 columns):\n",
      " #   Column          Non-Null Count  Dtype \n",
      "---  ------          --------------  ----- \n",
      " 0   id              9944 non-null   int64 \n",
      " 1   ingredients/0   9944 non-null   object\n",
      " 2   ingredients/1   9936 non-null   object\n",
      " 3   ingredients/2   9888 non-null   object\n",
      " 4   ingredients/3   9747 non-null   object\n",
      " 5   ingredients/4   9487 non-null   object\n",
      " 6   ingredients/5   9022 non-null   object\n",
      " 7   ingredients/6   8342 non-null   object\n",
      " 8   ingredients/7   7501 non-null   object\n",
      " 9   ingredients/8   6622 non-null   object\n",
      " 10  ingredients/9   5665 non-null   object\n",
      " 11  ingredients/10  4748 non-null   object\n",
      " 12  ingredients/11  3901 non-null   object\n",
      " 13  ingredients/12  3131 non-null   object\n",
      " 14  ingredients/13  2425 non-null   object\n",
      " 15  ingredients/14  1871 non-null   object\n",
      " 16  ingredients/15  1442 non-null   object\n",
      " 17  ingredients/16  1050 non-null   object\n",
      " 18  ingredients/17  755 non-null    object\n",
      " 19  ingredients/18  540 non-null    object\n",
      " 20  ingredients/19  374 non-null    object\n",
      " 21  ingredients/20  263 non-null    object\n",
      " 22  ingredients/21  194 non-null    object\n",
      " 23  ingredients/22  148 non-null    object\n",
      " 24  ingredients/23  102 non-null    object\n",
      " 25  ingredients/24  72 non-null     object\n",
      " 26  ingredients/25  53 non-null     object\n",
      " 27  ingredients/26  39 non-null     object\n",
      " 28  ingredients/27  31 non-null     object\n",
      " 29  ingredients/28  24 non-null     object\n",
      " 30  ingredients/29  15 non-null     object\n",
      " 31  ingredients/30  13 non-null     object\n",
      " 32  ingredients/31  9 non-null      object\n",
      " 33  ingredients/32  7 non-null      object\n",
      " 34  ingredients/33  5 non-null      object\n",
      " 35  ingredients/34  4 non-null      object\n",
      " 36  ingredients/35  4 non-null      object\n",
      " 37  ingredients/36  3 non-null      object\n",
      " 38  ingredients/37  3 non-null      object\n",
      " 39  ingredients/38  2 non-null      object\n",
      " 40  ingredients/39  2 non-null      object\n",
      " 41  ingredients/40  2 non-null      object\n",
      " 42  ingredients/41  1 non-null      object\n",
      " 43  ingredients/42  1 non-null      object\n",
      " 44  ingredients/43  1 non-null      object\n",
      " 45  ingredients/44  1 non-null      object\n",
      " 46  ingredients/45  1 non-null      object\n",
      " 47  ingredients/46  1 non-null      object\n",
      " 48  ingredients/47  1 non-null      object\n",
      " 49  ingredients/48  1 non-null      object\n",
      " 50  ingredients/49  1 non-null      object\n",
      "dtypes: int64(1), object(50)\n",
      "memory usage: 3.9+ MB\n"
     ]
    }
   ],
   "source": [
    "#to check data types\n",
    "dataRecipes.info()"
   ]
  },
  {
   "cell_type": "code",
   "execution_count": null,
   "id": "b5705f4b",
   "metadata": {},
   "outputs": [],
   "source": []
  }
 ],
 "metadata": {
  "kernelspec": {
   "display_name": "Python 3 (ipykernel)",
   "language": "python",
   "name": "python3"
  },
  "language_info": {
   "codemirror_mode": {
    "name": "ipython",
    "version": 3
   },
   "file_extension": ".py",
   "mimetype": "text/x-python",
   "name": "python",
   "nbconvert_exporter": "python",
   "pygments_lexer": "ipython3",
   "version": "3.9.12"
  }
 },
 "nbformat": 4,
 "nbformat_minor": 5
}
